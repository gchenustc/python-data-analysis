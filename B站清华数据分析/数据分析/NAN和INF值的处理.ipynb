{
 "cells": [
  {
   "cell_type": "code",
   "execution_count": 2,
   "id": "cec577f2",
   "metadata": {},
   "outputs": [],
   "source": [
    "import numpy as np"
   ]
  },
  {
   "cell_type": "code",
   "execution_count": 9,
   "id": "4727235d",
   "metadata": {},
   "outputs": [
    {
     "data": {
      "text/plain": [
       "array([[4., 7., 7., 3., 4.],\n",
       "       [3., 3., 8., 5., 8.],\n",
       "       [7., 4., 7., 6., 1.]])"
      ]
     },
     "execution_count": 9,
     "metadata": {},
     "output_type": "execute_result"
    }
   ],
   "source": [
    "data = np.random.randint(1,10,size=(3,5)).astype(np.float64)\n",
    "data"
   ]
  },
  {
   "cell_type": "code",
   "execution_count": 10,
   "id": "535677ca",
   "metadata": {},
   "outputs": [
    {
     "data": {
      "text/plain": [
       "array([[ 4., nan,  7.,  3.,  4.],\n",
       "       [ 3.,  3.,  8.,  5.,  8.],\n",
       "       [ 7.,  4.,  7., nan,  1.]])"
      ]
     },
     "execution_count": 10,
     "metadata": {},
     "output_type": "execute_result"
    }
   ],
   "source": [
    "data[0,1]=np.nan\n",
    "data[2,3]=np.nan\n",
    "data"
   ]
  },
  {
   "cell_type": "code",
   "execution_count": 11,
   "id": "ef43df63",
   "metadata": {},
   "outputs": [
    {
     "data": {
      "text/plain": [
       "array([[False,  True, False, False, False],\n",
       "       [False, False, False, False, False],\n",
       "       [False, False, False,  True, False]])"
      ]
     },
     "execution_count": 11,
     "metadata": {},
     "output_type": "execute_result"
    }
   ],
   "source": [
    "np.isnan(data)"
   ]
  },
  {
   "cell_type": "code",
   "execution_count": 15,
   "id": "ea5ededa",
   "metadata": {},
   "outputs": [
    {
     "data": {
      "text/plain": [
       "array([4., 7., 3., 4., 3., 3., 8., 5., 8., 7., 4., 7., 1.])"
      ]
     },
     "execution_count": 15,
     "metadata": {},
     "output_type": "execute_result"
    }
   ],
   "source": [
    "data[np.isnan(data)]\n"
   ]
  },
  {
   "cell_type": "code",
   "execution_count": 16,
   "id": "9945d1f9",
   "metadata": {},
   "outputs": [
    {
     "data": {
      "text/plain": [
       "array([4., 7., 3., 4., 3., 3., 8., 5., 8., 7., 4., 7., 1.])"
      ]
     },
     "execution_count": 16,
     "metadata": {},
     "output_type": "execute_result"
    }
   ],
   "source": [
    "data[~np.isnan(data)]"
   ]
  },
  {
   "cell_type": "code",
   "execution_count": 17,
   "id": "289552d4",
   "metadata": {},
   "outputs": [
    {
     "data": {
      "text/plain": [
       "(array([0, 2], dtype=int64), array([1, 3], dtype=int64))"
      ]
     },
     "execution_count": 17,
     "metadata": {},
     "output_type": "execute_result"
    }
   ],
   "source": [
    "np.where(np.isnan(data))"
   ]
  },
  {
   "cell_type": "code",
   "execution_count": 18,
   "id": "6fdd005c",
   "metadata": {},
   "outputs": [
    {
     "data": {
      "text/plain": [
       "array([0, 2], dtype=int64)"
      ]
     },
     "execution_count": 18,
     "metadata": {},
     "output_type": "execute_result"
    }
   ],
   "source": [
    "np.where(np.isnan(data))[0]"
   ]
  },
  {
   "cell_type": "code",
   "execution_count": 19,
   "id": "c915c0c9",
   "metadata": {},
   "outputs": [
    {
     "data": {
      "text/plain": [
       "array([[ 4., nan,  7.,  3.,  4.],\n",
       "       [ 7.,  4.,  7., nan,  1.]])"
      ]
     },
     "execution_count": 19,
     "metadata": {},
     "output_type": "execute_result"
    }
   ],
   "source": [
    "np.delete(data,1,axis=0)"
   ]
  },
  {
   "cell_type": "code",
   "execution_count": 24,
   "id": "2e0f90a3",
   "metadata": {},
   "outputs": [
    {
     "data": {
      "text/plain": [
       "array([[3., 3., 8., 5., 8.]])"
      ]
     },
     "execution_count": 24,
     "metadata": {},
     "output_type": "execute_result"
    }
   ],
   "source": [
    "np.delete(data,np.where(np.isnan(data))[0],axis=0)"
   ]
  },
  {
   "cell_type": "code",
   "execution_count": 33,
   "id": "06efd04d",
   "metadata": {},
   "outputs": [
    {
     "data": {
      "text/plain": [
       "array([['59', '89'],\n",
       "       ['90', '32'],\n",
       "       ['78', '45.5'],\n",
       "       ['34', ''],\n",
       "       ['', '56'],\n",
       "       ['23', '56']], dtype='<U4')"
      ]
     },
     "execution_count": 33,
     "metadata": {},
     "output_type": "execute_result"
    }
   ],
   "source": [
    "scores = np.loadtxt(\"nan_scores.csv\",delimiter=\",\",skiprows=1,encoding=\"utf-8\",dtype=str)\n",
    "scores"
   ]
  },
  {
   "cell_type": "code",
   "execution_count": 37,
   "id": "9927044f",
   "metadata": {},
   "outputs": [
    {
     "data": {
      "text/plain": [
       "array([['59', '89'],\n",
       "       ['90', '32'],\n",
       "       ['78', '45.5'],\n",
       "       ['34', 'nan'],\n",
       "       ['nan', '56'],\n",
       "       ['23', '56']], dtype='<U4')"
      ]
     },
     "execution_count": 37,
     "metadata": {},
     "output_type": "execute_result"
    }
   ],
   "source": [
    "scores[scores==\"\"]=np.nan\n",
    "scores"
   ]
  },
  {
   "cell_type": "code",
   "execution_count": 55,
   "id": "8addc21c",
   "metadata": {},
   "outputs": [
    {
     "data": {
      "text/plain": [
       "array([[59. , 89. ],\n",
       "       [90. , 32. ],\n",
       "       [78. , 45.5],\n",
       "       [34. ,  0. ],\n",
       "       [ 0. , 56. ],\n",
       "       [23. , 56. ]])"
      ]
     },
     "execution_count": 55,
     "metadata": {},
     "output_type": "execute_result"
    }
   ],
   "source": [
    "scores1=scores.astype(np.float64)\n",
    "scores1"
   ]
  },
  {
   "cell_type": "code",
   "execution_count": 56,
   "id": "9bfa35e5",
   "metadata": {},
   "outputs": [
    {
     "data": {
      "text/plain": [
       "array([[59. , 89. ],\n",
       "       [90. , 32. ],\n",
       "       [78. , 45.5],\n",
       "       [34. ,  0. ],\n",
       "       [ 0. , 56. ],\n",
       "       [23. , 56. ]])"
      ]
     },
     "execution_count": 56,
     "metadata": {},
     "output_type": "execute_result"
    }
   ],
   "source": [
    "scores1[np.isnan(scores1)]=0\n",
    "scores1"
   ]
  },
  {
   "cell_type": "code",
   "execution_count": 57,
   "id": "c93b7dc1",
   "metadata": {},
   "outputs": [
    {
     "data": {
      "text/plain": [
       "array([-108,  122,  123,   34,   56,   79], dtype=int8)"
      ]
     },
     "execution_count": 57,
     "metadata": {},
     "output_type": "execute_result"
    }
   ],
   "source": [
    "scores1.sum(axis=1).astype(np.int8)"
   ]
  },
  {
   "cell_type": "code",
   "execution_count": 59,
   "id": "9522b696",
   "metadata": {},
   "outputs": [
    {
     "data": {
      "text/plain": [
       "(6, 2)"
      ]
     },
     "execution_count": 59,
     "metadata": {},
     "output_type": "execute_result"
    }
   ],
   "source": [
    "scores1.shape"
   ]
  },
  {
   "cell_type": "code",
   "execution_count": 63,
   "id": "b0d357b4",
   "metadata": {},
   "outputs": [
    {
     "data": {
      "text/plain": [
       "array([[59. , 89. ],\n",
       "       [90. , 32. ],\n",
       "       [78. , 45.5],\n",
       "       [34. ,  nan],\n",
       "       [ nan, 56. ],\n",
       "       [23. , 56. ]])"
      ]
     },
     "execution_count": 63,
     "metadata": {},
     "output_type": "execute_result"
    }
   ],
   "source": [
    "scores1[scores1==0]=np.nan\n",
    "scores1"
   ]
  },
  {
   "cell_type": "code",
   "execution_count": 69,
   "id": "6b0b5ecf",
   "metadata": {},
   "outputs": [
    {
     "data": {
      "text/plain": [
       "array([[59. , 89. ],\n",
       "       [90. , 32. ],\n",
       "       [78. , 45.5],\n",
       "       [34. , 55.7],\n",
       "       [56.8, 56. ],\n",
       "       [23. , 56. ]])"
      ]
     },
     "execution_count": 69,
     "metadata": {},
     "output_type": "execute_result"
    }
   ],
   "source": [
    "for col_index in range(scores1.shape[1]):\n",
    "    col=scores1[:,col_index]\n",
    "    non_nan_col=col[~np.isnan(col)]\n",
    "    mean_=non_nan_col.mean()\n",
    "    col[np.isnan(col)]=mean_\n",
    "scores1\n",
    "    "
   ]
  },
  {
   "cell_type": "code",
   "execution_count": null,
   "id": "9a694e60",
   "metadata": {},
   "outputs": [],
   "source": []
  }
 ],
 "metadata": {
  "kernelspec": {
   "display_name": "Python 3",
   "language": "python",
   "name": "python3"
  },
  "language_info": {
   "codemirror_mode": {
    "name": "ipython",
    "version": 3
   },
   "file_extension": ".py",
   "mimetype": "text/x-python",
   "name": "python",
   "nbconvert_exporter": "python",
   "pygments_lexer": "ipython3",
   "version": "3.8.8"
  }
 },
 "nbformat": 4,
 "nbformat_minor": 5
}
