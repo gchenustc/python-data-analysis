{
 "cells": [
  {
   "cell_type": "code",
   "execution_count": 1,
   "id": "7aeddd7e",
   "metadata": {},
   "outputs": [],
   "source": [
    "import pandas as pd\n",
    "import numpy as np\n",
    "import sklearn\n",
    "from sklearn.model_selection import train_test_split\n",
    "from sklearn.feature_extraction import DictVectorizer\n",
    "from sklearn.tree import DecisionTreeClassifier\n",
    "from sklearn.ensemble import RandomForestClassifier"
   ]
  },
  {
   "cell_type": "code",
   "execution_count": 37,
   "id": "b37e3a9d",
   "metadata": {},
   "outputs": [
    {
     "name": "stderr",
     "output_type": "stream",
     "text": [
      "E:\\app\\anaconda3\\lib\\site-packages\\pandas\\core\\series.py:4463: SettingWithCopyWarning: \n",
      "A value is trying to be set on a copy of a slice from a DataFrame\n",
      "\n",
      "See the caveats in the documentation: https://pandas.pydata.org/pandas-docs/stable/user_guide/indexing.html#returning-a-view-versus-a-copy\n",
      "  return super().fillna(\n"
     ]
    }
   ],
   "source": [
    "# 下面的处理和《决策树》的部分一样\n",
    "titanic = pd.read_csv(\"data/titanic.csv\")\n",
    "# 数据处理\n",
    "    # 筛选对target(生存率)有影响的features\n",
    "features_pre = titanic[[\"sex\",\"age\",\"class\"]]\n",
    "targets_pre = titanic[[\"alive\"]]\n",
    "    # 把\"age\"特征值中的nan项用平均值填充\n",
    "features_pre[\"age\"].fillna(int(features_pre[\"age\"].mean()),inplace=True)\n",
    "# train_test_split\n",
    "x_train,x_test,y_train,y_test = train_test_split(features_pre,targets_pre,train_size=0.80)\n",
    "# sklearn.feature_extration.DictVectorizer 的应用\n",
    "    # 首先先将x_train,x_test转变为Dict格式\n",
    "x_train = x_train.to_dict(orient=\"records\")\n",
    "x_test = x_test.to_dict(orient=\"records\")\n",
    "    # 将train和test的data用DictVectorizer处理\n",
    "vect = DictVectorizer()\n",
    "vect.fit(x_train)\n",
    "x_train_transform = vect.transform(x_train)\n",
    "x_test_transform = vect.transform(x_test)"
   ]
  },
  {
   "cell_type": "code",
   "execution_count": 40,
   "id": "fedfb7ef",
   "metadata": {},
   "outputs": [
    {
     "name": "stderr",
     "output_type": "stream",
     "text": [
      "<ipython-input-40-dfcd1350e56a>:4: DataConversionWarning: A column-vector y was passed when a 1d array was expected. Please change the shape of y to (n_samples,), for example using ravel().\n",
      "  rf.fit(x_train_transform,y_train)\n"
     ]
    },
    {
     "data": {
      "text/plain": [
       "0.8379888268156425"
      ]
     },
     "execution_count": 40,
     "metadata": {},
     "output_type": "execute_result"
    }
   ],
   "source": [
    "# 随机森林训练及其评分\n",
    "# 参数介绍 n_estimators:决策森林树木数量，criteria:分割特征的方法，默认为gini。max_depth:树的最大深度，bootstrip:是否有放回的抽样默认为是\n",
    "rf = RandomForestClassifier(n_estimators=100)\n",
    "rf.fit(x_train_transform,y_train)\n",
    "rf.score(x_test_transform,y_test)"
   ]
  }
 ],
 "metadata": {
  "kernelspec": {
   "display_name": "Python 3",
   "language": "python",
   "name": "python3"
  },
  "language_info": {
   "codemirror_mode": {
    "name": "ipython",
    "version": 3
   },
   "file_extension": ".py",
   "mimetype": "text/x-python",
   "name": "python",
   "nbconvert_exporter": "python",
   "pygments_lexer": "ipython3",
   "version": "3.8.8"
  }
 },
 "nbformat": 4,
 "nbformat_minor": 5
}
