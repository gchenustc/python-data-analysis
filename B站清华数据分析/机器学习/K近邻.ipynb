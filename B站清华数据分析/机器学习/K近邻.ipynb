{
 "cells": [
  {
   "cell_type": "code",
   "execution_count": 192,
   "id": "7eacac62",
   "metadata": {},
   "outputs": [],
   "source": [
    "import pandas as pd\n",
    "import numpy as np\n",
    "import seaborn as sns\n",
    "import sklearn\n",
    "from sklearn.neighbors import KNeighborsClassifier\n",
    "from sklearn.model_selection import train_test_split\n",
    "from sklearn.preprocessing import StandardScaler"
   ]
  },
  {
   "cell_type": "markdown",
   "id": "4fa6b36d",
   "metadata": {},
   "source": [
    "# 认识K近邻"
   ]
  },
  {
   "cell_type": "code",
   "execution_count": 191,
   "id": "4b122b38",
   "metadata": {},
   "outputs": [
    {
     "name": "stderr",
     "output_type": "stream",
     "text": [
      "E:\\app\\anaconda3\\lib\\site-packages\\seaborn\\_decorators.py:36: FutureWarning: Pass the following variables as keyword args: x, y. From version 0.12, the only valid positional argument will be `data`, and passing other arguments without an explicit keyword will result in an error or misinterpretation.\n",
      "  warnings.warn(\n"
     ]
    },
    {
     "data": {
      "image/png": "[encoded data removed]",
      "text/plain": [
       "<Figure size 432x288 with 1 Axes>"
      ]
     },
     "metadata": {
      "needs_background": "light"
     },
     "output_type": "display_data"
    }
   ],
   "source": [
    "data_x = np.array([\n",
    "    [0,0],\n",
    "    [1,1],\n",
    "    [1,0],\n",
    "    [4,5],\n",
    "    [4,4],\n",
    "    [5,5]\n",
    "])\n",
    "data_y=[\"A\",\"A\",\"A\",\"B\",\"B\",\"B\"]\n",
    "axis = sns.scatterplot(data_x[:,0],data_x[:,1])\n",
    "for x,y,text in zip(data_x[:,0],data_x[:,1],data_y):\n",
    "    axis.text(x,y,text)"
   ]
  },
  {
   "cell_type": "code",
   "execution_count": 77,
   "id": "9c83e343",
   "metadata": {},
   "outputs": [
    {
     "data": {
      "text/plain": [
       "array(['B'], dtype='<U1')"
      ]
     },
     "execution_count": 77,
     "metadata": {},
     "output_type": "execute_result"
    }
   ],
   "source": [
    "# n_neighbors即为k近邻中的k点数，默认为5,小于等于样本数\n",
    "knn = KNeighborsClassifier(n_neighbors=4)\n",
    "knn.fit(data_x,data_y)\n",
    "knn.predict([[4,3]])"
   ]
  },
  {
   "cell_type": "markdown",
   "id": "942db9cb",
   "metadata": {},
   "source": [
    "# 实例"
   ]
  },
  {
   "cell_type": "code",
   "execution_count": 223,
   "id": "f075362e",
   "metadata": {},
   "outputs": [
    {
     "data": {
      "text/html": [
       "<div>\n",
       "<style scoped>\n",
       "    .dataframe tbody tr th:only-of-type {\n",
       "        vertical-align: middle;\n",
       "    }\n",
       "\n",
       "    .dataframe tbody tr th {\n",
       "        vertical-align: top;\n",
       "    }\n",
       "\n",
       "    .dataframe thead th {\n",
       "        text-align: right;\n",
       "    }\n",
       "</style>\n",
       "<table border=\"1\" class=\"dataframe\">\n",
       "  <thead>\n",
       "    <tr style=\"text-align: right;\">\n",
       "      <th></th>\n",
       "      <th>filghting_Time</th>\n",
       "      <th>IceCreams</th>\n",
       "      <th>game_time</th>\n",
       "      <th>outcome</th>\n",
       "    </tr>\n",
       "  </thead>\n",
       "  <tbody>\n",
       "    <tr>\n",
       "      <th>0</th>\n",
       "      <td>40920</td>\n",
       "      <td>8.326976</td>\n",
       "      <td>0.953952</td>\n",
       "      <td>largeDoses</td>\n",
       "    </tr>\n",
       "    <tr>\n",
       "      <th>1</th>\n",
       "      <td>14488</td>\n",
       "      <td>7.153469</td>\n",
       "      <td>1.673904</td>\n",
       "      <td>smallDoses</td>\n",
       "    </tr>\n",
       "  </tbody>\n",
       "</table>\n",
       "</div>"
      ],
      "text/plain": [
       "   filghting_Time  IceCreams  game_time     outcome\n",
       "0           40920   8.326976   0.953952  largeDoses\n",
       "1           14488   7.153469   1.673904  smallDoses"
      ]
     },
     "execution_count": 223,
     "metadata": {},
     "output_type": "execute_result"
    }
   ],
   "source": [
    "data = pd.read_csv(\"data/datingTextSet.txt\",sep=\"\\t\",header=None,names=[\"filghting_Time\",\"IceCreams\",\"game_time\",\"outcome\"])\n",
    "data.head(2)"
   ]
  },
  {
   "cell_type": "code",
   "execution_count": 224,
   "id": "fdd0f476",
   "metadata": {},
   "outputs": [
    {
     "data": {
      "text/plain": [
       "(   filghting_Time  IceCreams  game_time\n",
       " 0           40920   8.326976   0.953952\n",
       " 1           14488   7.153469   1.673904,\n",
       " 1000)"
      ]
     },
     "execution_count": 224,
     "metadata": {},
     "output_type": "execute_result"
    }
   ],
   "source": [
    "data_x = data.drop(\"outcome\",axis=1)\n",
    "data_y = data[\"outcome\"]\n",
    "data_x.head(2),len(data_x)"
   ]
  },
  {
   "cell_type": "code",
   "execution_count": 225,
   "id": "b0b1ccbb",
   "metadata": {
    "scrolled": true
   },
   "outputs": [
    {
     "data": {
      "text/plain": [
       "(0.788, array(['largeDoses'], dtype=object))"
      ]
     },
     "execution_count": 225,
     "metadata": {},
     "output_type": "execute_result"
    }
   ],
   "source": [
    "#knn.score是训练评分，第一个参数是训练样本，第二个参数是训练结果的准确值\n",
    "knn = KNeighborsClassifier(n_neighbors=200)\n",
    "x_train,x_test,y_train,y_test = sklearn.model_selection.train_test_split(data_x,data_y,train_size=0.50)\n",
    "knn.fit(x_train,y_train)\n",
    "knn.score(x_test,y_test),knn.predict([[50000,0.5,0.5]])"
   ]
  },
  {
   "cell_type": "markdown",
   "id": "46ba9f4a",
   "metadata": {},
   "source": [
    "# 标准化"
   ]
  },
  {
   "cell_type": "code",
   "execution_count": 218,
   "id": "393cce90",
   "metadata": {},
   "outputs": [
    {
     "data": {
      "text/plain": [
       "0.946"
      ]
     },
     "execution_count": 218,
     "metadata": {},
     "output_type": "execute_result"
    }
   ],
   "source": [
    "# 标准化\n",
    "standard = StandardScaler()\n",
    "x_train = standard.fit_transform(x_train)\n",
    "x_test = standard.fit_transform(x_test)\n",
    "# 训练\n",
    "knn = KNeighborsClassifier(n_neighbors=20)\n",
    "knn.fit(x_train,y_train)\n",
    "knn.score(x_test,y_test)"
   ]
  }
 ],
 "metadata": {
  "kernelspec": {
   "display_name": "Python 3",
   "language": "python",
   "name": "python3"
  },
  "language_info": {
   "codemirror_mode": {
    "name": "ipython",
    "version": 3
   },
   "file_extension": ".py",
   "mimetype": "text/x-python",
   "name": "python",
   "nbconvert_exporter": "python",
   "pygments_lexer": "ipython3",
   "version": "3.8.8"
  }
 },
 "nbformat": 4,
 "nbformat_minor": 5
}
