{
 "cells": [
  {
   "cell_type": "code",
   "execution_count": 1,
   "id": "75c3572e",
   "metadata": {},
   "outputs": [],
   "source": [
    "from sklearn.feature_extraction.text import CountVectorizer\n",
    "from sklearn.datasets import fetch_20newsgroups\n",
    "from sklearn.model_selection import train_test_split\n",
    "from sklearn.naive_bayes import MultinomialNB"
   ]
  },
  {
   "cell_type": "markdown",
   "id": "76eb5526",
   "metadata": {},
   "source": [
    "# 多项式算法处理离散的数据，而高斯算法处理连续的数据"
   ]
  },
  {
   "cell_type": "code",
   "execution_count": 2,
   "id": "6a6379f9",
   "metadata": {},
   "outputs": [
    {
     "name": "stdout",
     "output_type": "stream",
     "text": [
      "['happy', 'is', 'it', 'life', 'love', 'makes', 'me', 'need', 'python', 'short']\n",
      "  (0, 3)\t1\n",
      "  (0, 1)\t1\n",
      "  (0, 9)\t1\n",
      "  (0, 7)\t1\n",
      "  (0, 8)\t1\n",
      "  (1, 8)\t1\n",
      "  (1, 4)\t1\n",
      "  (1, 2)\t1\n",
      "  (1, 5)\t1\n",
      "  (1, 6)\t1\n",
      "  (1, 0)\t1\n",
      "[[0 1 0 1 0 0 0 1 1 1]\n",
      " [1 0 1 0 1 1 1 0 1 0]]\n"
     ]
    }
   ],
   "source": [
    "# CountVectorizer()用法教学\n",
    "text1 = 'life is short, i need python'\n",
    "text2 = 'i love python, it makes me happy'\n",
    "vect = CountVectorizer()\n",
    "words = vect.fit_transform([text1,text2])\n",
    "names = vect.get_feature_names()\n",
    "print(names)\n",
    "print(words)\n",
    "print(words.toarray())"
   ]
  },
  {
   "cell_type": "markdown",
   "id": "1553e83a",
   "metadata": {},
   "source": [
    "## 多项式算法案例"
   ]
  },
  {
   "cell_type": "code",
   "execution_count": 16,
   "id": "995b0e08",
   "metadata": {},
   "outputs": [],
   "source": [
    "newsgroup = fetch_20newsgroups(data_home=\"./data\")"
   ]
  },
  {
   "cell_type": "code",
   "execution_count": 17,
   "id": "76eee62c",
   "metadata": {},
   "outputs": [
    {
     "data": {
      "text/plain": [
       "0.823259102156239"
      ]
     },
     "execution_count": 17,
     "metadata": {},
     "output_type": "execute_result"
    }
   ],
   "source": [
    "# 数据处理\n",
    "x_train,x_test,y_train,y_test = train_test_split(newsgroup.data,newsgroup.target)\n",
    "vect_news = CountVectorizer()\n",
    "# 先对x_train提取（fit）关键词，再进行转换(transform)。因为关键词已经提取过了，对x_test仅需要转换就行了\n",
    "x_train = vect_news.fit_transform(x_train)\n",
    "x_test = vect_news.transform(x_test)\n",
    "\n",
    "#训练\n",
    "nb = MultinomialNB()\n",
    "nb.fit(x_train,y_train)\n",
    "nb.score(x_test,y_test)"
   ]
  },
  {
   "cell_type": "code",
   "execution_count": 18,
   "id": "36216c48",
   "metadata": {},
   "outputs": [
    {
     "name": "stdout",
     "output_type": "stream",
     "text": [
      "[14]\n",
      "sci.med\n"
     ]
    }
   ],
   "source": [
    "# 实例\n",
    "with open(r\"data/test_artical_bayes.txt\",\"r\",encoding=\"utf-8\") as f:\n",
    "    artical = f.read()\n",
    "arti = vect_news.transform([artical])\n",
    "print(nb.predict(arti))\n",
    "print(newsgroup.target_names[13])"
   ]
  },
  {
   "cell_type": "code",
   "execution_count": 19,
   "id": "f4d3d4ed",
   "metadata": {
    "scrolled": true
   },
   "outputs": [
    {
     "name": "stdout",
     "output_type": "stream",
     "text": [
      "[7 4 4 ... 3 1 8]\n"
     ]
    }
   ],
   "source": [
    "print(newsgroup.target)"
   ]
  },
  {
   "cell_type": "code",
   "execution_count": null,
   "id": "ffa79e6f",
   "metadata": {},
   "outputs": [],
   "source": []
  }
 ],
 "metadata": {
  "kernelspec": {
   "display_name": "Python 3",
   "language": "python",
   "name": "python3"
  },
  "language_info": {
   "codemirror_mode": {
    "name": "ipython",
    "version": 3
   },
   "file_extension": ".py",
   "mimetype": "text/x-python",
   "name": "python",
   "nbconvert_exporter": "python",
   "pygments_lexer": "ipython3",
   "version": "3.8.8"
  }
 },
 "nbformat": 4,
 "nbformat_minor": 5
}
