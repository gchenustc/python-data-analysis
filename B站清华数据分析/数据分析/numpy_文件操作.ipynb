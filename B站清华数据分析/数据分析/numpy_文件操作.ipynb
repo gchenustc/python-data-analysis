{
 "cells": [
  {
   "cell_type": "code",
   "execution_count": 2,
   "id": "e5654468",
   "metadata": {},
   "outputs": [],
   "source": [
    "import numpy as np"
   ]
  },
  {
   "cell_type": "code",
   "execution_count": 7,
   "id": "866c78b4",
   "metadata": {},
   "outputs": [
    {
     "data": {
      "text/plain": [
       "array([[0.37230044, 0.82654436],\n",
       "       [0.9845884 , 0.43039359],\n",
       "       [0.60138606, 0.20019108],\n",
       "       [0.21221411, 0.24030531],\n",
       "       [0.90664915, 0.39661843],\n",
       "       [0.29496655, 0.60941688],\n",
       "       [0.86911373, 0.16326724],\n",
       "       [0.39125839, 0.09775122],\n",
       "       [0.06820659, 0.2327319 ],\n",
       "       [0.4129462 , 0.06174095]])"
      ]
     },
     "execution_count": 7,
     "metadata": {},
     "output_type": "execute_result"
    }
   ],
   "source": [
    "a=np.random.rand(10,2)\n",
    "a"
   ]
  },
  {
   "cell_type": "code",
   "execution_count": 12,
   "id": "25cd1124",
   "metadata": {},
   "outputs": [],
   "source": [
    "np.savetxt(\"array.csv\",a,fmt=\"%.2f\",delimiter=\",\",header=\"语文,数学\",comments=\"\")"
   ]
  },
  {
   "cell_type": "code",
   "execution_count": 19,
   "id": "e44af9ee",
   "metadata": {},
   "outputs": [
    {
     "data": {
      "text/plain": [
       "array([[0.37, 0.83],\n",
       "       [0.98, 0.43],\n",
       "       [0.6 , 0.2 ],\n",
       "       [0.21, 0.24],\n",
       "       [0.91, 0.4 ],\n",
       "       [0.29, 0.61],\n",
       "       [0.87, 0.16],\n",
       "       [0.39, 0.1 ],\n",
       "       [0.07, 0.23],\n",
       "       [0.41, 0.06]])"
      ]
     },
     "execution_count": 19,
     "metadata": {},
     "output_type": "execute_result"
    }
   ],
   "source": [
    "np.loadtxt(\"array.csv\",delimiter=\",\",skiprows=1)"
   ]
  },
  {
   "cell_type": "code",
   "execution_count": 20,
   "id": "e527c9a8",
   "metadata": {},
   "outputs": [],
   "source": [
    "a1=np.random.randint(0,10,size=(3,3,3))\n",
    "np.save(\"a1\",a1)"
   ]
  },
  {
   "cell_type": "code",
   "execution_count": 23,
   "id": "f772724d",
   "metadata": {},
   "outputs": [
    {
     "data": {
      "text/plain": [
       "array([[[0, 5, 9],\n",
       "        [2, 7, 0],\n",
       "        [4, 2, 3]],\n",
       "\n",
       "       [[6, 2, 1],\n",
       "        [1, 7, 9],\n",
       "        [8, 9, 3]],\n",
       "\n",
       "       [[4, 5, 4],\n",
       "        [5, 7, 4],\n",
       "        [6, 8, 1]]])"
      ]
     },
     "execution_count": 23,
     "metadata": {},
     "output_type": "execute_result"
    }
   ],
   "source": [
    "np.load(\"a1.npy\")"
   ]
  },
  {
   "cell_type": "code",
   "execution_count": null,
   "id": "eabd0d86",
   "metadata": {},
   "outputs": [],
   "source": []
  }
 ],
 "metadata": {
  "kernelspec": {
   "display_name": "Python 3",
   "language": "python",
   "name": "python3"
  },
  "language_info": {
   "codemirror_mode": {
    "name": "ipython",
    "version": 3
   },
   "file_extension": ".py",
   "mimetype": "text/x-python",
   "name": "python",
   "nbconvert_exporter": "python",
   "pygments_lexer": "ipython3",
   "version": "3.8.8"
  }
 },
 "nbformat": 4,
 "nbformat_minor": 5
}
