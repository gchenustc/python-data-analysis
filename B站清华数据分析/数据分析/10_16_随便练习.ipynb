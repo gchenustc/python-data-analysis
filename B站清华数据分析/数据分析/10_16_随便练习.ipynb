{
 "cells": [
  {
   "cell_type": "code",
   "execution_count": 1,
   "id": "25e14f26",
   "metadata": {},
   "outputs": [],
   "source": [
    "import numpy as np"
   ]
  },
  {
   "cell_type": "code",
   "execution_count": 2,
   "id": "2c447669",
   "metadata": {},
   "outputs": [],
   "source": [
    "a=np.arange(16).reshape(4,4)"
   ]
  },
  {
   "cell_type": "code",
   "execution_count": 3,
   "id": "c65ae419",
   "metadata": {},
   "outputs": [
    {
     "data": {
      "text/plain": [
       "array([[False, False, False, False],\n",
       "       [False,  True,  True,  True],\n",
       "       [ True,  True,  True,  True],\n",
       "       [ True,  True,  True,  True]])"
      ]
     },
     "execution_count": 3,
     "metadata": {},
     "output_type": "execute_result"
    }
   ],
   "source": [
    "a>4"
   ]
  },
  {
   "cell_type": "code",
   "execution_count": 5,
   "id": "8682b880",
   "metadata": {},
   "outputs": [
    {
     "data": {
      "text/plain": [
       "array([[ 0,  0,  0,  3],\n",
       "       [ 4,  5,  6,  7],\n",
       "       [ 8,  9, 10, 11],\n",
       "       [12,  0,  0,  0]])"
      ]
     },
     "execution_count": 5,
     "metadata": {},
     "output_type": "execute_result"
    }
   ],
   "source": [
    "a[(a>12)|(a<3)]=0\n",
    "a"
   ]
  },
  {
   "cell_type": "code",
   "execution_count": 7,
   "id": "2f0131ca",
   "metadata": {},
   "outputs": [
    {
     "data": {
      "text/plain": [
       "array([[ 0,  0,  0,  3],\n",
       "       [ 1,  1,  1,  1],\n",
       "       [ 8,  9, 10, 11],\n",
       "       [12,  0,  0,  0]])"
      ]
     },
     "execution_count": 7,
     "metadata": {},
     "output_type": "execute_result"
    }
   ],
   "source": [
    "a[1]=1\n",
    "a"
   ]
  },
  {
   "cell_type": "code",
   "execution_count": 9,
   "id": "69cce9c1",
   "metadata": {},
   "outputs": [
    {
     "data": {
      "text/plain": [
       "array([[1, 1, 1, 1],\n",
       "       [1, 1, 1, 1],\n",
       "       [1, 1, 0, 0],\n",
       "       [0, 1, 1, 1]])"
      ]
     },
     "execution_count": 9,
     "metadata": {},
     "output_type": "execute_result"
    }
   ],
   "source": [
    "np.where(a < 10 ,1 , 0)"
   ]
  },
  {
   "cell_type": "code",
   "execution_count": 10,
   "id": "60f8c446",
   "metadata": {},
   "outputs": [
    {
     "data": {
      "text/plain": [
       "array([[0.40550078, 0.30902418, 0.00175021, 0.97456681],\n",
       "       [0.55330932, 0.5839067 , 0.09486   , 0.63901747],\n",
       "       [0.67338367, 0.68771238, 0.22346851, 0.26711456]])"
      ]
     },
     "execution_count": 10,
     "metadata": {},
     "output_type": "execute_result"
    }
   ],
   "source": [
    "a1=np.random.random((3,4))\n",
    "a1"
   ]
  },
  {
   "cell_type": "code",
   "execution_count": 11,
   "id": "af5e42b0",
   "metadata": {},
   "outputs": [
    {
     "data": {
      "text/plain": [
       "array([[4.05500775, 3.09024185, 0.01750208, 9.74566811],\n",
       "       [5.53309318, 5.83906702, 0.94859999, 6.39017472],\n",
       "       [6.73383673, 6.87712377, 2.23468515, 2.67114562]])"
      ]
     },
     "execution_count": 11,
     "metadata": {},
     "output_type": "execute_result"
    }
   ],
   "source": [
    "a1*10"
   ]
  },
  {
   "cell_type": "code",
   "execution_count": 13,
   "id": "ab36bed3",
   "metadata": {},
   "outputs": [
    {
     "data": {
      "text/plain": [
       "array([[0., 0., 0., 1.],\n",
       "       [1., 1., 0., 1.],\n",
       "       [1., 1., 0., 0.]])"
      ]
     },
     "execution_count": 13,
     "metadata": {},
     "output_type": "execute_result"
    }
   ],
   "source": [
    "a=a1.round()\n",
    "a"
   ]
  },
  {
   "cell_type": "code",
   "execution_count": 17,
   "id": "279a7817",
   "metadata": {},
   "outputs": [
    {
     "data": {
      "text/plain": [
       "array([[0., 0., 0., 1.],\n",
       "       [1., 1., 0., 1.],\n",
       "       [1., 1., 0., 0.]])"
      ]
     },
     "execution_count": 17,
     "metadata": {},
     "output_type": "execute_result"
    }
   ],
   "source": [
    "a"
   ]
  },
  {
   "cell_type": "code",
   "execution_count": 18,
   "id": "e13b7849",
   "metadata": {},
   "outputs": [
    {
     "data": {
      "text/plain": [
       "12"
      ]
     },
     "execution_count": 18,
     "metadata": {},
     "output_type": "execute_result"
    }
   ],
   "source": [
    "a.size"
   ]
  },
  {
   "cell_type": "code",
   "execution_count": 19,
   "id": "e45d72c0",
   "metadata": {},
   "outputs": [
    {
     "data": {
      "text/plain": [
       "8"
      ]
     },
     "execution_count": 19,
     "metadata": {},
     "output_type": "execute_result"
    }
   ],
   "source": [
    "a.itemsize"
   ]
  },
  {
   "cell_type": "code",
   "execution_count": 20,
   "id": "0be1dada",
   "metadata": {},
   "outputs": [
    {
     "data": {
      "text/plain": [
       "(3, 4)"
      ]
     },
     "execution_count": 20,
     "metadata": {},
     "output_type": "execute_result"
    }
   ],
   "source": [
    "a.shape"
   ]
  },
  {
   "cell_type": "code",
   "execution_count": 24,
   "id": "2bfbfae7",
   "metadata": {},
   "outputs": [
    {
     "data": {
      "text/plain": [
       "array([0., 0., 0., 1., 1., 1., 0., 1., 1., 1., 0., 0.])"
      ]
     },
     "execution_count": 24,
     "metadata": {},
     "output_type": "execute_result"
    }
   ],
   "source": [
    "a1=a.reshape((12,))\n",
    "a1"
   ]
  },
  {
   "cell_type": "code",
   "execution_count": 25,
   "id": "670e15d1",
   "metadata": {},
   "outputs": [
    {
     "data": {
      "text/plain": [
       "array([[0., 0., 0., 1.],\n",
       "       [1., 1., 0., 1.],\n",
       "       [1., 1., 0., 0.]])"
      ]
     },
     "execution_count": 25,
     "metadata": {},
     "output_type": "execute_result"
    }
   ],
   "source": [
    "a"
   ]
  },
  {
   "cell_type": "code",
   "execution_count": 26,
   "id": "9db870f6",
   "metadata": {},
   "outputs": [
    {
     "data": {
      "text/plain": [
       "array([0., 0., 0., 1., 1., 1., 0., 1., 1., 1., 0., 0.])"
      ]
     },
     "execution_count": 26,
     "metadata": {},
     "output_type": "execute_result"
    }
   ],
   "source": [
    "a.flatten()"
   ]
  },
  {
   "cell_type": "code",
   "execution_count": 27,
   "id": "abef899a",
   "metadata": {},
   "outputs": [
    {
     "data": {
      "text/plain": [
       "array([[0., 0., 0., 1.],\n",
       "       [1., 1., 0., 1.],\n",
       "       [1., 1., 0., 0.]])"
      ]
     },
     "execution_count": 27,
     "metadata": {},
     "output_type": "execute_result"
    }
   ],
   "source": [
    "a"
   ]
  },
  {
   "cell_type": "code",
   "execution_count": 30,
   "id": "b7b87f7c",
   "metadata": {},
   "outputs": [
    {
     "data": {
      "text/plain": [
       "array([0., 0., 0., 1., 1., 1., 0., 1., 1., 1., 0., 0.])"
      ]
     },
     "execution_count": 30,
     "metadata": {},
     "output_type": "execute_result"
    }
   ],
   "source": [
    "b=a.ravel()\n",
    "b"
   ]
  },
  {
   "cell_type": "code",
   "execution_count": 29,
   "id": "db3ff13c",
   "metadata": {},
   "outputs": [
    {
     "data": {
      "text/plain": [
       "array([[0., 0., 0., 1.],\n",
       "       [1., 1., 0., 1.],\n",
       "       [1., 1., 0., 0.]])"
      ]
     },
     "execution_count": 29,
     "metadata": {},
     "output_type": "execute_result"
    }
   ],
   "source": [
    "a"
   ]
  },
  {
   "cell_type": "code",
   "execution_count": 31,
   "id": "ee867884",
   "metadata": {},
   "outputs": [],
   "source": [
    "b[0:4]=1000"
   ]
  },
  {
   "cell_type": "code",
   "execution_count": 32,
   "id": "4a05e053",
   "metadata": {},
   "outputs": [
    {
     "data": {
      "text/plain": [
       "array([[1000., 1000., 1000., 1000.],\n",
       "       [   1.,    1.,    0.,    1.],\n",
       "       [   1.,    1.,    0.,    0.]])"
      ]
     },
     "execution_count": 32,
     "metadata": {},
     "output_type": "execute_result"
    }
   ],
   "source": [
    "a"
   ]
  },
  {
   "cell_type": "code",
   "execution_count": 34,
   "id": "a166054b",
   "metadata": {},
   "outputs": [
    {
     "data": {
      "text/plain": [
       "array([[ 0.,  1.,  2.,  3.],\n",
       "       [ 4.,  5.,  6.,  7.],\n",
       "       [ 8.,  9., 10., 11.],\n",
       "       [12., 13., 14., 15.]])"
      ]
     },
     "execution_count": 34,
     "metadata": {},
     "output_type": "execute_result"
    }
   ],
   "source": [
    "a1 = np.arange(16.0).reshape(4, 4)\n",
    "a1"
   ]
  },
  {
   "cell_type": "code",
   "execution_count": 35,
   "id": "68a467d7",
   "metadata": {},
   "outputs": [
    {
     "data": {
      "text/plain": [
       "[array([[0., 1., 2., 3.],\n",
       "        [4., 5., 6., 7.]]),\n",
       " array([[ 8.,  9., 10., 11.],\n",
       "        [12., 13., 14., 15.]])]"
      ]
     },
     "execution_count": 35,
     "metadata": {},
     "output_type": "execute_result"
    }
   ],
   "source": [
    "np.split(a1,2)"
   ]
  },
  {
   "cell_type": "code",
   "execution_count": 38,
   "id": "9b71405b",
   "metadata": {},
   "outputs": [
    {
     "data": {
      "text/plain": [
       "[array([], shape=(4, 0), dtype=float64),\n",
       " array([[ 0.,  1.],\n",
       "        [ 4.,  5.],\n",
       "        [ 8.,  9.],\n",
       "        [12., 13.]]),\n",
       " array([[ 2.,  3.],\n",
       "        [ 6.,  7.],\n",
       "        [10., 11.],\n",
       "        [14., 15.]])]"
      ]
     },
     "execution_count": 38,
     "metadata": {},
     "output_type": "execute_result"
    }
   ],
   "source": [
    "np.hsplit(a1,[0,2])"
   ]
  },
  {
   "cell_type": "code",
   "execution_count": 39,
   "id": "aab32f04",
   "metadata": {},
   "outputs": [
    {
     "data": {
      "text/plain": [
       "[array([], shape=(0, 4), dtype=float64),\n",
       " array([[0., 1., 2., 3.],\n",
       "        [4., 5., 6., 7.]]),\n",
       " array([[ 8.,  9., 10., 11.],\n",
       "        [12., 13., 14., 15.]])]"
      ]
     },
     "execution_count": 39,
     "metadata": {},
     "output_type": "execute_result"
    }
   ],
   "source": [
    "np.array_split(a1,[0,2],axis=0)"
   ]
  },
  {
   "cell_type": "code",
   "execution_count": 40,
   "id": "421948ab",
   "metadata": {},
   "outputs": [
    {
     "data": {
      "text/plain": [
       "[array([], shape=(4, 0), dtype=float64),\n",
       " array([[ 0.,  1.],\n",
       "        [ 4.,  5.],\n",
       "        [ 8.,  9.],\n",
       "        [12., 13.]]),\n",
       " array([[ 2.,  3.],\n",
       "        [ 6.,  7.],\n",
       "        [10., 11.],\n",
       "        [14., 15.]])]"
      ]
     },
     "execution_count": 40,
     "metadata": {},
     "output_type": "execute_result"
    }
   ],
   "source": [
    "np.array_split(a1,[0,2],axis=1)"
   ]
  },
  {
   "cell_type": "code",
   "execution_count": 41,
   "id": "68030be5",
   "metadata": {},
   "outputs": [],
   "source": [
    "a1 = np.arange(0,24).reshape((4,6))"
   ]
  },
  {
   "cell_type": "code",
   "execution_count": 44,
   "id": "862b22c2",
   "metadata": {},
   "outputs": [
    {
     "data": {
      "text/plain": [
       "array([[ 0,  6, 12, 18],\n",
       "       [ 1,  7, 13, 19],\n",
       "       [ 2,  8, 14, 20],\n",
       "       [ 3,  9, 15, 21],\n",
       "       [ 4, 10, 16, 22],\n",
       "       [ 5, 11, 17, 23]])"
      ]
     },
     "execution_count": 44,
     "metadata": {},
     "output_type": "execute_result"
    }
   ],
   "source": [
    "a2=a1.transpose()\n",
    "a2"
   ]
  },
  {
   "cell_type": "code",
   "execution_count": 45,
   "id": "3d9312f8",
   "metadata": {},
   "outputs": [
    {
     "data": {
      "text/plain": [
       "array([[ 0,  1,  2,  3,  4,  5],\n",
       "       [ 6,  7,  8,  9, 10, 11],\n",
       "       [12, 13, 14, 15, 16, 17],\n",
       "       [18, 19, 20, 21, 22, 23]])"
      ]
     },
     "execution_count": 45,
     "metadata": {},
     "output_type": "execute_result"
    }
   ],
   "source": [
    "a1"
   ]
  },
  {
   "cell_type": "code",
   "execution_count": 47,
   "id": "75ef7331",
   "metadata": {},
   "outputs": [
    {
     "data": {
      "text/plain": [
       "array([[ 0,  6, 12, 18],\n",
       "       [ 1,  7, 13, 19],\n",
       "       [ 1,  1,  1,  1],\n",
       "       [ 3,  9, 15, 21],\n",
       "       [ 4, 10, 16, 22],\n",
       "       [ 5, 11, 17, 23]])"
      ]
     },
     "execution_count": 47,
     "metadata": {},
     "output_type": "execute_result"
    }
   ],
   "source": [
    "a2[2]=1\n",
    "a2"
   ]
  },
  {
   "cell_type": "code",
   "execution_count": 48,
   "id": "41259a98",
   "metadata": {},
   "outputs": [
    {
     "data": {
      "text/plain": [
       "array([[ 0,  1,  1,  3,  4,  5],\n",
       "       [ 6,  7,  1,  9, 10, 11],\n",
       "       [12, 13,  1, 15, 16, 17],\n",
       "       [18, 19,  1, 21, 22, 23]])"
      ]
     },
     "execution_count": 48,
     "metadata": {},
     "output_type": "execute_result"
    }
   ],
   "source": [
    "a1"
   ]
  },
  {
   "cell_type": "code",
   "execution_count": 51,
   "id": "3c83a8f5",
   "metadata": {},
   "outputs": [
    {
     "data": {
      "text/plain": [
       "array([[ 1,  1,  3],\n",
       "       [ 7,  1,  9],\n",
       "       [13,  1, 15],\n",
       "       [19,  1, 21]])"
      ]
     },
     "execution_count": 51,
     "metadata": {},
     "output_type": "execute_result"
    }
   ],
   "source": [
    "a1[:,[1,2,3]]"
   ]
  },
  {
   "cell_type": "code",
   "execution_count": 52,
   "id": "a34e078e",
   "metadata": {},
   "outputs": [
    {
     "data": {
      "text/plain": [
       "array([[1],\n",
       "       [1]])"
      ]
     },
     "execution_count": 52,
     "metadata": {},
     "output_type": "execute_result"
    }
   ],
   "source": [
    "a1[0:2,2:3]"
   ]
  },
  {
   "cell_type": "code",
   "execution_count": 53,
   "id": "a7087356",
   "metadata": {},
   "outputs": [
    {
     "data": {
      "text/plain": [
       "7"
      ]
     },
     "execution_count": 53,
     "metadata": {},
     "output_type": "execute_result"
    }
   ],
   "source": [
    "a1[1,1]"
   ]
  },
  {
   "cell_type": "code",
   "execution_count": 55,
   "id": "5928e14e",
   "metadata": {},
   "outputs": [
    {
     "data": {
      "text/plain": [
       "array([[ 1,  1,  1,  3,  4,  5],\n",
       "       [ 6,  1,  1,  9, 10, 11],\n",
       "       [12, 13,  1, 15, 16, 17],\n",
       "       [18, 19,  1,  1, 22, 23]])"
      ]
     },
     "execution_count": 55,
     "metadata": {},
     "output_type": "execute_result"
    }
   ],
   "source": [
    "a1[[0,1,2,3],[0,1,2,3]]=1\n",
    "a1"
   ]
  },
  {
   "cell_type": "code",
   "execution_count": 56,
   "id": "18985bd5",
   "metadata": {},
   "outputs": [
    {
     "data": {
      "text/plain": [
       "array([[78,  0],\n",
       "       [59,  5],\n",
       "       [56, 68],\n",
       "       [55, 67],\n",
       "       [78, 25],\n",
       "       [18,  1],\n",
       "       [ 8, 35],\n",
       "       [80, 37],\n",
       "       [79,  6],\n",
       "       [35, 81],\n",
       "       [23, 99],\n",
       "       [18, 23],\n",
       "       [ 0, 28],\n",
       "       [72, 14],\n",
       "       [ 5, 47],\n",
       "       [29, 93],\n",
       "       [28, 65],\n",
       "       [26, 62],\n",
       "       [88, 37],\n",
       "       [76, 43]])"
      ]
     },
     "execution_count": 56,
     "metadata": {},
     "output_type": "execute_result"
    }
   ],
   "source": [
    "scores = np.random.randint(0,100,size=(20,2))\n",
    "scores"
   ]
  },
  {
   "cell_type": "code",
   "execution_count": 65,
   "id": "4c708da0",
   "metadata": {},
   "outputs": [],
   "source": [
    "np.savetxt(\"scores.csv\",scores,fmt=\"%d\",header=\"数学,语文\",comments=\"\",delimiter=\",\")"
   ]
  },
  {
   "cell_type": "code",
   "execution_count": 70,
   "id": "9d051fbe",
   "metadata": {},
   "outputs": [
    {
     "data": {
      "text/plain": [
       "array([ 0,  5, 68, 67, 25,  1, 35, 37,  6, 81, 99, 23, 28, 14, 47, 93, 65,\n",
       "       62, 37, 43], dtype=int8)"
      ]
     },
     "execution_count": 70,
     "metadata": {},
     "output_type": "execute_result"
    }
   ],
   "source": [
    "np.loadtxt(\"scores.csv\",skiprows=1,delimiter=\",\",dtype=\"i1\",usecols=(1,),unpack=True)"
   ]
  },
  {
   "cell_type": "code",
   "execution_count": 71,
   "id": "23c3bc1d",
   "metadata": {},
   "outputs": [],
   "source": [
    "import csv"
   ]
  },
  {
   "cell_type": "code",
   "execution_count": 78,
   "id": "1e775ec2",
   "metadata": {},
   "outputs": [
    {
     "name": "stdout",
     "output_type": "stream",
     "text": [
      "['78', '0']\n",
      "['59', '5']\n",
      "['56', '68']\n",
      "['55', '67']\n",
      "['78', '25']\n",
      "['18', '1']\n",
      "['8', '35']\n",
      "['80', '37']\n",
      "['79', '6']\n",
      "['35', '81']\n",
      "['23', '99']\n",
      "['18', '23']\n",
      "['0', '28']\n",
      "['72', '14']\n",
      "['5', '47']\n",
      "['29', '93']\n",
      "['28', '65']\n",
      "['26', '62']\n",
      "['88', '37']\n",
      "['76', '43']\n"
     ]
    }
   ],
   "source": [
    "with open('scores.csv','r') as f:\n",
    "    reader = csv.reader(f)\n",
    "    next(reader)\n",
    "    for x in reader:\n",
    "        print(x)"
   ]
  },
  {
   "cell_type": "code",
   "execution_count": 79,
   "id": "84a2bef6",
   "metadata": {},
   "outputs": [
    {
     "name": "stdout",
     "output_type": "stream",
     "text": [
      "{'数学': '78', '语文': '0'}\n",
      "{'数学': '59', '语文': '5'}\n",
      "{'数学': '56', '语文': '68'}\n",
      "{'数学': '55', '语文': '67'}\n",
      "{'数学': '78', '语文': '25'}\n",
      "{'数学': '18', '语文': '1'}\n",
      "{'数学': '8', '语文': '35'}\n",
      "{'数学': '80', '语文': '37'}\n",
      "{'数学': '79', '语文': '6'}\n",
      "{'数学': '35', '语文': '81'}\n",
      "{'数学': '23', '语文': '99'}\n",
      "{'数学': '18', '语文': '23'}\n",
      "{'数学': '0', '语文': '28'}\n",
      "{'数学': '72', '语文': '14'}\n",
      "{'数学': '5', '语文': '47'}\n",
      "{'数学': '29', '语文': '93'}\n",
      "{'数学': '28', '语文': '65'}\n",
      "{'数学': '26', '语文': '62'}\n",
      "{'数学': '88', '语文': '37'}\n",
      "{'数学': '76', '语文': '43'}\n"
     ]
    }
   ],
   "source": [
    "with open('scores.csv','r') as f:\n",
    "    reader = csv.DictReader(f)\n",
    "    for x in reader:\n",
    "        print(x)"
   ]
  },
  {
   "cell_type": "code",
   "execution_count": 80,
   "id": "a1b62027",
   "metadata": {},
   "outputs": [],
   "source": [
    "headers = ['name','age','classroom']\n",
    "values = [\n",
    "    ('zhiliao',18,'111'),\n",
    "    ('wena',20,'222'),\n",
    "    ('bbc',21,'111')\n",
    "]"
   ]
  },
  {
   "cell_type": "code",
   "execution_count": 83,
   "id": "5b6ac775",
   "metadata": {},
   "outputs": [],
   "source": [
    "with open(\"text.csv\",\"w\",newline=\"\") as f:\n",
    "    writer=csv.writer(f)\n",
    "    writer.writerow(headers)\n",
    "    writer.writerows(values)"
   ]
  },
  {
   "cell_type": "code",
   "execution_count": 84,
   "id": "79f69e6a",
   "metadata": {},
   "outputs": [
    {
     "name": "stdout",
     "output_type": "stream",
     "text": [
      "['name', 'age', 'classroom']\n",
      "['zhiliao', '18', '111']\n",
      "['wena', '20', '222']\n",
      "['bbc', '21', '111']\n"
     ]
    }
   ],
   "source": [
    "with open('text.csv','r') as f:\n",
    "    reader = csv.reader(f)\n",
    "    for x in reader:\n",
    "        print(x)"
   ]
  },
  {
   "cell_type": "code",
   "execution_count": null,
   "id": "f923d3b1",
   "metadata": {},
   "outputs": [],
   "source": []
  }
 ],
 "metadata": {
  "kernelspec": {
   "display_name": "Python 3",
   "language": "python",
   "name": "python3"
  },
  "language_info": {
   "codemirror_mode": {
    "name": "ipython",
    "version": 3
   },
   "file_extension": ".py",
   "mimetype": "text/x-python",
   "name": "python",
   "nbconvert_exporter": "python",
   "pygments_lexer": "ipython3",
   "version": "3.8.8"
  }
 },
 "nbformat": 4,
 "nbformat_minor": 5
}
