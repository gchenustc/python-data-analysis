{
 "cells": [
  {
   "cell_type": "code",
   "execution_count": 1,
   "id": "ffba1d1d",
   "metadata": {},
   "outputs": [],
   "source": [
    "import numpy as np"
   ]
  },
  {
   "cell_type": "code",
   "execution_count": 2,
   "id": "5d27df31",
   "metadata": {},
   "outputs": [
    {
     "data": {
      "text/plain": [
       "array([[0., 0., 0., 0., 0.],\n",
       "       [0., 0., 0., 0., 0.],\n",
       "       [0., 0., 0., 0., 0.],\n",
       "       [0., 0., 0., 0., 0.],\n",
       "       [0., 0., 0., 0., 0.]])"
      ]
     },
     "execution_count": 2,
     "metadata": {},
     "output_type": "execute_result"
    }
   ],
   "source": [
    "Z=np.zeros((5,5),dtype=np.float64)\n",
    "Z"
   ]
  },
  {
   "cell_type": "code",
   "execution_count": 3,
   "id": "a9780b94",
   "metadata": {},
   "outputs": [
    {
     "name": "stdout",
     "output_type": "stream",
     "text": [
      "25 8\n",
      "200 bytes\n"
     ]
    }
   ],
   "source": [
    "print(Z.size,Z.itemsize)\n",
    "print(\"%d bytes\" % (Z.size * Z.itemsize))"
   ]
  },
  {
   "cell_type": "code",
   "execution_count": 4,
   "id": "9b46791d",
   "metadata": {},
   "outputs": [
    {
     "name": "stdout",
     "output_type": "stream",
     "text": [
      "add(x1, x2, /, out=None, *, where=True, casting='same_kind', order='K', dtype=None, subok=True[, signature, extobj])\n",
      "\n",
      "Add arguments element-wise.\n",
      "\n",
      "Parameters\n",
      "----------\n",
      "x1, x2 : array_like\n",
      "    The arrays to be added.\n",
      "    If ``x1.shape != x2.shape``, they must be broadcastable to a common\n",
      "    shape (which becomes the shape of the output).\n",
      "out : ndarray, None, or tuple of ndarray and None, optional\n",
      "    A location into which the result is stored. If provided, it must have\n",
      "    a shape that the inputs broadcast to. If not provided or None,\n",
      "    a freshly-allocated array is returned. A tuple (possible only as a\n",
      "    keyword argument) must have length equal to the number of outputs.\n",
      "where : array_like, optional\n",
      "    This condition is broadcast over the input. At locations where the\n",
      "    condition is True, the `out` array will be set to the ufunc result.\n",
      "    Elsewhere, the `out` array will retain its original value.\n",
      "    Note that if an uninitialized `out` array is created via the default\n",
      "    ``out=None``, locations within it where the condition is False will\n",
      "    remain uninitialized.\n",
      "**kwargs\n",
      "    For other keyword-only arguments, see the\n",
      "    :ref:`ufunc docs <ufuncs.kwargs>`.\n",
      "\n",
      "Returns\n",
      "-------\n",
      "add : ndarray or scalar\n",
      "    The sum of `x1` and `x2`, element-wise.\n",
      "    This is a scalar if both `x1` and `x2` are scalars.\n",
      "\n",
      "Notes\n",
      "-----\n",
      "Equivalent to `x1` + `x2` in terms of array broadcasting.\n",
      "\n",
      "Examples\n",
      "--------\n",
      ">>> np.add(1.0, 4.0)\n",
      "5.0\n",
      ">>> x1 = np.arange(9.0).reshape((3, 3))\n",
      ">>> x2 = np.arange(3.0)\n",
      ">>> np.add(x1, x2)\n",
      "array([[  0.,   2.,   4.],\n",
      "       [  3.,   5.,   7.],\n",
      "       [  6.,   8.,  10.]])\n",
      "\n",
      "The ``+`` operator can be used as a shorthand for ``np.add`` on ndarrays.\n",
      "\n",
      ">>> x1 = np.arange(9.0).reshape((3, 3))\n",
      ">>> x2 = np.arange(3.0)\n",
      ">>> x1 + x2\n",
      "array([[ 0.,  2.,  4.],\n",
      "       [ 3.,  5.,  7.],\n",
      "       [ 6.,  8., 10.]])\n"
     ]
    }
   ],
   "source": [
    "np.info(np.add)"
   ]
  },
  {
   "cell_type": "code",
   "execution_count": 5,
   "id": "90f91dd4",
   "metadata": {},
   "outputs": [
    {
     "data": {
      "text/plain": [
       "array([0., 0., 0., 0., 0., 0., 0., 0., 0., 0.])"
      ]
     },
     "execution_count": 5,
     "metadata": {},
     "output_type": "execute_result"
    }
   ],
   "source": [
    "a=np.zeros(10)\n",
    "a"
   ]
  },
  {
   "cell_type": "code",
   "execution_count": 6,
   "id": "8a975514",
   "metadata": {},
   "outputs": [
    {
     "data": {
      "text/plain": [
       "array([0., 0., 0., 0., 1., 0., 0., 0., 0., 0.])"
      ]
     },
     "execution_count": 6,
     "metadata": {},
     "output_type": "execute_result"
    }
   ],
   "source": [
    "a[4]=1\n",
    "a"
   ]
  },
  {
   "cell_type": "code",
   "execution_count": 7,
   "id": "12abd829",
   "metadata": {},
   "outputs": [
    {
     "data": {
      "text/plain": [
       "array([0, 0, 0, 0, 1, 0, 0, 0, 0, 0])"
      ]
     },
     "execution_count": 7,
     "metadata": {},
     "output_type": "execute_result"
    }
   ],
   "source": [
    "a=np.full((1,10),0)\n",
    "a=a[0,:]\n",
    "a[4]=1\n",
    "a"
   ]
  },
  {
   "cell_type": "code",
   "execution_count": 8,
   "id": "cad0bb1d",
   "metadata": {},
   "outputs": [
    {
     "data": {
      "text/plain": [
       "array([10, 11, 12, 13, 14, 15, 16, 17, 18, 19, 20, 21, 22, 23, 24, 25, 26,\n",
       "       27, 28, 29, 30, 31, 32, 33, 34, 35, 36, 37, 38, 39, 40, 41, 42, 43,\n",
       "       44, 45, 46, 47, 48, 49])"
      ]
     },
     "execution_count": 8,
     "metadata": {},
     "output_type": "execute_result"
    }
   ],
   "source": [
    "a=np.arange(10,50)\n",
    "a"
   ]
  },
  {
   "cell_type": "code",
   "execution_count": 9,
   "id": "f9c21ca6",
   "metadata": {},
   "outputs": [
    {
     "data": {
      "text/plain": [
       "array([49, 48, 47, 46, 45, 44, 43, 42, 41, 40, 39, 38, 37, 36, 35, 34, 33,\n",
       "       32, 31, 30, 29, 28, 27, 26, 25, 24, 23, 22, 21, 20, 19, 18, 17, 16,\n",
       "       15, 14, 13, 12, 11, 10])"
      ]
     },
     "execution_count": 9,
     "metadata": {},
     "output_type": "execute_result"
    }
   ],
   "source": [
    "a[::-1]"
   ]
  },
  {
   "cell_type": "code",
   "execution_count": 10,
   "id": "c2428aa4",
   "metadata": {},
   "outputs": [
    {
     "data": {
      "text/plain": [
       "array([[0, 1, 2],\n",
       "       [3, 4, 5],\n",
       "       [6, 7, 8]])"
      ]
     },
     "execution_count": 10,
     "metadata": {},
     "output_type": "execute_result"
    }
   ],
   "source": [
    "a=np.arange(9).reshape((3,3))\n",
    "a"
   ]
  },
  {
   "cell_type": "code",
   "execution_count": 11,
   "id": "d4e25d91",
   "metadata": {},
   "outputs": [
    {
     "data": {
      "text/plain": [
       "(array([0, 1, 4], dtype=int64),)"
      ]
     },
     "execution_count": 11,
     "metadata": {},
     "output_type": "execute_result"
    }
   ],
   "source": [
    "lst=[1,2,0,0,4,0]\n",
    "a=np.array(lst)\n",
    "np.nonzero(a)"
   ]
  },
  {
   "cell_type": "code",
   "execution_count": 12,
   "id": "23c5ce0f",
   "metadata": {},
   "outputs": [
    {
     "data": {
      "text/plain": [
       "array([[1., 0., 0.],\n",
       "       [0., 1., 0.],\n",
       "       [0., 0., 1.]])"
      ]
     },
     "execution_count": 12,
     "metadata": {},
     "output_type": "execute_result"
    }
   ],
   "source": [
    "np.eye(3)"
   ]
  },
  {
   "cell_type": "code",
   "execution_count": 13,
   "id": "f3380868",
   "metadata": {},
   "outputs": [
    {
     "data": {
      "text/plain": [
       "array([[[0.55958322, 0.64328152, 0.36696282],\n",
       "        [0.83555452, 0.62687819, 0.22241059],\n",
       "        [0.96243768, 0.55045228, 0.56687516]],\n",
       "\n",
       "       [[0.8438528 , 0.435978  , 0.92449413],\n",
       "        [0.46198431, 0.38555666, 0.3738058 ],\n",
       "        [0.6301351 , 0.14832952, 0.6835486 ]],\n",
       "\n",
       "       [[0.27646106, 0.91032179, 0.18093575],\n",
       "        [0.09069487, 0.93761571, 0.21068456],\n",
       "        [0.98979408, 0.23091557, 0.82690176]]])"
      ]
     },
     "execution_count": 13,
     "metadata": {},
     "output_type": "execute_result"
    }
   ],
   "source": [
    "np.random.random((3,3,3))"
   ]
  },
  {
   "cell_type": "code",
   "execution_count": 14,
   "id": "638d810f",
   "metadata": {},
   "outputs": [
    {
     "data": {
      "text/plain": [
       "array([[[0.75972698, 0.71968972, 0.33130352],\n",
       "        [0.44317549, 0.05194619, 0.41906855],\n",
       "        [0.12957074, 0.53622711, 0.50467371]],\n",
       "\n",
       "       [[0.05298334, 0.15530728, 0.5577126 ],\n",
       "        [0.94842346, 0.38088132, 0.60750392],\n",
       "        [0.57674917, 0.57757764, 0.56645552]],\n",
       "\n",
       "       [[0.50316177, 0.60532682, 0.14093422],\n",
       "        [0.051389  , 0.89121182, 0.851962  ],\n",
       "        [0.27638378, 0.93234973, 0.25845189]]])"
      ]
     },
     "execution_count": 14,
     "metadata": {},
     "output_type": "execute_result"
    }
   ],
   "source": [
    "np.random.rand(3,3,3)"
   ]
  },
  {
   "cell_type": "code",
   "execution_count": 15,
   "id": "7f019fbc",
   "metadata": {},
   "outputs": [
    {
     "data": {
      "text/plain": [
       "array([0.24159486, 0.56503786, 0.69443393])"
      ]
     },
     "execution_count": 15,
     "metadata": {},
     "output_type": "execute_result"
    }
   ],
   "source": [
    "np.random.rand(3)"
   ]
  },
  {
   "cell_type": "code",
   "execution_count": 16,
   "id": "bdc268ab",
   "metadata": {},
   "outputs": [
    {
     "data": {
      "text/plain": [
       "0.005295128089796708"
      ]
     },
     "execution_count": 16,
     "metadata": {},
     "output_type": "execute_result"
    }
   ],
   "source": [
    "a=np.random.rand(10,10)\n",
    "a.min()"
   ]
  },
  {
   "cell_type": "code",
   "execution_count": 17,
   "id": "d4f9f833",
   "metadata": {},
   "outputs": [
    {
     "data": {
      "text/plain": [
       "0.993886011673581"
      ]
     },
     "execution_count": 17,
     "metadata": {},
     "output_type": "execute_result"
    }
   ],
   "source": [
    "a.max()"
   ]
  },
  {
   "cell_type": "code",
   "execution_count": 18,
   "id": "e900142d",
   "metadata": {},
   "outputs": [
    {
     "data": {
      "text/plain": [
       "0.5006846878385255"
      ]
     },
     "execution_count": 18,
     "metadata": {},
     "output_type": "execute_result"
    }
   ],
   "source": [
    "np.random.rand(30).mean()"
   ]
  },
  {
   "cell_type": "code",
   "execution_count": 19,
   "id": "2ea9d9dc",
   "metadata": {},
   "outputs": [],
   "source": [
    "np.set_printoptions(suppress=True,precision=8)"
   ]
  },
  {
   "cell_type": "code",
   "execution_count": 20,
   "id": "d389256d",
   "metadata": {},
   "outputs": [
    {
     "data": {
      "text/plain": [
       "array([[0., 0., 0., 0., 0.],\n",
       "       [0., 0., 0., 0., 0.],\n",
       "       [0., 0., 0., 0., 0.],\n",
       "       [0., 0., 0., 0., 0.],\n",
       "       [0., 0., 0., 0., 0.]])"
      ]
     },
     "execution_count": 20,
     "metadata": {},
     "output_type": "execute_result"
    }
   ],
   "source": [
    "a=np.zeros(25).reshape(5,5)\n",
    "a"
   ]
  },
  {
   "cell_type": "code",
   "execution_count": 21,
   "id": "9de3b959",
   "metadata": {},
   "outputs": [
    {
     "data": {
      "text/plain": [
       "array([[1., 1., 1., 1., 1.],\n",
       "       [1., 0., 0., 0., 1.],\n",
       "       [1., 0., 0., 0., 1.],\n",
       "       [1., 0., 0., 0., 1.],\n",
       "       [1., 1., 1., 1., 1.]])"
      ]
     },
     "execution_count": 21,
     "metadata": {},
     "output_type": "execute_result"
    }
   ],
   "source": [
    "a[[0,-1]]=1\n",
    "a[:,[0,-1]]=1\n",
    "a"
   ]
  },
  {
   "cell_type": "code",
   "execution_count": 22,
   "id": "1db335ce",
   "metadata": {},
   "outputs": [
    {
     "data": {
      "text/plain": [
       "array([[1., 1., 1., 1., 1., 1., 1., 1., 1., 1.],\n",
       "       [1., 0., 0., 0., 0., 0., 0., 0., 0., 1.],\n",
       "       [1., 0., 0., 0., 0., 0., 0., 0., 0., 1.],\n",
       "       [1., 0., 0., 0., 0., 0., 0., 0., 0., 1.],\n",
       "       [1., 0., 0., 0., 0., 0., 0., 0., 0., 1.],\n",
       "       [1., 0., 0., 0., 0., 0., 0., 0., 0., 1.],\n",
       "       [1., 0., 0., 0., 0., 0., 0., 0., 0., 1.],\n",
       "       [1., 0., 0., 0., 0., 0., 0., 0., 0., 1.],\n",
       "       [1., 0., 0., 0., 0., 0., 0., 0., 0., 1.],\n",
       "       [1., 1., 1., 1., 1., 1., 1., 1., 1., 1.]])"
      ]
     },
     "execution_count": 22,
     "metadata": {},
     "output_type": "execute_result"
    }
   ],
   "source": [
    "a=np.ones((10,10))\n",
    "a[1:-1,1:-1]=0\n",
    "a"
   ]
  },
  {
   "cell_type": "code",
   "execution_count": 23,
   "id": "7e89a0dc",
   "metadata": {},
   "outputs": [
    {
     "data": {
      "text/plain": [
       "array([[1, 1, 1, 1, 1],\n",
       "       [1, 1, 1, 1, 1],\n",
       "       [1, 1, 1, 1, 1],\n",
       "       [1, 1, 1, 1, 1],\n",
       "       [1, 1, 1, 1, 1]])"
      ]
     },
     "execution_count": 23,
     "metadata": {},
     "output_type": "execute_result"
    }
   ],
   "source": [
    "a=np.full((5,5),1)\n",
    "a"
   ]
  },
  {
   "cell_type": "code",
   "execution_count": 24,
   "id": "dfec28dd",
   "metadata": {},
   "outputs": [
    {
     "data": {
      "text/plain": [
       "array([[0, 0, 0, 0, 0, 0, 0],\n",
       "       [0, 1, 1, 1, 1, 1, 0],\n",
       "       [0, 1, 1, 1, 1, 1, 0],\n",
       "       [0, 1, 1, 1, 1, 1, 0],\n",
       "       [0, 1, 1, 1, 1, 1, 0],\n",
       "       [0, 1, 1, 1, 1, 1, 0],\n",
       "       [0, 0, 0, 0, 0, 0, 0]])"
      ]
     },
     "execution_count": 24,
     "metadata": {},
     "output_type": "execute_result"
    }
   ],
   "source": [
    "a=np.pad(a,pad_width=1,mode=\"constant\",constant_values=0)\n",
    "a"
   ]
  },
  {
   "cell_type": "code",
   "execution_count": 25,
   "id": "82d05e42",
   "metadata": {},
   "outputs": [
    {
     "name": "stdout",
     "output_type": "stream",
     "text": [
      "False\n",
      "False\n",
      "False\n",
      "nan\n"
     ]
    }
   ],
   "source": [
    "print(np.inf>np.nan)\n",
    "print(np.inf==np.nan)\n",
    "print(np.inf<np.nan)\n",
    "print(np.inf-np.nan)"
   ]
  },
  {
   "cell_type": "code",
   "execution_count": 26,
   "id": "5058a8bc",
   "metadata": {},
   "outputs": [
    {
     "name": "stdout",
     "output_type": "stream",
     "text": [
      "nan\n"
     ]
    }
   ],
   "source": [
    "print(np.nan-np.nan)"
   ]
  },
  {
   "cell_type": "code",
   "execution_count": 27,
   "id": "9ad4a1c5",
   "metadata": {},
   "outputs": [
    {
     "name": "stdout",
     "output_type": "stream",
     "text": [
      "{nan, 1, 0}\n",
      "True\n"
     ]
    }
   ],
   "source": [
    "set_=set([np.nan,1,0])\n",
    "print(set_)\n",
    "print(np.inf in set([np.inf]))"
   ]
  },
  {
   "cell_type": "code",
   "execution_count": 28,
   "id": "026a002d",
   "metadata": {},
   "outputs": [
    {
     "name": "stdout",
     "output_type": "stream",
     "text": [
      "False\n",
      "0.30000000000000004\n"
     ]
    }
   ],
   "source": [
    "print(0.3 == 3 * 0.1)\n",
    "print(3*0.1)"
   ]
  },
  {
   "cell_type": "code",
   "execution_count": 29,
   "id": "a74f510b",
   "metadata": {},
   "outputs": [
    {
     "data": {
      "text/plain": [
       "array([[0, 0, 0, 0, 0],\n",
       "       [1, 0, 0, 0, 0],\n",
       "       [0, 2, 0, 0, 0],\n",
       "       [0, 0, 3, 0, 0],\n",
       "       [0, 0, 0, 4, 0]])"
      ]
     },
     "execution_count": 29,
     "metadata": {},
     "output_type": "execute_result"
    }
   ],
   "source": [
    "a=np.diag(1+np.arange(4),k=-1)\n",
    "a"
   ]
  },
  {
   "cell_type": "code",
   "execution_count": 30,
   "id": "289760bb",
   "metadata": {},
   "outputs": [
    {
     "data": {
      "text/plain": [
       "array([[0, 1, 0, 1, 0, 1, 0, 1],\n",
       "       [1, 0, 1, 0, 1, 0, 1, 0],\n",
       "       [0, 1, 0, 1, 0, 1, 0, 1],\n",
       "       [1, 0, 1, 0, 1, 0, 1, 0],\n",
       "       [0, 1, 0, 1, 0, 1, 0, 1],\n",
       "       [1, 0, 1, 0, 1, 0, 1, 0],\n",
       "       [0, 1, 0, 1, 0, 1, 0, 1],\n",
       "       [1, 0, 1, 0, 1, 0, 1, 0]])"
      ]
     },
     "execution_count": 30,
     "metadata": {},
     "output_type": "execute_result"
    }
   ],
   "source": [
    "a = np.zeros((8,8),dtype=int)\n",
    "a[1::2,::2]=1\n",
    "a[::2,1::2]=1\n",
    "a"
   ]
  },
  {
   "cell_type": "code",
   "execution_count": 31,
   "id": "3c870ddb",
   "metadata": {},
   "outputs": [
    {
     "name": "stdout",
     "output_type": "stream",
     "text": [
      "(array([0, 0, 0, 1, 1, 1, 2, 2, 2], dtype=int64), array([0, 1, 2, 0, 1, 2, 0, 1, 2], dtype=int64))\n"
     ]
    }
   ],
   "source": [
    "print(np.unravel_index([0,1,2,3,4,5,6,7,8],(3,3)))"
   ]
  },
  {
   "cell_type": "code",
   "execution_count": 32,
   "id": "3ddd3334",
   "metadata": {},
   "outputs": [
    {
     "data": {
      "text/plain": [
       "array([[0., 0.],\n",
       "       [0., 0.]])"
      ]
     },
     "execution_count": 32,
     "metadata": {},
     "output_type": "execute_result"
    }
   ],
   "source": [
    "a=np.zeros((1,1))\n",
    "np.tile(a,(2,2))"
   ]
  },
  {
   "cell_type": "code",
   "execution_count": 33,
   "id": "87d88cfc",
   "metadata": {},
   "outputs": [
    {
     "data": {
      "text/plain": [
       "array([[0., 1., 0., 1., 0., 1., 0., 1.],\n",
       "       [1., 0., 1., 0., 1., 0., 1., 0.],\n",
       "       [0., 1., 0., 1., 0., 1., 0., 1.],\n",
       "       [1., 0., 1., 0., 1., 0., 1., 0.],\n",
       "       [0., 1., 0., 1., 0., 1., 0., 1.],\n",
       "       [1., 0., 1., 0., 1., 0., 1., 0.],\n",
       "       [0., 1., 0., 1., 0., 1., 0., 1.],\n",
       "       [1., 0., 1., 0., 1., 0., 1., 0.]])"
      ]
     },
     "execution_count": 33,
     "metadata": {},
     "output_type": "execute_result"
    }
   ],
   "source": [
    "a=np.zeros((2,2))\n",
    "a[0,1]=1\n",
    "a[1,0]=1\n",
    "np.tile(a,(4,4))"
   ]
  },
  {
   "cell_type": "code",
   "execution_count": 34,
   "id": "b39bbefa",
   "metadata": {},
   "outputs": [
    {
     "data": {
      "text/plain": [
       "array([[0, 1, 0, 1, 0, 1, 0, 1],\n",
       "       [1, 0, 1, 0, 1, 0, 1, 0],\n",
       "       [0, 1, 0, 1, 0, 1, 0, 1],\n",
       "       [1, 0, 1, 0, 1, 0, 1, 0],\n",
       "       [0, 1, 0, 1, 0, 1, 0, 1],\n",
       "       [1, 0, 1, 0, 1, 0, 1, 0],\n",
       "       [0, 1, 0, 1, 0, 1, 0, 1],\n",
       "       [1, 0, 1, 0, 1, 0, 1, 0]])"
      ]
     },
     "execution_count": 34,
     "metadata": {},
     "output_type": "execute_result"
    }
   ],
   "source": [
    "np.tile(np.array([[0,1],[1,0]]),(4,4))"
   ]
  },
  {
   "cell_type": "code",
   "execution_count": 35,
   "id": "198bba26",
   "metadata": {},
   "outputs": [
    {
     "data": {
      "text/plain": [
       "array([[0.6408542 , 0.39796495, 0.65399451, 0.67590731, 0.7663206 ],\n",
       "       [0.05056791, 0.65940234, 0.06833338, 0.97068693, 0.98737912],\n",
       "       [0.63978998, 0.01685174, 0.63588015, 0.33100645, 0.14481757],\n",
       "       [0.00079268, 0.59736417, 0.13134688, 0.86630979, 0.63111734],\n",
       "       [0.16263042, 0.75260236, 0.95405048, 0.76858634, 0.19832165]])"
      ]
     },
     "execution_count": 35,
     "metadata": {},
     "output_type": "execute_result"
    }
   ],
   "source": [
    "a=np.random.random((5,5))\n",
    "a"
   ]
  },
  {
   "cell_type": "code",
   "execution_count": 36,
   "id": "0a5ff975",
   "metadata": {},
   "outputs": [
    {
     "data": {
      "text/plain": [
       "array([[ 1.30337574, -1.08157428,  1.43240158,  1.64756522,  2.53534092],\n",
       "       [-4.49269525,  1.48550151, -4.31825461,  4.54203121,  4.70593321],\n",
       "       [ 1.29292611, -4.82375717,  1.25453515, -1.73904549, -3.56724984],\n",
       "       [-4.98144238,  0.87634343, -3.6995197 ,  3.51714324,  1.20776873],\n",
       "       [-3.39234393,  2.4006404 ,  4.37867655,  2.55758843, -3.04188879]])"
      ]
     },
     "execution_count": 36,
     "metadata": {},
     "output_type": "execute_result"
    }
   ],
   "source": [
    "a=(a-np.mean(a))/(np.var(a))\n",
    "a"
   ]
  },
  {
   "cell_type": "code",
   "execution_count": 37,
   "id": "a1e5abbc",
   "metadata": {},
   "outputs": [
    {
     "name": "stderr",
     "output_type": "stream",
     "text": [
      "<ipython-input-37-b9f1a6f5df9c>:1: FutureWarning: Passing (type, 1) or '1type' as a synonym of type is deprecated; in a future version of numpy, it will be understood as (type, (1,)) / '(1,)type'.\n",
      "  color = np.dtype([(\"r\", np.ubyte, 1),\n"
     ]
    }
   ],
   "source": [
    "color = np.dtype([(\"r\", np.ubyte, 1),\n",
    "                  (\"g\", np.ubyte, 1),\n",
    "                  (\"b\", np.ubyte, 1),\n",
    "                  (\"a\", np.ubyte, 1)])"
   ]
  },
  {
   "cell_type": "code",
   "execution_count": 38,
   "id": "d4e205c8",
   "metadata": {},
   "outputs": [
    {
     "name": "stdout",
     "output_type": "stream",
     "text": [
      "[[0. 0. 0.]\n",
      " [0. 0. 0.]\n",
      " [0. 0. 0.]]\n"
     ]
    },
    {
     "data": {
      "text/plain": [
       "array([[(0, 0, 0, 0), (0, 0, 0, 0), (0, 0, 0, 0)],\n",
       "       [(0, 0, 0, 0), (0, 0, 0, 0), (0, 0, 0, 0)],\n",
       "       [(0, 0, 0, 0), (0, 0, 0, 0), (0, 0, 0, 0)]],\n",
       "      dtype=[('r', 'u1'), ('g', 'u1'), ('b', 'u1'), ('a', 'u1')])"
      ]
     },
     "execution_count": 38,
     "metadata": {},
     "output_type": "execute_result"
    }
   ],
   "source": [
    "print(np.zeros((3,3)))\n",
    "a=np.zeros((3,3),dtype=color)\n",
    "a"
   ]
  },
  {
   "cell_type": "code",
   "execution_count": 39,
   "id": "e4297b47",
   "metadata": {},
   "outputs": [
    {
     "name": "stdout",
     "output_type": "stream",
     "text": [
      "[[ 0  1  2]\n",
      " [ 3  4  5]\n",
      " [ 6  7  8]\n",
      " [ 9 10 11]\n",
      " [12 13 14]]\n",
      "[[1. 1.]\n",
      " [1. 1.]\n",
      " [1. 1.]]\n",
      "[[ 3.  3.]\n",
      " [12. 12.]\n",
      " [21. 21.]\n",
      " [30. 30.]\n",
      " [39. 39.]]\n"
     ]
    },
    {
     "data": {
      "text/plain": [
       "array([2, 4, 6])"
      ]
     },
     "execution_count": 39,
     "metadata": {},
     "output_type": "execute_result"
    }
   ],
   "source": [
    "a1=np.arange(15).reshape(5,3)\n",
    "a2=np.ones((3,2))\n",
    "print(a1,a2,sep=\"\\n\")\n",
    "print(np.dot(a1,a2))\n",
    "np.multiply([1,2,3],[2])"
   ]
  },
  {
   "cell_type": "code",
   "execution_count": 40,
   "id": "42b070f4",
   "metadata": {},
   "outputs": [
    {
     "data": {
      "text/plain": [
       "array([ 0,  1,  2,  3,  4,  5,  6,  7,  8,  9, 10])"
      ]
     },
     "execution_count": 40,
     "metadata": {},
     "output_type": "execute_result"
    }
   ],
   "source": [
    "a = np.arange(11)\n",
    "a"
   ]
  },
  {
   "cell_type": "code",
   "execution_count": 41,
   "id": "ade62ac9",
   "metadata": {},
   "outputs": [
    {
     "data": {
      "text/plain": [
       "array([ 0,  1,  2,  3, -4, -5, -6, -7, -8,  9, 10])"
      ]
     },
     "execution_count": 41,
     "metadata": {},
     "output_type": "execute_result"
    }
   ],
   "source": [
    "a[(a>3)&(a<=8)] *= -1\n",
    "a"
   ]
  },
  {
   "cell_type": "code",
   "execution_count": 42,
   "id": "80ff62b1",
   "metadata": {},
   "outputs": [
    {
     "name": "stdout",
     "output_type": "stream",
     "text": [
      "14\n",
      "15\n"
     ]
    }
   ],
   "source": [
    "print(sum(range(6),-1))\n",
    "print(sum(range(6)))"
   ]
  },
  {
   "cell_type": "code",
   "execution_count": 43,
   "id": "211a28c9",
   "metadata": {},
   "outputs": [
    {
     "name": "stdout",
     "output_type": "stream",
     "text": [
      "14\n",
      "15\n",
      "14\n",
      "15\n"
     ]
    }
   ],
   "source": [
    "print(sum(np.arange(6),-1))\n",
    "print(np.sum(np.arange(6),-1))\n",
    "print(sum(range(6),-1))\n",
    "print(np.sum(range(6),-1))"
   ]
  },
  {
   "cell_type": "code",
   "execution_count": 45,
   "id": "9e80a2b2",
   "metadata": {},
   "outputs": [
    {
     "data": {
      "text/plain": [
       "45"
      ]
     },
     "execution_count": 45,
     "metadata": {},
     "output_type": "execute_result"
    }
   ],
   "source": [
    "Z=np.arange(10)\n",
    "np.add.reduce(Z)"
   ]
  },
  {
   "cell_type": "code",
   "execution_count": 54,
   "id": "1e3bf324",
   "metadata": {},
   "outputs": [
    {
     "name": "stdout",
     "output_type": "stream",
     "text": [
      "[1 1 0 0 1] [1 1 0 0 1]\n",
      "True\n"
     ]
    }
   ],
   "source": [
    "A = np.random.randint(0,2,5)\n",
    "B = np.random.randint(0,2,5)\n",
    "print(A,B)\n",
    "equal= np.allclose(A,B)\n",
    "print(equal)"
   ]
  },
  {
   "cell_type": "code",
   "execution_count": 51,
   "id": "c4673ce1",
   "metadata": {},
   "outputs": [
    {
     "name": "stdout",
     "output_type": "stream",
     "text": [
      "False\n"
     ]
    }
   ],
   "source": [
    "equal = np.array_equal(A,B)\n",
    "print(equal)"
   ]
  },
  {
   "cell_type": "code",
   "execution_count": 59,
   "id": "79ecf3e6",
   "metadata": {},
   "outputs": [
    {
     "ename": "ValueError",
     "evalue": "assignment destination is read-only",
     "output_type": "error",
     "traceback": [
      "\u001b[1;31m---------------------------------------------------------------------------\u001b[0m",
      "\u001b[1;31mValueError\u001b[0m                                Traceback (most recent call last)",
      "\u001b[1;32m<ipython-input-59-de7b3958db6f>\u001b[0m in \u001b[0;36m<module>\u001b[1;34m\u001b[0m\n\u001b[0;32m      1\u001b[0m \u001b[0mZ\u001b[0m \u001b[1;33m=\u001b[0m \u001b[0mnp\u001b[0m\u001b[1;33m.\u001b[0m\u001b[0mzeros\u001b[0m\u001b[1;33m(\u001b[0m\u001b[1;36m10\u001b[0m\u001b[1;33m)\u001b[0m\u001b[1;33m\u001b[0m\u001b[1;33m\u001b[0m\u001b[0m\n\u001b[0;32m      2\u001b[0m \u001b[0mZ\u001b[0m\u001b[1;33m.\u001b[0m\u001b[0mflags\u001b[0m\u001b[1;33m.\u001b[0m\u001b[0mwriteable\u001b[0m \u001b[1;33m=\u001b[0m \u001b[1;32mFalse\u001b[0m\u001b[1;33m\u001b[0m\u001b[1;33m\u001b[0m\u001b[0m\n\u001b[1;32m----> 3\u001b[1;33m \u001b[0mZ\u001b[0m\u001b[1;33m[\u001b[0m\u001b[1;36m0\u001b[0m\u001b[1;33m]\u001b[0m\u001b[1;33m=\u001b[0m\u001b[1;36m1\u001b[0m\u001b[1;33m\u001b[0m\u001b[1;33m\u001b[0m\u001b[0m\n\u001b[0m",
      "\u001b[1;31mValueError\u001b[0m: assignment destination is read-only"
     ]
    }
   ],
   "source": [
    "Z = np.zeros(10)\n",
    "Z.flags.writeable = False\n",
    "Z[0]=1"
   ]
  },
  {
   "cell_type": "code",
   "execution_count": 70,
   "id": "498b9c4d",
   "metadata": {},
   "outputs": [
    {
     "data": {
      "text/plain": [
       "(array([0.9046946 , 0.72451831, 0.8296779 , 0.71451771, 0.48172819,\n",
       "        0.53368909, 0.65725587, 0.46788628, 0.93237813, 0.55341316]),\n",
       " array([0.46756703, 0.63786444, 0.22295797, 0.47797121, 0.43097661,\n",
       "        0.7870283 , 0.12456167, 0.86611961, 0.11037478, 0.02648475]))"
      ]
     },
     "execution_count": 70,
     "metadata": {},
     "output_type": "execute_result"
    }
   ],
   "source": [
    "Z = np.random.random((10,2))\n",
    "X,Y=Z[:,0],Z[:,1]\n",
    "X,Y"
   ]
  },
  {
   "cell_type": "code",
   "execution_count": 72,
   "id": "05cf0d63",
   "metadata": {},
   "outputs": [
    {
     "data": {
      "text/plain": [
       "array([1.01837677, 0.96529676, 0.85911331, 0.85964646, 0.64637674,\n",
       "       0.95091408, 0.66895508, 0.98441899, 0.93888848, 0.55404653])"
      ]
     },
     "execution_count": 72,
     "metadata": {},
     "output_type": "execute_result"
    }
   ],
   "source": [
    "R = np.sqrt(X**2 + Y**2)\n",
    "R"
   ]
  },
  {
   "cell_type": "code",
   "execution_count": 73,
   "id": "ba90b593",
   "metadata": {},
   "outputs": [
    {
     "name": "stdout",
     "output_type": "stream",
     "text": [
      "[0.4770153  0.72187908 0.26252621 0.58957648 0.72984968 0.97491552\n",
      " 0.18729649 1.07550066 0.11783147 0.04782062]\n"
     ]
    }
   ],
   "source": [
    "T = np.arctan2(Y,X)"
   ]
  },
  {
   "cell_type": "code",
   "execution_count": 92,
   "id": "0f93ca65",
   "metadata": {},
   "outputs": [
    {
     "data": {
      "text/plain": [
       "array([[0.1865868 , 0.31437075, 0.28886755, 0.        , 0.39712623],\n",
       "       [0.14333765, 0.35776072, 0.30618767, 0.45459856, 0.63989456]])"
      ]
     },
     "execution_count": 92,
     "metadata": {},
     "output_type": "execute_result"
    }
   ],
   "source": [
    "Z = np.random.random(10).reshape((2,5))\n",
    "shape = Z.shape\n",
    "Z = Z.ravel()\n",
    "Z[np.argmax(Z)] = 0\n",
    "Z.reshape(shape)"
   ]
  },
  {
   "cell_type": "code",
   "execution_count": 102,
   "id": "ce453a1a",
   "metadata": {},
   "outputs": [
    {
     "data": {
      "text/plain": [
       "array([[(0., 0.), (0., 0.), (0., 0.), (0., 0.), (0., 0.)],\n",
       "       [(0., 0.), (0., 0.), (0., 0.), (0., 0.), (0., 0.)],\n",
       "       [(0., 0.), (0., 0.), (0., 0.), (0., 0.), (0., 0.)],\n",
       "       [(0., 0.), (0., 0.), (0., 0.), (0., 0.), (0., 0.)],\n",
       "       [(0., 0.), (0., 0.), (0., 0.), (0., 0.), (0., 0.)]],\n",
       "      dtype=[('x', '<f8'), ('y', '<f8')])"
      ]
     },
     "execution_count": 102,
     "metadata": {},
     "output_type": "execute_result"
    }
   ],
   "source": [
    "Z = np.zeros((5,5), [(\"x\", float),(\"y\", float)])\n",
    "Z"
   ]
  },
  {
   "cell_type": "code",
   "execution_count": 106,
   "id": "0b6e4084",
   "metadata": {},
   "outputs": [
    {
     "data": {
      "text/plain": [
       "(array([[0., 0., 0., 0., 0.],\n",
       "        [0., 0., 0., 0., 0.],\n",
       "        [0., 0., 0., 0., 0.],\n",
       "        [0., 0., 0., 0., 0.],\n",
       "        [0., 0., 0., 0., 0.]]),\n",
       " array([[0., 0., 0., 0., 0.],\n",
       "        [0., 0., 0., 0., 0.],\n",
       "        [0., 0., 0., 0., 0.],\n",
       "        [0., 0., 0., 0., 0.],\n",
       "        [0., 0., 0., 0., 0.]]))"
      ]
     },
     "execution_count": 106,
     "metadata": {},
     "output_type": "execute_result"
    }
   ],
   "source": [
    "Z[\"x\"],Z[\"y\"]"
   ]
  },
  {
   "cell_type": "code",
   "execution_count": 116,
   "id": "93c992b9",
   "metadata": {},
   "outputs": [
    {
     "data": {
      "text/plain": [
       "array([[(0.  , 0.  ), (0.25, 0.25), (0.5 , 0.5 ), (0.75, 0.75),\n",
       "        (1.  , 1.  )],\n",
       "       [(0.  , 0.  ), (0.25, 0.25), (0.5 , 0.5 ), (0.75, 0.75),\n",
       "        (1.  , 1.  )],\n",
       "       [(0.  , 0.  ), (0.25, 0.25), (0.5 , 0.5 ), (0.75, 0.75),\n",
       "        (1.  , 1.  )],\n",
       "       [(0.  , 0.  ), (0.25, 0.25), (0.5 , 0.5 ), (0.75, 0.75),\n",
       "        (1.  , 1.  )],\n",
       "       [(0.  , 0.  ), (0.25, 0.25), (0.5 , 0.5 ), (0.75, 0.75),\n",
       "        (1.  , 1.  )]], dtype=[('x', '<f8'), ('y', '<f8')])"
      ]
     },
     "execution_count": 116,
     "metadata": {},
     "output_type": "execute_result"
    }
   ],
   "source": [
    "Z[\"x\"] = np.linspace(0,1,5)\n",
    "Z[\"y\"] = np.linspace(0,1,5)\n",
    "Z"
   ]
  },
  {
   "cell_type": "code",
   "execution_count": 123,
   "id": "172a7bb6",
   "metadata": {},
   "outputs": [
    {
     "data": {
      "text/plain": [
       "array([[(0., 0.), (1., 0.), (2., 0.), (3., 0.), (4., 0.)],\n",
       "       [(0., 1.), (1., 1.), (2., 1.), (3., 1.), (4., 1.)],\n",
       "       [(0., 2.), (1., 2.), (2., 2.), (3., 2.), (4., 2.)],\n",
       "       [(0., 3.), (1., 3.), (2., 3.), (3., 3.), (4., 3.)],\n",
       "       [(0., 4.), (1., 4.), (2., 4.), (3., 4.), (4., 4.)]],\n",
       "      dtype=[('x', '<f8'), ('y', '<f8')])"
      ]
     },
     "execution_count": 123,
     "metadata": {},
     "output_type": "execute_result"
    }
   ],
   "source": [
    "Z[\"x\"],Z[\"y\"] = np.meshgrid(np.linspace(0,4,5),np.linspace(0,4,5))\n",
    "Z"
   ]
  },
  {
   "cell_type": "code",
   "execution_count": 120,
   "id": "9dee52b4",
   "metadata": {},
   "outputs": [
    {
     "name": "stdout",
     "output_type": "stream",
     "text": [
      "[0. 1. 2. 3. 4.] [0. 1. 2. 3.]\n",
      "[[0. 1. 2. 3. 4.]\n",
      " [0. 1. 2. 3. 4.]\n",
      " [0. 1. 2. 3. 4.]\n",
      " [0. 1. 2. 3. 4.]] [[0. 0. 0. 0. 0.]\n",
      " [1. 1. 1. 1. 1.]\n",
      " [2. 2. 2. 2. 2.]\n",
      " [3. 3. 3. 3. 3.]]\n"
     ]
    }
   ],
   "source": [
    "m, n = 5, 4\n",
    "x = np.linspace(0, m-1, m)\n",
    "y = np.linspace(0, n-1, n)\n",
    "X, Y = np.meshgrid(x, y)\n",
    "print(x,y)\n",
    "print(X,Y)"
   ]
  },
  {
   "cell_type": "code",
   "execution_count": 128,
   "id": "1d97bc70",
   "metadata": {},
   "outputs": [
    {
     "data": {
      "text/plain": [
       "array([[0.41598074, 0.82256711, 0.14509073, 0.48400674, 0.94497558],\n",
       "       [0.70476213, 0.90329432, 0.23514784, 0.71532397, 0.09213157],\n",
       "       [0.64738904, 0.97746965, 0.43000403, 0.542275  , 0.10080336],\n",
       "       [0.08705871, 0.05849666, 0.03032359, 0.31288882, 0.71357018],\n",
       "       [0.22821562, 0.43932021, 0.00050548, 0.49309923, 0.85158784]])"
      ]
     },
     "execution_count": 128,
     "metadata": {},
     "output_type": "execute_result"
    }
   ],
   "source": [
    "Z = np.random.rand(5,5)\n",
    "z = 0.5\n",
    "Z"
   ]
  },
  {
   "cell_type": "code",
   "execution_count": 129,
   "id": "3ee3988d",
   "metadata": {},
   "outputs": [
    {
     "data": {
      "text/plain": [
       "0.49309922825143115"
      ]
     },
     "execution_count": 129,
     "metadata": {},
     "output_type": "execute_result"
    }
   ],
   "source": [
    "Z[np.unravel_index(np.argmin(np.abs(Z-z)),Z.shape)]"
   ]
  },
  {
   "cell_type": "code",
   "execution_count": null,
   "id": "5621c901",
   "metadata": {},
   "outputs": [],
   "source": []
  }
 ],
 "metadata": {
  "kernelspec": {
   "display_name": "Python 3",
   "language": "python",
   "name": "python3"
  },
  "language_info": {
   "codemirror_mode": {
    "name": "ipython",
    "version": 3
   },
   "file_extension": ".py",
   "mimetype": "text/x-python",
   "name": "python",
   "nbconvert_exporter": "python",
   "pygments_lexer": "ipython3",
   "version": "3.8.8"
  }
 },
 "nbformat": 4,
 "nbformat_minor": 5
}
