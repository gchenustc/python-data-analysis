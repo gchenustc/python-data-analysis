{
 "cells": [
  {
   "cell_type": "code",
   "execution_count": 1,
   "id": "cc78004a",
   "metadata": {},
   "outputs": [],
   "source": [
    "import time"
   ]
  },
  {
   "cell_type": "code",
   "execution_count": 14,
   "id": "6b2790e9",
   "metadata": {},
   "outputs": [],
   "source": [
    "from datetime import datetime\n",
    "from  datetime import timedelta"
   ]
  },
  {
   "cell_type": "code",
   "execution_count": 3,
   "id": "b61dd7d7",
   "metadata": {},
   "outputs": [
    {
     "data": {
      "text/plain": [
       "datetime.datetime(2021, 11, 2, 20, 47, 12, 356159)"
      ]
     },
     "execution_count": 3,
     "metadata": {},
     "output_type": "execute_result"
    }
   ],
   "source": [
    "datetime.now()"
   ]
  },
  {
   "cell_type": "code",
   "execution_count": 6,
   "id": "fd01dc2f",
   "metadata": {},
   "outputs": [
    {
     "data": {
      "text/plain": [
       "(2021, 53)"
      ]
     },
     "execution_count": 6,
     "metadata": {},
     "output_type": "execute_result"
    }
   ],
   "source": [
    "datetime.now().year,datetime.now().second"
   ]
  },
  {
   "cell_type": "code",
   "execution_count": 13,
   "id": "7fa2dc43",
   "metadata": {},
   "outputs": [
    {
     "data": {
      "text/plain": [
       "(datetime.timedelta(days=8556, seconds=74965, microseconds=244200),\n",
       " datetime.timedelta)"
      ]
     },
     "execution_count": 13,
     "metadata": {},
     "output_type": "execute_result"
    }
   ],
   "source": [
    "d = datetime.now()-datetime(1998,5,31)\n",
    "d,type(d)"
   ]
  },
  {
   "cell_type": "code",
   "execution_count": 11,
   "id": "5168ad99",
   "metadata": {},
   "outputs": [
    {
     "data": {
      "text/plain": [
       "8556"
      ]
     },
     "execution_count": 11,
     "metadata": {},
     "output_type": "execute_result"
    }
   ],
   "source": [
    "d.days"
   ]
  },
  {
   "cell_type": "code",
   "execution_count": 12,
   "id": "58b9c43b",
   "metadata": {},
   "outputs": [
    {
     "data": {
      "text/plain": [
       "74944"
      ]
     },
     "execution_count": 12,
     "metadata": {},
     "output_type": "execute_result"
    }
   ],
   "source": [
    "d.seconds"
   ]
  },
  {
   "cell_type": "code",
   "execution_count": 17,
   "id": "731bcd9d",
   "metadata": {},
   "outputs": [
    {
     "data": {
      "text/plain": [
       "datetime.datetime(2021, 10, 31, 20, 50, 21, 371728)"
      ]
     },
     "execution_count": 17,
     "metadata": {},
     "output_type": "execute_result"
    }
   ],
   "source": [
    "d = datetime.now() -timedelta(2)\n",
    "d"
   ]
  },
  {
   "cell_type": "code",
   "execution_count": 19,
   "id": "b5e04bea",
   "metadata": {},
   "outputs": [
    {
     "data": {
      "text/plain": [
       "datetime.datetime(2008, 5, 12, 0, 0)"
      ]
     },
     "execution_count": 19,
     "metadata": {},
     "output_type": "execute_result"
    }
   ],
   "source": [
    "d = datetime(2008,5,12)\n",
    "d"
   ]
  },
  {
   "cell_type": "code",
   "execution_count": 20,
   "id": "5ce537db",
   "metadata": {},
   "outputs": [
    {
     "data": {
      "text/plain": [
       "'2008-05-12 00:00:00'"
      ]
     },
     "execution_count": 20,
     "metadata": {},
     "output_type": "execute_result"
    }
   ],
   "source": [
    "str(d)"
   ]
  },
  {
   "cell_type": "code",
   "execution_count": 21,
   "id": "31e9d523",
   "metadata": {},
   "outputs": [
    {
     "data": {
      "text/plain": [
       "'2008-05-12'"
      ]
     },
     "execution_count": 21,
     "metadata": {},
     "output_type": "execute_result"
    }
   ],
   "source": [
    "d.strftime(\"%Y-%m-%d\")"
   ]
  },
  {
   "cell_type": "code",
   "execution_count": 24,
   "id": "1311dea8",
   "metadata": {},
   "outputs": [
    {
     "data": {
      "text/plain": [
       "datetime.datetime(2011, 1, 2, 0, 0)"
      ]
     },
     "execution_count": 24,
     "metadata": {},
     "output_type": "execute_result"
    }
   ],
   "source": [
    "v  = '2011-01-02'\n",
    "d = datetime.strptime(v,\"%Y-%m-%d\")\n",
    "d"
   ]
  },
  {
   "cell_type": "code",
   "execution_count": 30,
   "id": "b08077b2",
   "metadata": {},
   "outputs": [],
   "source": [
    "d = [\"1/1/2008\",\"2/2/2010\"]"
   ]
  },
  {
   "cell_type": "code",
   "execution_count": 32,
   "id": "2751cd24",
   "metadata": {},
   "outputs": [
    {
     "name": "stdout",
     "output_type": "stream",
     "text": [
      "2008-01-01 00:00:00\n",
      "2010-02-02 00:00:00\n"
     ]
    }
   ],
   "source": [
    "for x in d:\n",
    "    print(datetime.strptime(x,\"%d/%m/%Y\") )\n",
    "    "
   ]
  },
  {
   "cell_type": "code",
   "execution_count": 33,
   "id": "d939a6d1",
   "metadata": {},
   "outputs": [
    {
     "data": {
      "text/plain": [
       "[datetime.datetime(2008, 1, 1, 0, 0), datetime.datetime(2010, 2, 2, 0, 0)]"
      ]
     },
     "execution_count": 33,
     "metadata": {},
     "output_type": "execute_result"
    }
   ],
   "source": [
    "[datetime.strptime(x,\"%d/%m/%Y\") for x in d]"
   ]
  },
  {
   "cell_type": "code",
   "execution_count": 35,
   "id": "c03c0d13",
   "metadata": {},
   "outputs": [],
   "source": [
    "from dateutil.parser import parse"
   ]
  },
  {
   "cell_type": "code",
   "execution_count": 37,
   "id": "a7d93ded",
   "metadata": {},
   "outputs": [
    {
     "data": {
      "text/plain": [
       "datetime.datetime(2011, 1, 1, 0, 0)"
      ]
     },
     "execution_count": 37,
     "metadata": {},
     "output_type": "execute_result"
    }
   ],
   "source": [
    "parse(\"2011-1-1\")"
   ]
  },
  {
   "cell_type": "code",
   "execution_count": 38,
   "id": "78d8e074",
   "metadata": {},
   "outputs": [
    {
     "data": {
      "text/plain": [
       "datetime.datetime(2011, 1, 1, 0, 0)"
      ]
     },
     "execution_count": 38,
     "metadata": {},
     "output_type": "execute_result"
    }
   ],
   "source": [
    "parse(\"2011/1/1\")"
   ]
  },
  {
   "cell_type": "code",
   "execution_count": 36,
   "id": "0b1424d8",
   "metadata": {},
   "outputs": [
    {
     "data": {
      "text/plain": [
       "datetime.datetime(2021, 11, 2, 0, 0)"
      ]
     },
     "execution_count": 36,
     "metadata": {},
     "output_type": "execute_result"
    }
   ],
   "source": [
    "parse(datetime.now().strftime(\"%Y-%m-%d\"))"
   ]
  },
  {
   "cell_type": "code",
   "execution_count": 39,
   "id": "5e13bb04",
   "metadata": {},
   "outputs": [
    {
     "data": {
      "text/plain": [
       "datetime.datetime(2023, 1, 1, 0, 0)"
      ]
     },
     "execution_count": 39,
     "metadata": {},
     "output_type": "execute_result"
    }
   ],
   "source": [
    "parse(\"1,1,2023\",dayfirst=True)"
   ]
  },
  {
   "cell_type": "code",
   "execution_count": 40,
   "id": "bce8197a",
   "metadata": {},
   "outputs": [],
   "source": [
    "import pandas as pd"
   ]
  },
  {
   "cell_type": "markdown",
   "id": "5df0483b",
   "metadata": {},
   "source": [
    "时间序列基础"
   ]
  },
  {
   "cell_type": "code",
   "execution_count": 41,
   "id": "8633ff0c",
   "metadata": {},
   "outputs": [],
   "source": [
    "import numpy as np\n",
    "import pandas as pd\n",
    "from datetime import datetime"
   ]
  },
  {
   "cell_type": "code",
   "execution_count": 44,
   "id": "a1ed691a",
   "metadata": {},
   "outputs": [
    {
     "data": {
      "text/plain": [
       "2011-01-02    0.280592\n",
       "2011-01-05    0.682102\n",
       "2011-01-07   -1.041878\n",
       "2011-01-08   -0.215922\n",
       "2011-01-10   -0.430216\n",
       "2011-01-12   -0.132754\n",
       "dtype: float64"
      ]
     },
     "execution_count": 44,
     "metadata": {},
     "output_type": "execute_result"
    }
   ],
   "source": [
    "dates = [datetime(2011, 1, 2), datetime(2011, 1, 5),\n",
    "datetime(2011, 1, 7), datetime(2011, 1, 8),\n",
    "datetime(2011, 1, 10), datetime(2011, 1, 12)]\n",
    "date = pd.Series(np.random.randn(6), index=dates)\n",
    "date"
   ]
  },
  {
   "cell_type": "code",
   "execution_count": 45,
   "id": "28d43847",
   "metadata": {},
   "outputs": [
    {
     "data": {
      "text/plain": [
       "2011-01-02    0.280592\n",
       "2011-01-07   -1.041878\n",
       "2011-01-10   -0.430216\n",
       "dtype: float64"
      ]
     },
     "execution_count": 45,
     "metadata": {},
     "output_type": "execute_result"
    }
   ],
   "source": [
    "date[::2]"
   ]
  },
  {
   "cell_type": "code",
   "execution_count": 46,
   "id": "6990a802",
   "metadata": {},
   "outputs": [
    {
     "data": {
      "text/plain": [
       "dtype('<M8[ns]')"
      ]
     },
     "execution_count": 46,
     "metadata": {},
     "output_type": "execute_result"
    }
   ],
   "source": [
    "date.index.dtype"
   ]
  },
  {
   "cell_type": "code",
   "execution_count": 48,
   "id": "87ea7b17",
   "metadata": {},
   "outputs": [
    {
     "data": {
      "text/plain": [
       "Timestamp('2011-01-02 00:00:00')"
      ]
     },
     "execution_count": 48,
     "metadata": {},
     "output_type": "execute_result"
    }
   ],
   "source": [
    "date.index[0]"
   ]
  },
  {
   "cell_type": "code",
   "execution_count": 49,
   "id": "3cbd7c5f",
   "metadata": {},
   "outputs": [
    {
     "data": {
      "text/plain": [
       "0.2805919882734303"
      ]
     },
     "execution_count": 49,
     "metadata": {},
     "output_type": "execute_result"
    }
   ],
   "source": [
    "date[date.index[0]]"
   ]
  },
  {
   "cell_type": "code",
   "execution_count": 53,
   "id": "669f8d78",
   "metadata": {},
   "outputs": [
    {
     "data": {
      "text/plain": [
       "0.2805919882734303"
      ]
     },
     "execution_count": 53,
     "metadata": {},
     "output_type": "execute_result"
    }
   ],
   "source": [
    "date[\"2011-1-2\"]"
   ]
  },
  {
   "cell_type": "code",
   "execution_count": 52,
   "id": "e684d051",
   "metadata": {},
   "outputs": [
    {
     "data": {
      "text/plain": [
       "0.2805919882734303"
      ]
     },
     "execution_count": 52,
     "metadata": {},
     "output_type": "execute_result"
    }
   ],
   "source": [
    "date[\"1/2/2011\"]"
   ]
  },
  {
   "cell_type": "code",
   "execution_count": 54,
   "id": "80f9587e",
   "metadata": {},
   "outputs": [
    {
     "data": {
      "text/plain": [
       "0.2805919882734303"
      ]
     },
     "execution_count": 54,
     "metadata": {},
     "output_type": "execute_result"
    }
   ],
   "source": [
    "date[\"20110102\"]"
   ]
  },
  {
   "cell_type": "code",
   "execution_count": 61,
   "id": "6fc66fc4",
   "metadata": {},
   "outputs": [
    {
     "data": {
      "text/plain": [
       "0.2805919882734303"
      ]
     },
     "execution_count": 61,
     "metadata": {},
     "output_type": "execute_result"
    }
   ],
   "source": [
    "date[datetime(2011,1,2)]"
   ]
  },
  {
   "cell_type": "code",
   "execution_count": 57,
   "id": "c39423d2",
   "metadata": {},
   "outputs": [
    {
     "data": {
      "text/plain": [
       "2000-01-01   -0.397549\n",
       "2000-01-02    0.054583\n",
       "2000-01-03    0.978630\n",
       "2000-01-04    1.065982\n",
       "2000-01-05   -0.880825\n",
       "                ...   \n",
       "2002-09-22    0.279029\n",
       "2002-09-23   -0.534794\n",
       "2002-09-24   -1.592332\n",
       "2002-09-25    1.807155\n",
       "2002-09-26   -0.698099\n",
       "Freq: D, Length: 1000, dtype: float64"
      ]
     },
     "execution_count": 57,
     "metadata": {},
     "output_type": "execute_result"
    }
   ],
   "source": [
    "date1 = pd.Series(np.random.randn(1000),index=pd.date_range(\"1/1/2000\",periods=1000))\n",
    "date1"
   ]
  },
  {
   "cell_type": "code",
   "execution_count": 58,
   "id": "5637908c",
   "metadata": {},
   "outputs": [
    {
     "data": {
      "text/plain": [
       "2000-01-01   -0.397549\n",
       "2000-01-02    0.054583\n",
       "2000-01-03    0.978630\n",
       "2000-01-04    1.065982\n",
       "2000-01-05   -0.880825\n",
       "                ...   \n",
       "2000-12-27   -1.352551\n",
       "2000-12-28   -0.288816\n",
       "2000-12-29   -0.459871\n",
       "2000-12-30   -0.561632\n",
       "2000-12-31    0.883164\n",
       "Freq: D, Length: 366, dtype: float64"
      ]
     },
     "execution_count": 58,
     "metadata": {},
     "output_type": "execute_result"
    }
   ],
   "source": [
    "date1[\"2000\"]"
   ]
  },
  {
   "cell_type": "code",
   "execution_count": 59,
   "id": "d5e30692",
   "metadata": {},
   "outputs": [
    {
     "data": {
      "text/plain": [
       "2000-05-01    0.353552\n",
       "2000-05-02   -1.650443\n",
       "2000-05-03   -0.604498\n",
       "2000-05-04    0.716130\n",
       "2000-05-05    0.454772\n",
       "2000-05-06   -1.191810\n",
       "2000-05-07   -1.804902\n",
       "2000-05-08   -1.237189\n",
       "2000-05-09    1.090457\n",
       "2000-05-10    0.755982\n",
       "2000-05-11    0.001786\n",
       "2000-05-12    0.465066\n",
       "2000-05-13    0.110842\n",
       "2000-05-14    1.295813\n",
       "2000-05-15    0.290940\n",
       "2000-05-16    1.191405\n",
       "2000-05-17    0.101087\n",
       "2000-05-18    0.761340\n",
       "2000-05-19    2.115176\n",
       "2000-05-20   -1.112252\n",
       "2000-05-21   -0.005975\n",
       "2000-05-22    0.166520\n",
       "2000-05-23   -2.024840\n",
       "2000-05-24   -1.632857\n",
       "2000-05-25   -0.652159\n",
       "2000-05-26    1.164689\n",
       "2000-05-27    1.468266\n",
       "2000-05-28   -2.007993\n",
       "2000-05-29    0.489994\n",
       "2000-05-30    0.293108\n",
       "2000-05-31    0.724973\n",
       "Freq: D, dtype: float64"
      ]
     },
     "execution_count": 59,
     "metadata": {},
     "output_type": "execute_result"
    }
   ],
   "source": [
    "date1[\"5/2000\"]"
   ]
  },
  {
   "cell_type": "code",
   "execution_count": 60,
   "id": "cbc477f3",
   "metadata": {},
   "outputs": [
    {
     "data": {
      "text/plain": [
       "2000-05-01    0.353552\n",
       "2000-05-02   -1.650443\n",
       "2000-05-03   -0.604498\n",
       "2000-05-04    0.716130\n",
       "2000-05-05    0.454772\n",
       "2000-05-06   -1.191810\n",
       "2000-05-07   -1.804902\n",
       "2000-05-08   -1.237189\n",
       "2000-05-09    1.090457\n",
       "2000-05-10    0.755982\n",
       "2000-05-11    0.001786\n",
       "2000-05-12    0.465066\n",
       "2000-05-13    0.110842\n",
       "2000-05-14    1.295813\n",
       "2000-05-15    0.290940\n",
       "2000-05-16    1.191405\n",
       "2000-05-17    0.101087\n",
       "2000-05-18    0.761340\n",
       "2000-05-19    2.115176\n",
       "2000-05-20   -1.112252\n",
       "2000-05-21   -0.005975\n",
       "2000-05-22    0.166520\n",
       "2000-05-23   -2.024840\n",
       "2000-05-24   -1.632857\n",
       "2000-05-25   -0.652159\n",
       "2000-05-26    1.164689\n",
       "2000-05-27    1.468266\n",
       "2000-05-28   -2.007993\n",
       "2000-05-29    0.489994\n",
       "2000-05-30    0.293108\n",
       "2000-05-31    0.724973\n",
       "Freq: D, dtype: float64"
      ]
     },
     "execution_count": 60,
     "metadata": {},
     "output_type": "execute_result"
    }
   ],
   "source": [
    "date1[\"05/2000\"]"
   ]
  },
  {
   "cell_type": "code",
   "execution_count": 64,
   "id": "d5b52b82",
   "metadata": {},
   "outputs": [
    {
     "data": {
      "text/plain": [
       "2002-09-01    0.050876\n",
       "2002-09-02   -0.850853\n",
       "2002-09-03    0.296033\n",
       "2002-09-04    1.681151\n",
       "2002-09-05   -0.250019\n",
       "2002-09-06   -0.504837\n",
       "2002-09-07    0.413477\n",
       "2002-09-08    1.047808\n",
       "2002-09-09   -1.001804\n",
       "2002-09-10   -0.006026\n",
       "2002-09-11   -0.409848\n",
       "2002-09-12    1.941931\n",
       "2002-09-13    1.103044\n",
       "2002-09-14   -1.392108\n",
       "2002-09-15    0.624367\n",
       "2002-09-16    2.025440\n",
       "2002-09-17   -1.801366\n",
       "2002-09-18   -0.770458\n",
       "2002-09-19    0.551698\n",
       "2002-09-20    0.906642\n",
       "2002-09-21   -0.949348\n",
       "2002-09-22    0.279029\n",
       "2002-09-23   -0.534794\n",
       "2002-09-24   -1.592332\n",
       "2002-09-25    1.807155\n",
       "2002-09-26   -0.698099\n",
       "Freq: D, dtype: float64"
      ]
     },
     "execution_count": 64,
     "metadata": {},
     "output_type": "execute_result"
    }
   ],
   "source": [
    "date1[datetime(2002,9,1):]"
   ]
  },
  {
   "cell_type": "code",
   "execution_count": 67,
   "id": "88c39289",
   "metadata": {},
   "outputs": [
    {
     "data": {
      "text/plain": [
       "2000-01-01   -0.397549\n",
       "2000-01-02    0.054583\n",
       "2000-01-03    0.978630\n",
       "2000-01-04    1.065982\n",
       "2000-01-05   -0.880825\n",
       "                ...   \n",
       "2002-09-22    0.279029\n",
       "2002-09-23    1.000000\n",
       "2002-09-24    1.000000\n",
       "2002-09-25    1.000000\n",
       "2002-09-26    1.000000\n",
       "Freq: D, Length: 1000, dtype: float64"
      ]
     },
     "execution_count": 67,
     "metadata": {},
     "output_type": "execute_result"
    }
   ],
   "source": [
    "date1[datetime(2002,9,23):datetime(2002,9,26)]=1\n",
    "date1"
   ]
  },
  {
   "cell_type": "code",
   "execution_count": 69,
   "id": "9fc81ead",
   "metadata": {},
   "outputs": [
    {
     "data": {
      "text/plain": [
       "2000-01-01    1.000000\n",
       "2000-01-02    1.000000\n",
       "2000-01-03    1.000000\n",
       "2000-01-04    1.000000\n",
       "2000-01-05    1.000000\n",
       "                ...   \n",
       "2002-09-22    0.279029\n",
       "2002-09-23    1.000000\n",
       "2002-09-24    1.000000\n",
       "2002-09-25    1.000000\n",
       "2002-09-26    1.000000\n",
       "Freq: D, Length: 1000, dtype: float64"
      ]
     },
     "execution_count": 69,
     "metadata": {},
     "output_type": "execute_result"
    }
   ],
   "source": [
    "date1[\"2000/1/1\":\"2001/1/1\"]=1\n",
    "date1"
   ]
  },
  {
   "cell_type": "code",
   "execution_count": 74,
   "id": "5fdf9047",
   "metadata": {},
   "outputs": [
    {
     "data": {
      "text/plain": [
       "2000-01-10    1.0\n",
       "2000-01-11    1.0\n",
       "2000-01-12    1.0\n",
       "2000-01-13    1.0\n",
       "2000-01-14    1.0\n",
       "2000-01-15    1.0\n",
       "2000-01-16    1.0\n",
       "2000-01-17    1.0\n",
       "2000-01-18    1.0\n",
       "2000-01-19    1.0\n",
       "2000-01-20    1.0\n",
       "2000-01-21    1.0\n",
       "2000-01-22    1.0\n",
       "2000-01-23    1.0\n",
       "2000-01-24    1.0\n",
       "2000-01-25    1.0\n",
       "2000-01-26    1.0\n",
       "2000-01-27    1.0\n",
       "2000-01-28    1.0\n",
       "2000-01-29    1.0\n",
       "2000-01-30    1.0\n",
       "2000-01-31    1.0\n",
       "2000-02-01    1.0\n",
       "Freq: D, dtype: float64"
      ]
     },
     "execution_count": 74,
     "metadata": {},
     "output_type": "execute_result"
    }
   ],
   "source": [
    "date1.truncate(before=\"2000-1-10\",after=\"2000-2-1\")"
   ]
  },
  {
   "cell_type": "code",
   "execution_count": 80,
   "id": "deae5469",
   "metadata": {},
   "outputs": [
    {
     "data": {
      "text/plain": [
       "time\n",
       "2000-01-01    0\n",
       "2001-01-01    1\n",
       "2000-01-01    2\n",
       "2003-01-01    3\n",
       "2004-01-01    4\n",
       "dtype: int32"
      ]
     },
     "execution_count": 80,
     "metadata": {},
     "output_type": "execute_result"
    }
   ],
   "source": [
    "index_=pd.DatetimeIndex([\"2000-1-1\",\"2001-1-1\",\"2000-1-1\",\"2003-1-1\",\"2004-1-1\"],name=\"time\")\n",
    "date2=pd.Series(np.arange(5),index=index_)\n",
    "date2"
   ]
  },
  {
   "cell_type": "code",
   "execution_count": 83,
   "id": "c3d8c521",
   "metadata": {},
   "outputs": [
    {
     "data": {
      "text/plain": [
       "DatetimeIndex(['2000-01-01', '2001-01-01', '2003-01-01', '2004-01-01'], dtype='datetime64[ns]', name='time', freq=None)"
      ]
     },
     "execution_count": 83,
     "metadata": {},
     "output_type": "execute_result"
    }
   ],
   "source": [
    "date2.index.unique()"
   ]
  },
  {
   "cell_type": "code",
   "execution_count": 85,
   "id": "fa9a41ae",
   "metadata": {},
   "outputs": [
    {
     "data": {
      "text/plain": [
       "False"
      ]
     },
     "execution_count": 85,
     "metadata": {},
     "output_type": "execute_result"
    }
   ],
   "source": [
    "date2.index.is_unique"
   ]
  },
  {
   "cell_type": "code",
   "execution_count": 87,
   "id": "6e85d314",
   "metadata": {},
   "outputs": [
    {
     "data": {
      "text/plain": [
       "time\n",
       "2000-01-01    0\n",
       "2000-01-01    2\n",
       "dtype: int32"
      ]
     },
     "execution_count": 87,
     "metadata": {},
     "output_type": "execute_result"
    }
   ],
   "source": [
    "date2[\"1/1/2000\"]"
   ]
  },
  {
   "cell_type": "code",
   "execution_count": 91,
   "id": "7d213c85",
   "metadata": {},
   "outputs": [
    {
     "data": {
      "text/plain": [
       "time\n",
       "2000-01-01    2\n",
       "2001-01-01    1\n",
       "2003-01-01    3\n",
       "2004-01-01    4\n",
       "dtype: int32"
      ]
     },
     "execution_count": 91,
     "metadata": {},
     "output_type": "execute_result"
    }
   ],
   "source": [
    "date2.groupby(level=0).sum()"
   ]
  },
  {
   "cell_type": "code",
   "execution_count": 92,
   "id": "2ea572c8",
   "metadata": {},
   "outputs": [
    {
     "data": {
      "text/plain": [
       "time\n",
       "2000-01-01    2\n",
       "2001-01-01    1\n",
       "2003-01-01    3\n",
       "2004-01-01    4\n",
       "dtype: int32"
      ]
     },
     "execution_count": 92,
     "metadata": {},
     "output_type": "execute_result"
    }
   ],
   "source": [
    "date2.groupby(\"time\").sum()"
   ]
  },
  {
   "cell_type": "code",
   "execution_count": 94,
   "id": "5cab81e8",
   "metadata": {},
   "outputs": [
    {
     "data": {
      "text/plain": [
       "time\n",
       "2000-01-01    2\n",
       "2001-01-01    1\n",
       "2003-01-01    1\n",
       "2004-01-01    1\n",
       "dtype: int64"
      ]
     },
     "execution_count": 94,
     "metadata": {},
     "output_type": "execute_result"
    }
   ],
   "source": [
    "date2.groupby(level=0).count()"
   ]
  },
  {
   "cell_type": "code",
   "execution_count": 101,
   "id": "00e86642",
   "metadata": {},
   "outputs": [
    {
     "data": {
      "text/plain": [
       "2000-01-01    5\n",
       "2000-01-02    7\n",
       "2000-01-03    4\n",
       "2000-01-04    1\n",
       "2000-01-05    8\n",
       "2000-01-06    0\n",
       "2000-01-07    2\n",
       "2000-01-08    6\n",
       "2000-01-09    9\n",
       "2000-01-10    3\n",
       "Freq: D, dtype: int32"
      ]
     },
     "execution_count": 101,
     "metadata": {},
     "output_type": "execute_result"
    }
   ],
   "source": [
    "index = pd.date_range(\"2000-1-1\",\"2000-1-10\")\n",
    "date3 = pd.Series(np.random.permutation(10),index=index)\n",
    "date3"
   ]
  },
  {
   "cell_type": "code",
   "execution_count": 103,
   "id": "be243136",
   "metadata": {},
   "outputs": [
    {
     "data": {
      "text/plain": [
       "DatetimeIndex(['2000-01-31', '2000-02-29', '2000-03-31', '2000-04-30',\n",
       "               '2000-05-31', '2000-06-30', '2000-07-31', '2000-08-31',\n",
       "               '2000-09-30', '2000-10-31'],\n",
       "              dtype='datetime64[ns]', freq='M')"
      ]
     },
     "execution_count": 103,
     "metadata": {},
     "output_type": "execute_result"
    }
   ],
   "source": [
    "index = pd.date_range(\"2000-1-1\",freq=\"M\",periods=10)\n",
    "index"
   ]
  },
  {
   "cell_type": "code",
   "execution_count": 112,
   "id": "cbf97e49",
   "metadata": {},
   "outputs": [],
   "source": [
    "from pandas.tseries.offsets import Hour, Minute"
   ]
  },
  {
   "cell_type": "code",
   "execution_count": 115,
   "id": "233feab6",
   "metadata": {},
   "outputs": [
    {
     "data": {
      "text/plain": [
       "<4 * Hours>"
      ]
     },
     "execution_count": 115,
     "metadata": {},
     "output_type": "execute_result"
    }
   ],
   "source": [
    "hour = pd.tseries.offsets.Hour()\n",
    "hour\n",
    "Hour(4)"
   ]
  },
  {
   "cell_type": "code",
   "execution_count": 122,
   "id": "e9491bd2",
   "metadata": {},
   "outputs": [
    {
     "data": {
      "text/plain": [
       "<Hour>"
      ]
     },
     "execution_count": 122,
     "metadata": {},
     "output_type": "execute_result"
    }
   ],
   "source": [
    "h = Hour()\n",
    "h"
   ]
  },
  {
   "cell_type": "code",
   "execution_count": 123,
   "id": "360cbf55",
   "metadata": {},
   "outputs": [
    {
     "data": {
      "text/plain": [
       "DatetimeIndex(['2000-01-01 00:00:00', '2000-01-01 03:00:00',\n",
       "               '2000-01-01 06:00:00', '2000-01-01 09:00:00',\n",
       "               '2000-01-01 12:00:00', '2000-01-01 15:00:00',\n",
       "               '2000-01-01 18:00:00', '2000-01-01 21:00:00',\n",
       "               '2000-01-02 00:00:00'],\n",
       "              dtype='datetime64[ns]', freq='3H')"
      ]
     },
     "execution_count": 123,
     "metadata": {},
     "output_type": "execute_result"
    }
   ],
   "source": [
    "pd.date_range(\"2000-1-1\",\"2000-1-2\",freq=\"3h\")"
   ]
  },
  {
   "cell_type": "code",
   "execution_count": 130,
   "id": "521e2d2e",
   "metadata": {},
   "outputs": [
    {
     "data": {
      "text/plain": [
       "DatetimeIndex(['2000-01-01 00:00:00', '2000-01-02 02:20:00',\n",
       "               '2000-01-03 04:40:00', '2000-01-04 07:00:00',\n",
       "               '2000-01-05 09:20:00', '2000-01-06 11:40:00',\n",
       "               '2000-01-07 14:00:00', '2000-01-08 16:20:00',\n",
       "               '2000-01-09 18:40:00'],\n",
       "              dtype='datetime64[ns]', freq='1580T')"
      ]
     },
     "execution_count": 130,
     "metadata": {},
     "output_type": "execute_result"
    }
   ],
   "source": [
    "pd.date_range('2000-01-01','2000-01-10',freq='1D2h20min')"
   ]
  },
  {
   "cell_type": "code",
   "execution_count": 132,
   "id": "d033375f",
   "metadata": {},
   "outputs": [
    {
     "data": {
      "text/plain": [
       "0   -0.206004\n",
       "1    0.848432\n",
       "2    1.454819\n",
       "3    0.919840\n",
       "dtype: float64"
      ]
     },
     "execution_count": 132,
     "metadata": {},
     "output_type": "execute_result"
    }
   ],
   "source": [
    "date4 = pd.Series(np.random.randn(4))\n",
    "date4"
   ]
  },
  {
   "cell_type": "code",
   "execution_count": 133,
   "id": "44b15f3a",
   "metadata": {},
   "outputs": [
    {
     "data": {
      "text/plain": [
       "0         NaN\n",
       "1         NaN\n",
       "2   -0.206004\n",
       "3    0.848432\n",
       "dtype: float64"
      ]
     },
     "execution_count": 133,
     "metadata": {},
     "output_type": "execute_result"
    }
   ],
   "source": [
    "date4.shift(2)"
   ]
  },
  {
   "cell_type": "code",
   "execution_count": 135,
   "id": "629210d2",
   "metadata": {},
   "outputs": [
    {
     "data": {
      "text/plain": [
       "2000-01-01   -0.206004\n",
       "2000-01-02    0.848432\n",
       "2000-01-03    1.454819\n",
       "2000-01-04    0.919840\n",
       "Freq: D, dtype: float64"
      ]
     },
     "execution_count": 135,
     "metadata": {},
     "output_type": "execute_result"
    }
   ],
   "source": [
    "date4.index = pd.date_range(\"2000-1-1\",periods=4,freq=\"d\")\n",
    "date4"
   ]
  },
  {
   "cell_type": "code",
   "execution_count": 136,
   "id": "5df85e46",
   "metadata": {},
   "outputs": [
    {
     "data": {
      "text/plain": [
       "2000-01-03   -0.206004\n",
       "2000-01-04    0.848432\n",
       "2000-01-05    1.454819\n",
       "2000-01-06    0.919840\n",
       "Freq: D, dtype: float64"
      ]
     },
     "execution_count": 136,
     "metadata": {},
     "output_type": "execute_result"
    }
   ],
   "source": [
    "date4.shift(2,freq=\"d\")"
   ]
  },
  {
   "cell_type": "code",
   "execution_count": 140,
   "id": "f467f1d7",
   "metadata": {},
   "outputs": [
    {
     "data": {
      "text/html": [
       "<div>\n",
       "<style scoped>\n",
       "    .dataframe tbody tr th:only-of-type {\n",
       "        vertical-align: middle;\n",
       "    }\n",
       "\n",
       "    .dataframe tbody tr th {\n",
       "        vertical-align: top;\n",
       "    }\n",
       "\n",
       "    .dataframe thead th {\n",
       "        text-align: right;\n",
       "    }\n",
       "</style>\n",
       "<table border=\"1\" class=\"dataframe\">\n",
       "  <thead>\n",
       "    <tr style=\"text-align: right;\">\n",
       "      <th></th>\n",
       "      <th>0</th>\n",
       "    </tr>\n",
       "  </thead>\n",
       "  <tbody>\n",
       "    <tr>\n",
       "      <th>2020-01-01</th>\n",
       "      <td>33.523778</td>\n",
       "    </tr>\n",
       "    <tr>\n",
       "      <th>2020-01-02</th>\n",
       "      <td>17.104173</td>\n",
       "    </tr>\n",
       "    <tr>\n",
       "      <th>2020-01-03</th>\n",
       "      <td>31.296025</td>\n",
       "    </tr>\n",
       "    <tr>\n",
       "      <th>2020-01-04</th>\n",
       "      <td>28.802202</td>\n",
       "    </tr>\n",
       "    <tr>\n",
       "      <th>2020-01-05</th>\n",
       "      <td>28.407588</td>\n",
       "    </tr>\n",
       "    <tr>\n",
       "      <th>...</th>\n",
       "      <td>...</td>\n",
       "    </tr>\n",
       "    <tr>\n",
       "      <th>2020-04-05</th>\n",
       "      <td>18.410638</td>\n",
       "    </tr>\n",
       "    <tr>\n",
       "      <th>2020-04-06</th>\n",
       "      <td>35.340013</td>\n",
       "    </tr>\n",
       "    <tr>\n",
       "      <th>2020-04-07</th>\n",
       "      <td>32.960501</td>\n",
       "    </tr>\n",
       "    <tr>\n",
       "      <th>2020-04-08</th>\n",
       "      <td>26.780976</td>\n",
       "    </tr>\n",
       "    <tr>\n",
       "      <th>2020-04-09</th>\n",
       "      <td>17.096358</td>\n",
       "    </tr>\n",
       "  </tbody>\n",
       "</table>\n",
       "<p>100 rows × 1 columns</p>\n",
       "</div>"
      ],
      "text/plain": [
       "                    0\n",
       "2020-01-01  33.523778\n",
       "2020-01-02  17.104173\n",
       "2020-01-03  31.296025\n",
       "2020-01-04  28.802202\n",
       "2020-01-05  28.407588\n",
       "...               ...\n",
       "2020-04-05  18.410638\n",
       "2020-04-06  35.340013\n",
       "2020-04-07  32.960501\n",
       "2020-04-08  26.780976\n",
       "2020-04-09  17.096358\n",
       "\n",
       "[100 rows x 1 columns]"
      ]
     },
     "execution_count": 140,
     "metadata": {},
     "output_type": "execute_result"
    }
   ],
   "source": [
    "date5 = pd.DataFrame(np.random.uniform(10,50,(100,1)), index= pd.date_range(\"2020-1-1\",periods=100))\n",
    "date5"
   ]
  },
  {
   "cell_type": "code",
   "execution_count": 152,
   "id": "5bce960b",
   "metadata": {},
   "outputs": [
    {
     "data": {
      "text/plain": [
       "[(Timestamp('2020-01-31 00:00:00', freq='M'),\n",
       "                      0\n",
       "  2020-01-01  33.523778\n",
       "  2020-01-02  17.104173\n",
       "  2020-01-03  31.296025\n",
       "  2020-01-04  28.802202\n",
       "  2020-01-05  28.407588\n",
       "  2020-01-06  20.880609\n",
       "  2020-01-07  37.657419\n",
       "  2020-01-08  46.622646\n",
       "  2020-01-09  31.673602\n",
       "  2020-01-10  47.272751\n",
       "  2020-01-11  42.032382\n",
       "  2020-01-12  37.689384\n",
       "  2020-01-13  22.695839\n",
       "  2020-01-14  29.840244\n",
       "  2020-01-15  17.159660\n",
       "  2020-01-16  13.149531\n",
       "  2020-01-17  16.920188\n",
       "  2020-01-18  28.056536\n",
       "  2020-01-19  30.321667\n",
       "  2020-01-20  46.530941\n",
       "  2020-01-21  45.820882\n",
       "  2020-01-22  44.078365\n",
       "  2020-01-23  20.668644\n",
       "  2020-01-24  30.671958\n",
       "  2020-01-25  49.986134\n",
       "  2020-01-26  22.011051\n",
       "  2020-01-27  35.266224\n",
       "  2020-01-28  29.167009\n",
       "  2020-01-29  12.498748\n",
       "  2020-01-30  30.045564\n",
       "  2020-01-31  20.074714),\n",
       " (Timestamp('2020-02-29 00:00:00', freq='M'),\n",
       "                      0\n",
       "  2020-02-01  39.147211\n",
       "  2020-02-02  36.018603\n",
       "  2020-02-03  20.500587\n",
       "  2020-02-04  19.170857\n",
       "  2020-02-05  25.871165\n",
       "  2020-02-06  36.334874\n",
       "  2020-02-07  27.168120\n",
       "  2020-02-08  18.399661\n",
       "  2020-02-09  14.313089\n",
       "  2020-02-10  18.131611\n",
       "  2020-02-11  30.348403\n",
       "  2020-02-12  31.169600\n",
       "  2020-02-13  35.105489\n",
       "  2020-02-14  37.191048\n",
       "  2020-02-15  49.307254\n",
       "  2020-02-16  27.510153\n",
       "  2020-02-17  41.133194\n",
       "  2020-02-18  10.638475\n",
       "  2020-02-19  32.819663\n",
       "  2020-02-20  10.516696\n",
       "  2020-02-21  39.909197\n",
       "  2020-02-22  28.457651\n",
       "  2020-02-23  48.808507\n",
       "  2020-02-24  15.460178\n",
       "  2020-02-25  34.909660\n",
       "  2020-02-26  46.863342\n",
       "  2020-02-27  16.807123\n",
       "  2020-02-28  32.035145\n",
       "  2020-02-29  46.794327),\n",
       " (Timestamp('2020-03-31 00:00:00', freq='M'),\n",
       "                      0\n",
       "  2020-03-01  40.827966\n",
       "  2020-03-02  33.977083\n",
       "  2020-03-03  26.890357\n",
       "  2020-03-04  28.215211\n",
       "  2020-03-05  41.548721\n",
       "  2020-03-06  43.805120\n",
       "  2020-03-07  37.323787\n",
       "  2020-03-08  26.816988\n",
       "  2020-03-09  38.960337\n",
       "  2020-03-10  27.202122\n",
       "  2020-03-11  18.667427\n",
       "  2020-03-12  40.638158\n",
       "  2020-03-13  36.124425\n",
       "  2020-03-14  11.314917\n",
       "  2020-03-15  30.719944\n",
       "  2020-03-16  22.014589\n",
       "  2020-03-17  23.443943\n",
       "  2020-03-18  19.933718\n",
       "  2020-03-19  13.110238\n",
       "  2020-03-20  14.282098\n",
       "  2020-03-21  31.202717\n",
       "  2020-03-22  36.634832\n",
       "  2020-03-23  41.993586\n",
       "  2020-03-24  24.676464\n",
       "  2020-03-25  36.998284\n",
       "  2020-03-26  33.163401\n",
       "  2020-03-27  35.725889\n",
       "  2020-03-28  13.285802\n",
       "  2020-03-29  38.691659\n",
       "  2020-03-30  21.020601\n",
       "  2020-03-31  13.804378),\n",
       " (Timestamp('2020-04-30 00:00:00', freq='M'),\n",
       "                      0\n",
       "  2020-04-01  30.850798\n",
       "  2020-04-02  29.971222\n",
       "  2020-04-03  27.203725\n",
       "  2020-04-04  16.889286\n",
       "  2020-04-05  18.410638\n",
       "  2020-04-06  35.340013\n",
       "  2020-04-07  32.960501\n",
       "  2020-04-08  26.780976\n",
       "  2020-04-09  17.096358)]"
      ]
     },
     "execution_count": 152,
     "metadata": {},
     "output_type": "execute_result"
    }
   ],
   "source": [
    "list(date5.resample(\"M\"))"
   ]
  },
  {
   "cell_type": "code",
   "execution_count": 153,
   "id": "eb9c3cad",
   "metadata": {},
   "outputs": [
    {
     "data": {
      "text/html": [
       "<div>\n",
       "<style scoped>\n",
       "    .dataframe tbody tr th:only-of-type {\n",
       "        vertical-align: middle;\n",
       "    }\n",
       "\n",
       "    .dataframe tbody tr th {\n",
       "        vertical-align: top;\n",
       "    }\n",
       "\n",
       "    .dataframe thead th {\n",
       "        text-align: right;\n",
       "    }\n",
       "</style>\n",
       "<table border=\"1\" class=\"dataframe\">\n",
       "  <thead>\n",
       "    <tr style=\"text-align: right;\">\n",
       "      <th></th>\n",
       "      <th>0</th>\n",
       "    </tr>\n",
       "  </thead>\n",
       "  <tbody>\n",
       "    <tr>\n",
       "      <th>2020-01-01</th>\n",
       "      <td>10</td>\n",
       "    </tr>\n",
       "    <tr>\n",
       "      <th>2020-01-11</th>\n",
       "      <td>10</td>\n",
       "    </tr>\n",
       "    <tr>\n",
       "      <th>2020-01-21</th>\n",
       "      <td>10</td>\n",
       "    </tr>\n",
       "    <tr>\n",
       "      <th>2020-01-31</th>\n",
       "      <td>10</td>\n",
       "    </tr>\n",
       "    <tr>\n",
       "      <th>2020-02-10</th>\n",
       "      <td>10</td>\n",
       "    </tr>\n",
       "    <tr>\n",
       "      <th>2020-02-20</th>\n",
       "      <td>10</td>\n",
       "    </tr>\n",
       "    <tr>\n",
       "      <th>2020-03-01</th>\n",
       "      <td>10</td>\n",
       "    </tr>\n",
       "    <tr>\n",
       "      <th>2020-03-11</th>\n",
       "      <td>10</td>\n",
       "    </tr>\n",
       "    <tr>\n",
       "      <th>2020-03-21</th>\n",
       "      <td>10</td>\n",
       "    </tr>\n",
       "    <tr>\n",
       "      <th>2020-03-31</th>\n",
       "      <td>10</td>\n",
       "    </tr>\n",
       "  </tbody>\n",
       "</table>\n",
       "</div>"
      ],
      "text/plain": [
       "             0\n",
       "2020-01-01  10\n",
       "2020-01-11  10\n",
       "2020-01-21  10\n",
       "2020-01-31  10\n",
       "2020-02-10  10\n",
       "2020-02-20  10\n",
       "2020-03-01  10\n",
       "2020-03-11  10\n",
       "2020-03-21  10\n",
       "2020-03-31  10"
      ]
     },
     "execution_count": 153,
     "metadata": {},
     "output_type": "execute_result"
    }
   ],
   "source": [
    "date5.resample(\"10D\").count()"
   ]
  },
  {
   "cell_type": "code",
   "execution_count": 154,
   "id": "8085a6b1",
   "metadata": {},
   "outputs": [
    {
     "data": {
      "text/html": [
       "<div>\n",
       "<style scoped>\n",
       "    .dataframe tbody tr th:only-of-type {\n",
       "        vertical-align: middle;\n",
       "    }\n",
       "\n",
       "    .dataframe tbody tr th {\n",
       "        vertical-align: top;\n",
       "    }\n",
       "\n",
       "    .dataframe thead th {\n",
       "        text-align: right;\n",
       "    }\n",
       "</style>\n",
       "<table border=\"1\" class=\"dataframe\">\n",
       "  <thead>\n",
       "    <tr style=\"text-align: right;\">\n",
       "      <th></th>\n",
       "      <th>上海</th>\n",
       "      <th>北京</th>\n",
       "      <th>深圳</th>\n",
       "      <th>广州</th>\n",
       "    </tr>\n",
       "  </thead>\n",
       "  <tbody>\n",
       "    <tr>\n",
       "      <th>2000-01-05</th>\n",
       "      <td>0.908272</td>\n",
       "      <td>-1.394051</td>\n",
       "      <td>-1.130515</td>\n",
       "      <td>0.973284</td>\n",
       "    </tr>\n",
       "    <tr>\n",
       "      <th>2000-01-12</th>\n",
       "      <td>1.458406</td>\n",
       "      <td>-0.434214</td>\n",
       "      <td>-1.017335</td>\n",
       "      <td>-0.190096</td>\n",
       "    </tr>\n",
       "  </tbody>\n",
       "</table>\n",
       "</div>"
      ],
      "text/plain": [
       "                  上海        北京        深圳        广州\n",
       "2000-01-05  0.908272 -1.394051 -1.130515  0.973284\n",
       "2000-01-12  1.458406 -0.434214 -1.017335 -0.190096"
      ]
     },
     "execution_count": 154,
     "metadata": {},
     "output_type": "execute_result"
    }
   ],
   "source": [
    "#升采样\n",
    "frame = pd.DataFrame(np.random.randn(2, 4),\n",
    "                    index=pd.date_range('1/1/2000', periods=2,freq='W-WED'),\n",
    "                    columns=['上海', '北京', '深圳', '广州'])\n",
    "frame"
   ]
  },
  {
   "cell_type": "code",
   "execution_count": 157,
   "id": "1e504c1f",
   "metadata": {},
   "outputs": [
    {
     "data": {
      "text/html": [
       "<div>\n",
       "<style scoped>\n",
       "    .dataframe tbody tr th:only-of-type {\n",
       "        vertical-align: middle;\n",
       "    }\n",
       "\n",
       "    .dataframe tbody tr th {\n",
       "        vertical-align: top;\n",
       "    }\n",
       "\n",
       "    .dataframe thead th {\n",
       "        text-align: right;\n",
       "    }\n",
       "</style>\n",
       "<table border=\"1\" class=\"dataframe\">\n",
       "  <thead>\n",
       "    <tr style=\"text-align: right;\">\n",
       "      <th></th>\n",
       "      <th>上海</th>\n",
       "      <th>北京</th>\n",
       "      <th>深圳</th>\n",
       "      <th>广州</th>\n",
       "    </tr>\n",
       "  </thead>\n",
       "  <tbody>\n",
       "    <tr>\n",
       "      <th>2000-01-05</th>\n",
       "      <td>0.908272</td>\n",
       "      <td>-1.394051</td>\n",
       "      <td>-1.130515</td>\n",
       "      <td>0.973284</td>\n",
       "    </tr>\n",
       "    <tr>\n",
       "      <th>2000-01-06</th>\n",
       "      <td>NaN</td>\n",
       "      <td>NaN</td>\n",
       "      <td>NaN</td>\n",
       "      <td>NaN</td>\n",
       "    </tr>\n",
       "    <tr>\n",
       "      <th>2000-01-07</th>\n",
       "      <td>NaN</td>\n",
       "      <td>NaN</td>\n",
       "      <td>NaN</td>\n",
       "      <td>NaN</td>\n",
       "    </tr>\n",
       "    <tr>\n",
       "      <th>2000-01-08</th>\n",
       "      <td>NaN</td>\n",
       "      <td>NaN</td>\n",
       "      <td>NaN</td>\n",
       "      <td>NaN</td>\n",
       "    </tr>\n",
       "    <tr>\n",
       "      <th>2000-01-09</th>\n",
       "      <td>NaN</td>\n",
       "      <td>NaN</td>\n",
       "      <td>NaN</td>\n",
       "      <td>NaN</td>\n",
       "    </tr>\n",
       "    <tr>\n",
       "      <th>2000-01-10</th>\n",
       "      <td>NaN</td>\n",
       "      <td>NaN</td>\n",
       "      <td>NaN</td>\n",
       "      <td>NaN</td>\n",
       "    </tr>\n",
       "    <tr>\n",
       "      <th>2000-01-11</th>\n",
       "      <td>NaN</td>\n",
       "      <td>NaN</td>\n",
       "      <td>NaN</td>\n",
       "      <td>NaN</td>\n",
       "    </tr>\n",
       "    <tr>\n",
       "      <th>2000-01-12</th>\n",
       "      <td>1.458406</td>\n",
       "      <td>-0.434214</td>\n",
       "      <td>-1.017335</td>\n",
       "      <td>-0.190096</td>\n",
       "    </tr>\n",
       "  </tbody>\n",
       "</table>\n",
       "</div>"
      ],
      "text/plain": [
       "                  上海        北京        深圳        广州\n",
       "2000-01-05  0.908272 -1.394051 -1.130515  0.973284\n",
       "2000-01-06       NaN       NaN       NaN       NaN\n",
       "2000-01-07       NaN       NaN       NaN       NaN\n",
       "2000-01-08       NaN       NaN       NaN       NaN\n",
       "2000-01-09       NaN       NaN       NaN       NaN\n",
       "2000-01-10       NaN       NaN       NaN       NaN\n",
       "2000-01-11       NaN       NaN       NaN       NaN\n",
       "2000-01-12  1.458406 -0.434214 -1.017335 -0.190096"
      ]
     },
     "execution_count": 157,
     "metadata": {},
     "output_type": "execute_result"
    }
   ],
   "source": [
    "frame.resample('D').asfreq()"
   ]
  },
  {
   "cell_type": "code",
   "execution_count": 158,
   "id": "e6b765ba",
   "metadata": {},
   "outputs": [
    {
     "data": {
      "text/html": [
       "<div>\n",
       "<style scoped>\n",
       "    .dataframe tbody tr th:only-of-type {\n",
       "        vertical-align: middle;\n",
       "    }\n",
       "\n",
       "    .dataframe tbody tr th {\n",
       "        vertical-align: top;\n",
       "    }\n",
       "\n",
       "    .dataframe thead th {\n",
       "        text-align: right;\n",
       "    }\n",
       "</style>\n",
       "<table border=\"1\" class=\"dataframe\">\n",
       "  <thead>\n",
       "    <tr style=\"text-align: right;\">\n",
       "      <th></th>\n",
       "      <th>上海</th>\n",
       "      <th>北京</th>\n",
       "      <th>深圳</th>\n",
       "      <th>广州</th>\n",
       "    </tr>\n",
       "  </thead>\n",
       "  <tbody>\n",
       "    <tr>\n",
       "      <th>2000-01-05</th>\n",
       "      <td>0.908272</td>\n",
       "      <td>-1.394051</td>\n",
       "      <td>-1.130515</td>\n",
       "      <td>0.973284</td>\n",
       "    </tr>\n",
       "    <tr>\n",
       "      <th>2000-01-06</th>\n",
       "      <td>0.908272</td>\n",
       "      <td>-1.394051</td>\n",
       "      <td>-1.130515</td>\n",
       "      <td>0.973284</td>\n",
       "    </tr>\n",
       "    <tr>\n",
       "      <th>2000-01-07</th>\n",
       "      <td>0.908272</td>\n",
       "      <td>-1.394051</td>\n",
       "      <td>-1.130515</td>\n",
       "      <td>0.973284</td>\n",
       "    </tr>\n",
       "    <tr>\n",
       "      <th>2000-01-08</th>\n",
       "      <td>0.908272</td>\n",
       "      <td>-1.394051</td>\n",
       "      <td>-1.130515</td>\n",
       "      <td>0.973284</td>\n",
       "    </tr>\n",
       "    <tr>\n",
       "      <th>2000-01-09</th>\n",
       "      <td>0.908272</td>\n",
       "      <td>-1.394051</td>\n",
       "      <td>-1.130515</td>\n",
       "      <td>0.973284</td>\n",
       "    </tr>\n",
       "    <tr>\n",
       "      <th>2000-01-10</th>\n",
       "      <td>0.908272</td>\n",
       "      <td>-1.394051</td>\n",
       "      <td>-1.130515</td>\n",
       "      <td>0.973284</td>\n",
       "    </tr>\n",
       "    <tr>\n",
       "      <th>2000-01-11</th>\n",
       "      <td>0.908272</td>\n",
       "      <td>-1.394051</td>\n",
       "      <td>-1.130515</td>\n",
       "      <td>0.973284</td>\n",
       "    </tr>\n",
       "    <tr>\n",
       "      <th>2000-01-12</th>\n",
       "      <td>1.458406</td>\n",
       "      <td>-0.434214</td>\n",
       "      <td>-1.017335</td>\n",
       "      <td>-0.190096</td>\n",
       "    </tr>\n",
       "  </tbody>\n",
       "</table>\n",
       "</div>"
      ],
      "text/plain": [
       "                  上海        北京        深圳        广州\n",
       "2000-01-05  0.908272 -1.394051 -1.130515  0.973284\n",
       "2000-01-06  0.908272 -1.394051 -1.130515  0.973284\n",
       "2000-01-07  0.908272 -1.394051 -1.130515  0.973284\n",
       "2000-01-08  0.908272 -1.394051 -1.130515  0.973284\n",
       "2000-01-09  0.908272 -1.394051 -1.130515  0.973284\n",
       "2000-01-10  0.908272 -1.394051 -1.130515  0.973284\n",
       "2000-01-11  0.908272 -1.394051 -1.130515  0.973284\n",
       "2000-01-12  1.458406 -0.434214 -1.017335 -0.190096"
      ]
     },
     "execution_count": 158,
     "metadata": {},
     "output_type": "execute_result"
    }
   ],
   "source": [
    "frame.resample('D').asfreq().ffill()"
   ]
  },
  {
   "cell_type": "code",
   "execution_count": 159,
   "id": "5ce9ec1c",
   "metadata": {},
   "outputs": [
    {
     "data": {
      "text/html": [
       "<div>\n",
       "<style scoped>\n",
       "    .dataframe tbody tr th:only-of-type {\n",
       "        vertical-align: middle;\n",
       "    }\n",
       "\n",
       "    .dataframe tbody tr th {\n",
       "        vertical-align: top;\n",
       "    }\n",
       "\n",
       "    .dataframe thead th {\n",
       "        text-align: right;\n",
       "    }\n",
       "</style>\n",
       "<table border=\"1\" class=\"dataframe\">\n",
       "  <thead>\n",
       "    <tr style=\"text-align: right;\">\n",
       "      <th></th>\n",
       "      <th>上海</th>\n",
       "      <th>北京</th>\n",
       "      <th>深圳</th>\n",
       "      <th>广州</th>\n",
       "    </tr>\n",
       "  </thead>\n",
       "  <tbody>\n",
       "    <tr>\n",
       "      <th>2000-01-05</th>\n",
       "      <td>0.908272</td>\n",
       "      <td>-1.394051</td>\n",
       "      <td>-1.130515</td>\n",
       "      <td>0.973284</td>\n",
       "    </tr>\n",
       "    <tr>\n",
       "      <th>2000-01-06</th>\n",
       "      <td>0.908272</td>\n",
       "      <td>-1.394051</td>\n",
       "      <td>-1.130515</td>\n",
       "      <td>0.973284</td>\n",
       "    </tr>\n",
       "    <tr>\n",
       "      <th>2000-01-07</th>\n",
       "      <td>0.908272</td>\n",
       "      <td>-1.394051</td>\n",
       "      <td>-1.130515</td>\n",
       "      <td>0.973284</td>\n",
       "    </tr>\n",
       "    <tr>\n",
       "      <th>2000-01-08</th>\n",
       "      <td>NaN</td>\n",
       "      <td>NaN</td>\n",
       "      <td>NaN</td>\n",
       "      <td>NaN</td>\n",
       "    </tr>\n",
       "    <tr>\n",
       "      <th>2000-01-09</th>\n",
       "      <td>NaN</td>\n",
       "      <td>NaN</td>\n",
       "      <td>NaN</td>\n",
       "      <td>NaN</td>\n",
       "    </tr>\n",
       "    <tr>\n",
       "      <th>2000-01-10</th>\n",
       "      <td>NaN</td>\n",
       "      <td>NaN</td>\n",
       "      <td>NaN</td>\n",
       "      <td>NaN</td>\n",
       "    </tr>\n",
       "    <tr>\n",
       "      <th>2000-01-11</th>\n",
       "      <td>NaN</td>\n",
       "      <td>NaN</td>\n",
       "      <td>NaN</td>\n",
       "      <td>NaN</td>\n",
       "    </tr>\n",
       "    <tr>\n",
       "      <th>2000-01-12</th>\n",
       "      <td>1.458406</td>\n",
       "      <td>-0.434214</td>\n",
       "      <td>-1.017335</td>\n",
       "      <td>-0.190096</td>\n",
       "    </tr>\n",
       "  </tbody>\n",
       "</table>\n",
       "</div>"
      ],
      "text/plain": [
       "                  上海        北京        深圳        广州\n",
       "2000-01-05  0.908272 -1.394051 -1.130515  0.973284\n",
       "2000-01-06  0.908272 -1.394051 -1.130515  0.973284\n",
       "2000-01-07  0.908272 -1.394051 -1.130515  0.973284\n",
       "2000-01-08       NaN       NaN       NaN       NaN\n",
       "2000-01-09       NaN       NaN       NaN       NaN\n",
       "2000-01-10       NaN       NaN       NaN       NaN\n",
       "2000-01-11       NaN       NaN       NaN       NaN\n",
       "2000-01-12  1.458406 -0.434214 -1.017335 -0.190096"
      ]
     },
     "execution_count": 159,
     "metadata": {},
     "output_type": "execute_result"
    }
   ],
   "source": [
    "frame.resample('D').asfreq().ffill(limit=2)"
   ]
  },
  {
   "cell_type": "code",
   "execution_count": 165,
   "id": "e7e3b851",
   "metadata": {},
   "outputs": [
    {
     "data": {
      "text/html": [
       "<div>\n",
       "<style scoped>\n",
       "    .dataframe tbody tr th:only-of-type {\n",
       "        vertical-align: middle;\n",
       "    }\n",
       "\n",
       "    .dataframe tbody tr th {\n",
       "        vertical-align: top;\n",
       "    }\n",
       "\n",
       "    .dataframe thead th {\n",
       "        text-align: right;\n",
       "    }\n",
       "</style>\n",
       "<table border=\"1\" class=\"dataframe\">\n",
       "  <thead>\n",
       "    <tr style=\"text-align: right;\">\n",
       "      <th></th>\n",
       "      <th>lat</th>\n",
       "      <th>lng</th>\n",
       "      <th>desc</th>\n",
       "      <th>zip</th>\n",
       "      <th>title</th>\n",
       "      <th>timeStamp</th>\n",
       "      <th>twp</th>\n",
       "      <th>addr</th>\n",
       "      <th>e</th>\n",
       "    </tr>\n",
       "  </thead>\n",
       "  <tbody>\n",
       "    <tr>\n",
       "      <th>0</th>\n",
       "      <td>40.297876</td>\n",
       "      <td>-75.581294</td>\n",
       "      <td>REINDEER CT &amp; DEAD END;  NEW HANOVER; Station ...</td>\n",
       "      <td>19525.0</td>\n",
       "      <td>EMS: BACK PAINS/INJURY</td>\n",
       "      <td>2015-12-10 17:10:52</td>\n",
       "      <td>NEW HANOVER</td>\n",
       "      <td>REINDEER CT &amp; DEAD END</td>\n",
       "      <td>1</td>\n",
       "    </tr>\n",
       "    <tr>\n",
       "      <th>1</th>\n",
       "      <td>40.258061</td>\n",
       "      <td>-75.264680</td>\n",
       "      <td>BRIAR PATH &amp; WHITEMARSH LN;  HATFIELD TOWNSHIP...</td>\n",
       "      <td>19446.0</td>\n",
       "      <td>EMS: DIABETIC EMERGENCY</td>\n",
       "      <td>2015-12-10 17:29:21</td>\n",
       "      <td>HATFIELD TOWNSHIP</td>\n",
       "      <td>BRIAR PATH &amp; WHITEMARSH LN</td>\n",
       "      <td>1</td>\n",
       "    </tr>\n",
       "    <tr>\n",
       "      <th>2</th>\n",
       "      <td>40.121182</td>\n",
       "      <td>-75.351975</td>\n",
       "      <td>HAWS AVE; NORRISTOWN; 2015-12-10 @ 14:39:21-St...</td>\n",
       "      <td>19401.0</td>\n",
       "      <td>Fire: GAS-ODOR/LEAK</td>\n",
       "      <td>2015-12-10 14:39:21</td>\n",
       "      <td>NORRISTOWN</td>\n",
       "      <td>HAWS AVE</td>\n",
       "      <td>1</td>\n",
       "    </tr>\n",
       "    <tr>\n",
       "      <th>3</th>\n",
       "      <td>40.116153</td>\n",
       "      <td>-75.343513</td>\n",
       "      <td>AIRY ST &amp; SWEDE ST;  NORRISTOWN; Station 308A;...</td>\n",
       "      <td>19401.0</td>\n",
       "      <td>EMS: CARDIAC EMERGENCY</td>\n",
       "      <td>2015-12-10 16:47:36</td>\n",
       "      <td>NORRISTOWN</td>\n",
       "      <td>AIRY ST &amp; SWEDE ST</td>\n",
       "      <td>1</td>\n",
       "    </tr>\n",
       "    <tr>\n",
       "      <th>4</th>\n",
       "      <td>40.251492</td>\n",
       "      <td>-75.603350</td>\n",
       "      <td>CHERRYWOOD CT &amp; DEAD END;  LOWER POTTSGROVE; S...</td>\n",
       "      <td>NaN</td>\n",
       "      <td>EMS: DIZZINESS</td>\n",
       "      <td>2015-12-10 16:56:52</td>\n",
       "      <td>LOWER POTTSGROVE</td>\n",
       "      <td>CHERRYWOOD CT &amp; DEAD END</td>\n",
       "      <td>1</td>\n",
       "    </tr>\n",
       "  </tbody>\n",
       "</table>\n",
       "</div>"
      ],
      "text/plain": [
       "         lat        lng                                               desc  \\\n",
       "0  40.297876 -75.581294  REINDEER CT & DEAD END;  NEW HANOVER; Station ...   \n",
       "1  40.258061 -75.264680  BRIAR PATH & WHITEMARSH LN;  HATFIELD TOWNSHIP...   \n",
       "2  40.121182 -75.351975  HAWS AVE; NORRISTOWN; 2015-12-10 @ 14:39:21-St...   \n",
       "3  40.116153 -75.343513  AIRY ST & SWEDE ST;  NORRISTOWN; Station 308A;...   \n",
       "4  40.251492 -75.603350  CHERRYWOOD CT & DEAD END;  LOWER POTTSGROVE; S...   \n",
       "\n",
       "       zip                    title            timeStamp                twp  \\\n",
       "0  19525.0   EMS: BACK PAINS/INJURY  2015-12-10 17:10:52        NEW HANOVER   \n",
       "1  19446.0  EMS: DIABETIC EMERGENCY  2015-12-10 17:29:21  HATFIELD TOWNSHIP   \n",
       "2  19401.0      Fire: GAS-ODOR/LEAK  2015-12-10 14:39:21         NORRISTOWN   \n",
       "3  19401.0   EMS: CARDIAC EMERGENCY  2015-12-10 16:47:36         NORRISTOWN   \n",
       "4      NaN           EMS: DIZZINESS  2015-12-10 16:56:52   LOWER POTTSGROVE   \n",
       "\n",
       "                         addr  e  \n",
       "0      REINDEER CT & DEAD END  1  \n",
       "1  BRIAR PATH & WHITEMARSH LN  1  \n",
       "2                    HAWS AVE  1  \n",
       "3          AIRY ST & SWEDE ST  1  \n",
       "4    CHERRYWOOD CT & DEAD END  1  "
      ]
     },
     "execution_count": 165,
     "metadata": {},
     "output_type": "execute_result"
    }
   ],
   "source": [
    "df = pd.read_csv('911.csv')\n",
    "df.head()"
   ]
  },
  {
   "cell_type": "code",
   "execution_count": 166,
   "id": "107e1702",
   "metadata": {},
   "outputs": [
    {
     "data": {
      "text/html": [
       "<div>\n",
       "<style scoped>\n",
       "    .dataframe tbody tr th:only-of-type {\n",
       "        vertical-align: middle;\n",
       "    }\n",
       "\n",
       "    .dataframe tbody tr th {\n",
       "        vertical-align: top;\n",
       "    }\n",
       "\n",
       "    .dataframe thead th {\n",
       "        text-align: right;\n",
       "    }\n",
       "</style>\n",
       "<table border=\"1\" class=\"dataframe\">\n",
       "  <thead>\n",
       "    <tr style=\"text-align: right;\">\n",
       "      <th></th>\n",
       "      <th>lat</th>\n",
       "      <th>lng</th>\n",
       "      <th>desc</th>\n",
       "      <th>zip</th>\n",
       "      <th>title</th>\n",
       "      <th>timeStamp</th>\n",
       "      <th>twp</th>\n",
       "      <th>addr</th>\n",
       "      <th>e</th>\n",
       "    </tr>\n",
       "  </thead>\n",
       "  <tbody>\n",
       "    <tr>\n",
       "      <th>0</th>\n",
       "      <td>40.297876</td>\n",
       "      <td>-75.581294</td>\n",
       "      <td>REINDEER CT &amp; DEAD END;  NEW HANOVER; Station ...</td>\n",
       "      <td>19525.0</td>\n",
       "      <td>EMS: BACK PAINS/INJURY</td>\n",
       "      <td>2015-12-10 17:10:52</td>\n",
       "      <td>NEW HANOVER</td>\n",
       "      <td>REINDEER CT &amp; DEAD END</td>\n",
       "      <td>1</td>\n",
       "    </tr>\n",
       "    <tr>\n",
       "      <th>1</th>\n",
       "      <td>40.258061</td>\n",
       "      <td>-75.264680</td>\n",
       "      <td>BRIAR PATH &amp; WHITEMARSH LN;  HATFIELD TOWNSHIP...</td>\n",
       "      <td>19446.0</td>\n",
       "      <td>EMS: DIABETIC EMERGENCY</td>\n",
       "      <td>2015-12-10 17:29:21</td>\n",
       "      <td>HATFIELD TOWNSHIP</td>\n",
       "      <td>BRIAR PATH &amp; WHITEMARSH LN</td>\n",
       "      <td>1</td>\n",
       "    </tr>\n",
       "    <tr>\n",
       "      <th>2</th>\n",
       "      <td>40.121182</td>\n",
       "      <td>-75.351975</td>\n",
       "      <td>HAWS AVE; NORRISTOWN; 2015-12-10 @ 14:39:21-St...</td>\n",
       "      <td>19401.0</td>\n",
       "      <td>Fire: GAS-ODOR/LEAK</td>\n",
       "      <td>2015-12-10 14:39:21</td>\n",
       "      <td>NORRISTOWN</td>\n",
       "      <td>HAWS AVE</td>\n",
       "      <td>1</td>\n",
       "    </tr>\n",
       "    <tr>\n",
       "      <th>3</th>\n",
       "      <td>40.116153</td>\n",
       "      <td>-75.343513</td>\n",
       "      <td>AIRY ST &amp; SWEDE ST;  NORRISTOWN; Station 308A;...</td>\n",
       "      <td>19401.0</td>\n",
       "      <td>EMS: CARDIAC EMERGENCY</td>\n",
       "      <td>2015-12-10 16:47:36</td>\n",
       "      <td>NORRISTOWN</td>\n",
       "      <td>AIRY ST &amp; SWEDE ST</td>\n",
       "      <td>1</td>\n",
       "    </tr>\n",
       "    <tr>\n",
       "      <th>4</th>\n",
       "      <td>40.251492</td>\n",
       "      <td>-75.603350</td>\n",
       "      <td>CHERRYWOOD CT &amp; DEAD END;  LOWER POTTSGROVE; S...</td>\n",
       "      <td>NaN</td>\n",
       "      <td>EMS: DIZZINESS</td>\n",
       "      <td>2015-12-10 16:56:52</td>\n",
       "      <td>LOWER POTTSGROVE</td>\n",
       "      <td>CHERRYWOOD CT &amp; DEAD END</td>\n",
       "      <td>1</td>\n",
       "    </tr>\n",
       "  </tbody>\n",
       "</table>\n",
       "</div>"
      ],
      "text/plain": [
       "         lat        lng                                               desc  \\\n",
       "0  40.297876 -75.581294  REINDEER CT & DEAD END;  NEW HANOVER; Station ...   \n",
       "1  40.258061 -75.264680  BRIAR PATH & WHITEMARSH LN;  HATFIELD TOWNSHIP...   \n",
       "2  40.121182 -75.351975  HAWS AVE; NORRISTOWN; 2015-12-10 @ 14:39:21-St...   \n",
       "3  40.116153 -75.343513  AIRY ST & SWEDE ST;  NORRISTOWN; Station 308A;...   \n",
       "4  40.251492 -75.603350  CHERRYWOOD CT & DEAD END;  LOWER POTTSGROVE; S...   \n",
       "\n",
       "       zip                    title           timeStamp                twp  \\\n",
       "0  19525.0   EMS: BACK PAINS/INJURY 2015-12-10 17:10:52        NEW HANOVER   \n",
       "1  19446.0  EMS: DIABETIC EMERGENCY 2015-12-10 17:29:21  HATFIELD TOWNSHIP   \n",
       "2  19401.0      Fire: GAS-ODOR/LEAK 2015-12-10 14:39:21         NORRISTOWN   \n",
       "3  19401.0   EMS: CARDIAC EMERGENCY 2015-12-10 16:47:36         NORRISTOWN   \n",
       "4      NaN           EMS: DIZZINESS 2015-12-10 16:56:52   LOWER POTTSGROVE   \n",
       "\n",
       "                         addr  e  \n",
       "0      REINDEER CT & DEAD END  1  \n",
       "1  BRIAR PATH & WHITEMARSH LN  1  \n",
       "2                    HAWS AVE  1  \n",
       "3          AIRY ST & SWEDE ST  1  \n",
       "4    CHERRYWOOD CT & DEAD END  1  "
      ]
     },
     "execution_count": 166,
     "metadata": {},
     "output_type": "execute_result"
    }
   ],
   "source": [
    "df[\"timeStamp\"] = pd.to_datetime(df[\"timeStamp\"])\n",
    "df.head()"
   ]
  },
  {
   "cell_type": "code",
   "execution_count": 167,
   "id": "50d550f3",
   "metadata": {},
   "outputs": [],
   "source": [
    "df.set_index(\"timeStamp\",inplace=True)"
   ]
  },
  {
   "cell_type": "code",
   "execution_count": 168,
   "id": "04fa62a4",
   "metadata": {},
   "outputs": [
    {
     "data": {
      "text/html": [
       "<div>\n",
       "<style scoped>\n",
       "    .dataframe tbody tr th:only-of-type {\n",
       "        vertical-align: middle;\n",
       "    }\n",
       "\n",
       "    .dataframe tbody tr th {\n",
       "        vertical-align: top;\n",
       "    }\n",
       "\n",
       "    .dataframe thead th {\n",
       "        text-align: right;\n",
       "    }\n",
       "</style>\n",
       "<table border=\"1\" class=\"dataframe\">\n",
       "  <thead>\n",
       "    <tr style=\"text-align: right;\">\n",
       "      <th></th>\n",
       "      <th>lat</th>\n",
       "      <th>lng</th>\n",
       "      <th>desc</th>\n",
       "      <th>zip</th>\n",
       "      <th>title</th>\n",
       "      <th>twp</th>\n",
       "      <th>addr</th>\n",
       "      <th>e</th>\n",
       "    </tr>\n",
       "    <tr>\n",
       "      <th>timeStamp</th>\n",
       "      <th></th>\n",
       "      <th></th>\n",
       "      <th></th>\n",
       "      <th></th>\n",
       "      <th></th>\n",
       "      <th></th>\n",
       "      <th></th>\n",
       "      <th></th>\n",
       "    </tr>\n",
       "  </thead>\n",
       "  <tbody>\n",
       "    <tr>\n",
       "      <th>2015-12-10 17:10:52</th>\n",
       "      <td>40.297876</td>\n",
       "      <td>-75.581294</td>\n",
       "      <td>REINDEER CT &amp; DEAD END;  NEW HANOVER; Station ...</td>\n",
       "      <td>19525.0</td>\n",
       "      <td>EMS: BACK PAINS/INJURY</td>\n",
       "      <td>NEW HANOVER</td>\n",
       "      <td>REINDEER CT &amp; DEAD END</td>\n",
       "      <td>1</td>\n",
       "    </tr>\n",
       "    <tr>\n",
       "      <th>2015-12-10 17:29:21</th>\n",
       "      <td>40.258061</td>\n",
       "      <td>-75.264680</td>\n",
       "      <td>BRIAR PATH &amp; WHITEMARSH LN;  HATFIELD TOWNSHIP...</td>\n",
       "      <td>19446.0</td>\n",
       "      <td>EMS: DIABETIC EMERGENCY</td>\n",
       "      <td>HATFIELD TOWNSHIP</td>\n",
       "      <td>BRIAR PATH &amp; WHITEMARSH LN</td>\n",
       "      <td>1</td>\n",
       "    </tr>\n",
       "    <tr>\n",
       "      <th>2015-12-10 14:39:21</th>\n",
       "      <td>40.121182</td>\n",
       "      <td>-75.351975</td>\n",
       "      <td>HAWS AVE; NORRISTOWN; 2015-12-10 @ 14:39:21-St...</td>\n",
       "      <td>19401.0</td>\n",
       "      <td>Fire: GAS-ODOR/LEAK</td>\n",
       "      <td>NORRISTOWN</td>\n",
       "      <td>HAWS AVE</td>\n",
       "      <td>1</td>\n",
       "    </tr>\n",
       "    <tr>\n",
       "      <th>2015-12-10 16:47:36</th>\n",
       "      <td>40.116153</td>\n",
       "      <td>-75.343513</td>\n",
       "      <td>AIRY ST &amp; SWEDE ST;  NORRISTOWN; Station 308A;...</td>\n",
       "      <td>19401.0</td>\n",
       "      <td>EMS: CARDIAC EMERGENCY</td>\n",
       "      <td>NORRISTOWN</td>\n",
       "      <td>AIRY ST &amp; SWEDE ST</td>\n",
       "      <td>1</td>\n",
       "    </tr>\n",
       "    <tr>\n",
       "      <th>2015-12-10 16:56:52</th>\n",
       "      <td>40.251492</td>\n",
       "      <td>-75.603350</td>\n",
       "      <td>CHERRYWOOD CT &amp; DEAD END;  LOWER POTTSGROVE; S...</td>\n",
       "      <td>NaN</td>\n",
       "      <td>EMS: DIZZINESS</td>\n",
       "      <td>LOWER POTTSGROVE</td>\n",
       "      <td>CHERRYWOOD CT &amp; DEAD END</td>\n",
       "      <td>1</td>\n",
       "    </tr>\n",
       "    <tr>\n",
       "      <th>...</th>\n",
       "      <td>...</td>\n",
       "      <td>...</td>\n",
       "      <td>...</td>\n",
       "      <td>...</td>\n",
       "      <td>...</td>\n",
       "      <td>...</td>\n",
       "      <td>...</td>\n",
       "      <td>...</td>\n",
       "    </tr>\n",
       "    <tr>\n",
       "      <th>2017-09-20 19:38:35</th>\n",
       "      <td>40.187874</td>\n",
       "      <td>-75.473836</td>\n",
       "      <td>CLAHOR AVE &amp; W 1ST AVE;  TRAPPE; Station 324; ...</td>\n",
       "      <td>19426.0</td>\n",
       "      <td>EMS: OVERDOSE</td>\n",
       "      <td>TRAPPE</td>\n",
       "      <td>CLAHOR AVE &amp; W 1ST AVE</td>\n",
       "      <td>1</td>\n",
       "    </tr>\n",
       "    <tr>\n",
       "      <th>2017-09-20 19:37:39</th>\n",
       "      <td>40.199006</td>\n",
       "      <td>-75.300058</td>\n",
       "      <td>LILAC CT &amp; PRIMROSE DR;  UPPER GWYNEDD; Statio...</td>\n",
       "      <td>19446.0</td>\n",
       "      <td>EMS: FALL VICTIM</td>\n",
       "      <td>UPPER GWYNEDD</td>\n",
       "      <td>LILAC CT &amp; PRIMROSE DR</td>\n",
       "      <td>1</td>\n",
       "    </tr>\n",
       "    <tr>\n",
       "      <th>2017-09-20 19:42:36</th>\n",
       "      <td>40.095109</td>\n",
       "      <td>-75.405805</td>\n",
       "      <td>1ST AVE;  UPPER MERION; Station 317; 2017-09-2...</td>\n",
       "      <td>NaN</td>\n",
       "      <td>EMS: VEHICLE ACCIDENT</td>\n",
       "      <td>UPPER MERION</td>\n",
       "      <td>1ST AVE</td>\n",
       "      <td>1</td>\n",
       "    </tr>\n",
       "    <tr>\n",
       "      <th>2017-09-20 19:42:05</th>\n",
       "      <td>40.196606</td>\n",
       "      <td>-75.423406</td>\n",
       "      <td>MILL RD &amp; CASSEL RD; SKIPPACK; 2017-09-20 @ 19...</td>\n",
       "      <td>19426.0</td>\n",
       "      <td>Fire: FIRE ALARM</td>\n",
       "      <td>SKIPPACK</td>\n",
       "      <td>MILL RD &amp; CASSEL RD</td>\n",
       "      <td>1</td>\n",
       "    </tr>\n",
       "    <tr>\n",
       "      <th>2017-09-20 19:42:29</th>\n",
       "      <td>40.095206</td>\n",
       "      <td>-75.410735</td>\n",
       "      <td>1ST AVE &amp; MOORE RD; UPPER MERION; 2017-09-20 @...</td>\n",
       "      <td>19406.0</td>\n",
       "      <td>Traffic: VEHICLE ACCIDENT -</td>\n",
       "      <td>UPPER MERION</td>\n",
       "      <td>1ST AVE &amp; MOORE RD</td>\n",
       "      <td>1</td>\n",
       "    </tr>\n",
       "  </tbody>\n",
       "</table>\n",
       "<p>249737 rows × 8 columns</p>\n",
       "</div>"
      ],
      "text/plain": [
       "                           lat        lng  \\\n",
       "timeStamp                                   \n",
       "2015-12-10 17:10:52  40.297876 -75.581294   \n",
       "2015-12-10 17:29:21  40.258061 -75.264680   \n",
       "2015-12-10 14:39:21  40.121182 -75.351975   \n",
       "2015-12-10 16:47:36  40.116153 -75.343513   \n",
       "2015-12-10 16:56:52  40.251492 -75.603350   \n",
       "...                        ...        ...   \n",
       "2017-09-20 19:38:35  40.187874 -75.473836   \n",
       "2017-09-20 19:37:39  40.199006 -75.300058   \n",
       "2017-09-20 19:42:36  40.095109 -75.405805   \n",
       "2017-09-20 19:42:05  40.196606 -75.423406   \n",
       "2017-09-20 19:42:29  40.095206 -75.410735   \n",
       "\n",
       "                                                                  desc  \\\n",
       "timeStamp                                                                \n",
       "2015-12-10 17:10:52  REINDEER CT & DEAD END;  NEW HANOVER; Station ...   \n",
       "2015-12-10 17:29:21  BRIAR PATH & WHITEMARSH LN;  HATFIELD TOWNSHIP...   \n",
       "2015-12-10 14:39:21  HAWS AVE; NORRISTOWN; 2015-12-10 @ 14:39:21-St...   \n",
       "2015-12-10 16:47:36  AIRY ST & SWEDE ST;  NORRISTOWN; Station 308A;...   \n",
       "2015-12-10 16:56:52  CHERRYWOOD CT & DEAD END;  LOWER POTTSGROVE; S...   \n",
       "...                                                                ...   \n",
       "2017-09-20 19:38:35  CLAHOR AVE & W 1ST AVE;  TRAPPE; Station 324; ...   \n",
       "2017-09-20 19:37:39  LILAC CT & PRIMROSE DR;  UPPER GWYNEDD; Statio...   \n",
       "2017-09-20 19:42:36  1ST AVE;  UPPER MERION; Station 317; 2017-09-2...   \n",
       "2017-09-20 19:42:05  MILL RD & CASSEL RD; SKIPPACK; 2017-09-20 @ 19...   \n",
       "2017-09-20 19:42:29  1ST AVE & MOORE RD; UPPER MERION; 2017-09-20 @...   \n",
       "\n",
       "                         zip                        title                twp  \\\n",
       "timeStamp                                                                      \n",
       "2015-12-10 17:10:52  19525.0       EMS: BACK PAINS/INJURY        NEW HANOVER   \n",
       "2015-12-10 17:29:21  19446.0      EMS: DIABETIC EMERGENCY  HATFIELD TOWNSHIP   \n",
       "2015-12-10 14:39:21  19401.0          Fire: GAS-ODOR/LEAK         NORRISTOWN   \n",
       "2015-12-10 16:47:36  19401.0       EMS: CARDIAC EMERGENCY         NORRISTOWN   \n",
       "2015-12-10 16:56:52      NaN               EMS: DIZZINESS   LOWER POTTSGROVE   \n",
       "...                      ...                          ...                ...   \n",
       "2017-09-20 19:38:35  19426.0                EMS: OVERDOSE             TRAPPE   \n",
       "2017-09-20 19:37:39  19446.0             EMS: FALL VICTIM      UPPER GWYNEDD   \n",
       "2017-09-20 19:42:36      NaN        EMS: VEHICLE ACCIDENT       UPPER MERION   \n",
       "2017-09-20 19:42:05  19426.0             Fire: FIRE ALARM           SKIPPACK   \n",
       "2017-09-20 19:42:29  19406.0  Traffic: VEHICLE ACCIDENT -       UPPER MERION   \n",
       "\n",
       "                                           addr  e  \n",
       "timeStamp                                           \n",
       "2015-12-10 17:10:52      REINDEER CT & DEAD END  1  \n",
       "2015-12-10 17:29:21  BRIAR PATH & WHITEMARSH LN  1  \n",
       "2015-12-10 14:39:21                    HAWS AVE  1  \n",
       "2015-12-10 16:47:36          AIRY ST & SWEDE ST  1  \n",
       "2015-12-10 16:56:52    CHERRYWOOD CT & DEAD END  1  \n",
       "...                                         ... ..  \n",
       "2017-09-20 19:38:35      CLAHOR AVE & W 1ST AVE  1  \n",
       "2017-09-20 19:37:39      LILAC CT & PRIMROSE DR  1  \n",
       "2017-09-20 19:42:36                     1ST AVE  1  \n",
       "2017-09-20 19:42:05         MILL RD & CASSEL RD  1  \n",
       "2017-09-20 19:42:29          1ST AVE & MOORE RD  1  \n",
       "\n",
       "[249737 rows x 8 columns]"
      ]
     },
     "execution_count": 168,
     "metadata": {},
     "output_type": "execute_result"
    }
   ],
   "source": [
    "df"
   ]
  },
  {
   "cell_type": "code",
   "execution_count": 169,
   "id": "3e923839",
   "metadata": {},
   "outputs": [
    {
     "data": {
      "text/html": [
       "<div>\n",
       "<style scoped>\n",
       "    .dataframe tbody tr th:only-of-type {\n",
       "        vertical-align: middle;\n",
       "    }\n",
       "\n",
       "    .dataframe tbody tr th {\n",
       "        vertical-align: top;\n",
       "    }\n",
       "\n",
       "    .dataframe thead th {\n",
       "        text-align: right;\n",
       "    }\n",
       "</style>\n",
       "<table border=\"1\" class=\"dataframe\">\n",
       "  <thead>\n",
       "    <tr style=\"text-align: right;\">\n",
       "      <th></th>\n",
       "      <th>lat</th>\n",
       "      <th>lng</th>\n",
       "      <th>desc</th>\n",
       "      <th>zip</th>\n",
       "      <th>title</th>\n",
       "      <th>twp</th>\n",
       "      <th>addr</th>\n",
       "      <th>e</th>\n",
       "    </tr>\n",
       "    <tr>\n",
       "      <th>timeStamp</th>\n",
       "      <th></th>\n",
       "      <th></th>\n",
       "      <th></th>\n",
       "      <th></th>\n",
       "      <th></th>\n",
       "      <th></th>\n",
       "      <th></th>\n",
       "      <th></th>\n",
       "    </tr>\n",
       "  </thead>\n",
       "  <tbody>\n",
       "    <tr>\n",
       "      <th>2015-12-31</th>\n",
       "      <td>7916</td>\n",
       "      <td>7916</td>\n",
       "      <td>7916</td>\n",
       "      <td>6902</td>\n",
       "      <td>7916</td>\n",
       "      <td>7911</td>\n",
       "      <td>7916</td>\n",
       "      <td>7916</td>\n",
       "    </tr>\n",
       "    <tr>\n",
       "      <th>2016-01-31</th>\n",
       "      <td>13096</td>\n",
       "      <td>13096</td>\n",
       "      <td>13096</td>\n",
       "      <td>11512</td>\n",
       "      <td>13096</td>\n",
       "      <td>13094</td>\n",
       "      <td>13096</td>\n",
       "      <td>13096</td>\n",
       "    </tr>\n",
       "    <tr>\n",
       "      <th>2016-02-29</th>\n",
       "      <td>11396</td>\n",
       "      <td>11396</td>\n",
       "      <td>11396</td>\n",
       "      <td>9926</td>\n",
       "      <td>11396</td>\n",
       "      <td>11395</td>\n",
       "      <td>11396</td>\n",
       "      <td>11396</td>\n",
       "    </tr>\n",
       "    <tr>\n",
       "      <th>2016-03-31</th>\n",
       "      <td>11059</td>\n",
       "      <td>11059</td>\n",
       "      <td>11059</td>\n",
       "      <td>9754</td>\n",
       "      <td>11059</td>\n",
       "      <td>11052</td>\n",
       "      <td>11059</td>\n",
       "      <td>11059</td>\n",
       "    </tr>\n",
       "    <tr>\n",
       "      <th>2016-04-30</th>\n",
       "      <td>11287</td>\n",
       "      <td>11287</td>\n",
       "      <td>11287</td>\n",
       "      <td>9897</td>\n",
       "      <td>11287</td>\n",
       "      <td>11284</td>\n",
       "      <td>11287</td>\n",
       "      <td>11287</td>\n",
       "    </tr>\n",
       "    <tr>\n",
       "      <th>2016-05-31</th>\n",
       "      <td>11374</td>\n",
       "      <td>11374</td>\n",
       "      <td>11374</td>\n",
       "      <td>9938</td>\n",
       "      <td>11374</td>\n",
       "      <td>11371</td>\n",
       "      <td>11374</td>\n",
       "      <td>11374</td>\n",
       "    </tr>\n",
       "    <tr>\n",
       "      <th>2016-06-30</th>\n",
       "      <td>11732</td>\n",
       "      <td>11732</td>\n",
       "      <td>11732</td>\n",
       "      <td>10205</td>\n",
       "      <td>11732</td>\n",
       "      <td>11726</td>\n",
       "      <td>11732</td>\n",
       "      <td>11732</td>\n",
       "    </tr>\n",
       "    <tr>\n",
       "      <th>2016-07-31</th>\n",
       "      <td>12088</td>\n",
       "      <td>12088</td>\n",
       "      <td>12088</td>\n",
       "      <td>10626</td>\n",
       "      <td>12088</td>\n",
       "      <td>12086</td>\n",
       "      <td>12088</td>\n",
       "      <td>12088</td>\n",
       "    </tr>\n",
       "    <tr>\n",
       "      <th>2016-08-31</th>\n",
       "      <td>11904</td>\n",
       "      <td>11904</td>\n",
       "      <td>11904</td>\n",
       "      <td>10381</td>\n",
       "      <td>11904</td>\n",
       "      <td>11902</td>\n",
       "      <td>11904</td>\n",
       "      <td>11904</td>\n",
       "    </tr>\n",
       "    <tr>\n",
       "      <th>2016-09-30</th>\n",
       "      <td>11669</td>\n",
       "      <td>11669</td>\n",
       "      <td>11669</td>\n",
       "      <td>10174</td>\n",
       "      <td>11669</td>\n",
       "      <td>11666</td>\n",
       "      <td>11669</td>\n",
       "      <td>11669</td>\n",
       "    </tr>\n",
       "    <tr>\n",
       "      <th>2016-10-31</th>\n",
       "      <td>12502</td>\n",
       "      <td>12502</td>\n",
       "      <td>12502</td>\n",
       "      <td>10760</td>\n",
       "      <td>12502</td>\n",
       "      <td>12499</td>\n",
       "      <td>12502</td>\n",
       "      <td>12502</td>\n",
       "    </tr>\n",
       "    <tr>\n",
       "      <th>2016-11-30</th>\n",
       "      <td>12091</td>\n",
       "      <td>12091</td>\n",
       "      <td>12091</td>\n",
       "      <td>10559</td>\n",
       "      <td>12091</td>\n",
       "      <td>12086</td>\n",
       "      <td>12091</td>\n",
       "      <td>12091</td>\n",
       "    </tr>\n",
       "    <tr>\n",
       "      <th>2016-12-31</th>\n",
       "      <td>12162</td>\n",
       "      <td>12162</td>\n",
       "      <td>12162</td>\n",
       "      <td>10763</td>\n",
       "      <td>12162</td>\n",
       "      <td>12156</td>\n",
       "      <td>12162</td>\n",
       "      <td>12162</td>\n",
       "    </tr>\n",
       "    <tr>\n",
       "      <th>2017-01-31</th>\n",
       "      <td>11605</td>\n",
       "      <td>11605</td>\n",
       "      <td>11605</td>\n",
       "      <td>10365</td>\n",
       "      <td>11605</td>\n",
       "      <td>11598</td>\n",
       "      <td>11605</td>\n",
       "      <td>11605</td>\n",
       "    </tr>\n",
       "    <tr>\n",
       "      <th>2017-02-28</th>\n",
       "      <td>10267</td>\n",
       "      <td>10267</td>\n",
       "      <td>10267</td>\n",
       "      <td>9235</td>\n",
       "      <td>10267</td>\n",
       "      <td>10263</td>\n",
       "      <td>10267</td>\n",
       "      <td>10267</td>\n",
       "    </tr>\n",
       "    <tr>\n",
       "      <th>2017-03-31</th>\n",
       "      <td>11684</td>\n",
       "      <td>11684</td>\n",
       "      <td>11684</td>\n",
       "      <td>10406</td>\n",
       "      <td>11684</td>\n",
       "      <td>11680</td>\n",
       "      <td>11684</td>\n",
       "      <td>11684</td>\n",
       "    </tr>\n",
       "    <tr>\n",
       "      <th>2017-04-30</th>\n",
       "      <td>11056</td>\n",
       "      <td>11056</td>\n",
       "      <td>11056</td>\n",
       "      <td>9774</td>\n",
       "      <td>11056</td>\n",
       "      <td>11052</td>\n",
       "      <td>11056</td>\n",
       "      <td>11056</td>\n",
       "    </tr>\n",
       "    <tr>\n",
       "      <th>2017-05-31</th>\n",
       "      <td>11719</td>\n",
       "      <td>11719</td>\n",
       "      <td>11719</td>\n",
       "      <td>10316</td>\n",
       "      <td>11719</td>\n",
       "      <td>11711</td>\n",
       "      <td>11719</td>\n",
       "      <td>11719</td>\n",
       "    </tr>\n",
       "    <tr>\n",
       "      <th>2017-06-30</th>\n",
       "      <td>12333</td>\n",
       "      <td>12333</td>\n",
       "      <td>12333</td>\n",
       "      <td>10865</td>\n",
       "      <td>12333</td>\n",
       "      <td>12332</td>\n",
       "      <td>12333</td>\n",
       "      <td>12333</td>\n",
       "    </tr>\n",
       "    <tr>\n",
       "      <th>2017-07-31</th>\n",
       "      <td>11768</td>\n",
       "      <td>11768</td>\n",
       "      <td>11768</td>\n",
       "      <td>10314</td>\n",
       "      <td>11768</td>\n",
       "      <td>11764</td>\n",
       "      <td>11768</td>\n",
       "      <td>11768</td>\n",
       "    </tr>\n",
       "    <tr>\n",
       "      <th>2017-08-31</th>\n",
       "      <td>11753</td>\n",
       "      <td>11753</td>\n",
       "      <td>11753</td>\n",
       "      <td>10358</td>\n",
       "      <td>11753</td>\n",
       "      <td>11744</td>\n",
       "      <td>11753</td>\n",
       "      <td>11753</td>\n",
       "    </tr>\n",
       "    <tr>\n",
       "      <th>2017-09-30</th>\n",
       "      <td>7276</td>\n",
       "      <td>7276</td>\n",
       "      <td>7276</td>\n",
       "      <td>6361</td>\n",
       "      <td>7276</td>\n",
       "      <td>7272</td>\n",
       "      <td>7276</td>\n",
       "      <td>7276</td>\n",
       "    </tr>\n",
       "  </tbody>\n",
       "</table>\n",
       "</div>"
      ],
      "text/plain": [
       "              lat    lng   desc    zip  title    twp   addr      e\n",
       "timeStamp                                                         \n",
       "2015-12-31   7916   7916   7916   6902   7916   7911   7916   7916\n",
       "2016-01-31  13096  13096  13096  11512  13096  13094  13096  13096\n",
       "2016-02-29  11396  11396  11396   9926  11396  11395  11396  11396\n",
       "2016-03-31  11059  11059  11059   9754  11059  11052  11059  11059\n",
       "2016-04-30  11287  11287  11287   9897  11287  11284  11287  11287\n",
       "2016-05-31  11374  11374  11374   9938  11374  11371  11374  11374\n",
       "2016-06-30  11732  11732  11732  10205  11732  11726  11732  11732\n",
       "2016-07-31  12088  12088  12088  10626  12088  12086  12088  12088\n",
       "2016-08-31  11904  11904  11904  10381  11904  11902  11904  11904\n",
       "2016-09-30  11669  11669  11669  10174  11669  11666  11669  11669\n",
       "2016-10-31  12502  12502  12502  10760  12502  12499  12502  12502\n",
       "2016-11-30  12091  12091  12091  10559  12091  12086  12091  12091\n",
       "2016-12-31  12162  12162  12162  10763  12162  12156  12162  12162\n",
       "2017-01-31  11605  11605  11605  10365  11605  11598  11605  11605\n",
       "2017-02-28  10267  10267  10267   9235  10267  10263  10267  10267\n",
       "2017-03-31  11684  11684  11684  10406  11684  11680  11684  11684\n",
       "2017-04-30  11056  11056  11056   9774  11056  11052  11056  11056\n",
       "2017-05-31  11719  11719  11719  10316  11719  11711  11719  11719\n",
       "2017-06-30  12333  12333  12333  10865  12333  12332  12333  12333\n",
       "2017-07-31  11768  11768  11768  10314  11768  11764  11768  11768\n",
       "2017-08-31  11753  11753  11753  10358  11753  11744  11753  11753\n",
       "2017-09-30   7276   7276   7276   6361   7276   7272   7276   7276"
      ]
     },
     "execution_count": 169,
     "metadata": {},
     "output_type": "execute_result"
    }
   ],
   "source": [
    "df.resample(\"M\").count()"
   ]
  },
  {
   "cell_type": "code",
   "execution_count": null,
   "id": "795343dd",
   "metadata": {},
   "outputs": [],
   "source": []
  }
 ],
 "metadata": {
  "kernelspec": {
   "display_name": "Python 3",
   "language": "python",
   "name": "python3"
  },
  "language_info": {
   "codemirror_mode": {
    "name": "ipython",
    "version": 3
   },
   "file_extension": ".py",
   "mimetype": "text/x-python",
   "name": "python",
   "nbconvert_exporter": "python",
   "pygments_lexer": "ipython3",
   "version": "3.8.8"
  }
 },
 "nbformat": 4,
 "nbformat_minor": 5
}
