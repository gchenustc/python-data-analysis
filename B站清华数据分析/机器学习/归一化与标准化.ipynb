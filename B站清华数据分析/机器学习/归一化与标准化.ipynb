{
 "cells": [
  {
   "cell_type": "code",
   "execution_count": 10,
   "id": "8526fe03",
   "metadata": {},
   "outputs": [],
   "source": [
    "from sklearn.preprocessing import MinMaxScaler\n",
    "from sklearn.preprocessing import StandardScaler"
   ]
  },
  {
   "cell_type": "markdown",
   "id": "78b77863",
   "metadata": {},
   "source": [
    "## 归一化"
   ]
  },
  {
   "cell_type": "code",
   "execution_count": 2,
   "id": "a8f2006b",
   "metadata": {},
   "outputs": [],
   "source": [
    "data = [\n",
    "    [180,75,20],\n",
    "    [178,80,28],\n",
    "    [168,70,23],\n",
    "    [160,51,23]\n",
    "]"
   ]
  },
  {
   "cell_type": "code",
   "execution_count": 5,
   "id": "b564fe36",
   "metadata": {},
   "outputs": [
    {
     "data": {
      "text/plain": [
       "array([[1.        , 0.82758621, 0.        ],\n",
       "       [0.9       , 1.        , 1.        ],\n",
       "       [0.4       , 0.65517241, 0.375     ],\n",
       "       [0.        , 0.        , 0.375     ]])"
      ]
     },
     "execution_count": 5,
     "metadata": {},
     "output_type": "execute_result"
    }
   ],
   "source": [
    "scaler= MinMaxScaler()\n",
    "scaler.fit_transform(data)"
   ]
  },
  {
   "cell_type": "code",
   "execution_count": 6,
   "id": "6fe4c5af",
   "metadata": {},
   "outputs": [],
   "source": [
    "# 归一化容易受到极端值的影响\n",
    "data1 = [\n",
    "    [1800,75,20],\n",
    "    [178,80,28],\n",
    "    [168,70,23],\n",
    "    [160,51,23]\n",
    "]"
   ]
  },
  {
   "cell_type": "code",
   "execution_count": 7,
   "id": "a42e51eb",
   "metadata": {},
   "outputs": [
    {
     "data": {
      "text/plain": [
       "array([[1.        , 0.82758621, 0.        ],\n",
       "       [0.01097561, 1.        , 1.        ],\n",
       "       [0.00487805, 0.65517241, 0.375     ],\n",
       "       [0.        , 0.        , 0.375     ]])"
      ]
     },
     "execution_count": 7,
     "metadata": {},
     "output_type": "execute_result"
    }
   ],
   "source": [
    "# 本来只有[1800,75,20]对数据有影响，现在除了它其他数据都有影响\n",
    "scaler1 = MinMaxScaler()\n",
    "scaler.fit_transform(data1)"
   ]
  },
  {
   "cell_type": "markdown",
   "id": "768b2526",
   "metadata": {},
   "source": [
    "## 标准差"
   ]
  },
  {
   "cell_type": "code",
   "execution_count": 17,
   "id": "93efd7f0",
   "metadata": {},
   "outputs": [
    {
     "data": {
      "text/plain": [
       "array([[ 1.73198023,  0.54658502, -1.21854359],\n",
       "       [-0.56411453,  1.00207254,  1.5666989 ],\n",
       "       [-0.57827047,  0.0910975 , -0.17407766],\n",
       "       [-0.58959523, -1.63975507, -0.17407766]])"
      ]
     },
     "execution_count": 17,
     "metadata": {},
     "output_type": "execute_result"
    }
   ],
   "source": [
    "# 异常值对标准化影响不显著\n",
    "data = [\n",
    "    [1800,75,20],\n",
    "    [178,80,28],\n",
    "    [168,70,23],\n",
    "    [160,51,23]\n",
    "]\n",
    "scaler2 = StandardScaler()\n",
    "scaler2.fit_transform(data)"
   ]
  },
  {
   "cell_type": "code",
   "execution_count": 19,
   "id": "01078580",
   "metadata": {},
   "outputs": [
    {
     "data": {
      "text/plain": [
       "array([[ 1.0563286 ,  0.54658502, -1.21854359],\n",
       "       [ 0.8077807 ,  1.00207254,  1.5666989 ],\n",
       "       [-0.43495884,  0.0910975 , -0.17407766],\n",
       "       [-1.42915046, -1.63975507, -0.17407766]])"
      ]
     },
     "execution_count": 19,
     "metadata": {},
     "output_type": "execute_result"
    }
   ],
   "source": [
    "data3 = [\n",
    "    [180,75,20],\n",
    "    [178,80,28],\n",
    "    [168,70,23],\n",
    "    [160,51,23]\n",
    "]\n",
    "scaler3 = StandardScaler()\n",
    "scaler3.fit_transform(data3)"
   ]
  }
 ],
 "metadata": {
  "kernelspec": {
   "display_name": "Python 3",
   "language": "python",
   "name": "python3"
  },
  "language_info": {
   "codemirror_mode": {
    "name": "ipython",
    "version": 3
   },
   "file_extension": ".py",
   "mimetype": "text/x-python",
   "name": "python",
   "nbconvert_exporter": "python",
   "pygments_lexer": "ipython3",
   "version": "3.8.8"
  }
 },
 "nbformat": 4,
 "nbformat_minor": 5
}
