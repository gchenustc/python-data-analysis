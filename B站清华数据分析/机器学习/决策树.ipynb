{
 "cells": [
  {
   "cell_type": "code",
   "execution_count": 9,
   "id": "6da5af84",
   "metadata": {},
   "outputs": [],
   "source": [
    "import pandas as pd\n",
    "import numpy as np\n",
    "import sklearn\n",
    "from sklearn.model_selection import train_test_split\n",
    "from sklearn.feature_extraction import DictVectorizer\n",
    "from sklearn.tree import DecisionTreeClassifier\n",
    "from sklearn.tree import export_graphviz"
   ]
  },
  {
   "cell_type": "code",
   "execution_count": 2,
   "id": "832feb2b",
   "metadata": {},
   "outputs": [
    {
     "data": {
      "text/html": [
       "<div>\n",
       "<style scoped>\n",
       "    .dataframe tbody tr th:only-of-type {\n",
       "        vertical-align: middle;\n",
       "    }\n",
       "\n",
       "    .dataframe tbody tr th {\n",
       "        vertical-align: top;\n",
       "    }\n",
       "\n",
       "    .dataframe thead th {\n",
       "        text-align: right;\n",
       "    }\n",
       "</style>\n",
       "<table border=\"1\" class=\"dataframe\">\n",
       "  <thead>\n",
       "    <tr style=\"text-align: right;\">\n",
       "      <th></th>\n",
       "      <th>survived</th>\n",
       "      <th>pclass</th>\n",
       "      <th>sex</th>\n",
       "      <th>age</th>\n",
       "      <th>sibsp</th>\n",
       "      <th>parch</th>\n",
       "      <th>fare</th>\n",
       "      <th>embarked</th>\n",
       "      <th>class</th>\n",
       "      <th>who</th>\n",
       "      <th>adult_male</th>\n",
       "      <th>deck</th>\n",
       "      <th>embark_town</th>\n",
       "      <th>alive</th>\n",
       "      <th>alone</th>\n",
       "    </tr>\n",
       "  </thead>\n",
       "  <tbody>\n",
       "    <tr>\n",
       "      <th>0</th>\n",
       "      <td>0</td>\n",
       "      <td>3</td>\n",
       "      <td>male</td>\n",
       "      <td>22.0</td>\n",
       "      <td>1</td>\n",
       "      <td>0</td>\n",
       "      <td>7.2500</td>\n",
       "      <td>S</td>\n",
       "      <td>Third</td>\n",
       "      <td>man</td>\n",
       "      <td>True</td>\n",
       "      <td>NaN</td>\n",
       "      <td>Southampton</td>\n",
       "      <td>no</td>\n",
       "      <td>False</td>\n",
       "    </tr>\n",
       "    <tr>\n",
       "      <th>1</th>\n",
       "      <td>1</td>\n",
       "      <td>1</td>\n",
       "      <td>female</td>\n",
       "      <td>38.0</td>\n",
       "      <td>1</td>\n",
       "      <td>0</td>\n",
       "      <td>71.2833</td>\n",
       "      <td>C</td>\n",
       "      <td>First</td>\n",
       "      <td>woman</td>\n",
       "      <td>False</td>\n",
       "      <td>C</td>\n",
       "      <td>Cherbourg</td>\n",
       "      <td>yes</td>\n",
       "      <td>False</td>\n",
       "    </tr>\n",
       "  </tbody>\n",
       "</table>\n",
       "</div>"
      ],
      "text/plain": [
       "   survived  pclass     sex   age  sibsp  parch     fare embarked  class  \\\n",
       "0         0       3    male  22.0      1      0   7.2500        S  Third   \n",
       "1         1       1  female  38.0      1      0  71.2833        C  First   \n",
       "\n",
       "     who  adult_male deck  embark_town alive  alone  \n",
       "0    man        True  NaN  Southampton    no  False  \n",
       "1  woman       False    C    Cherbourg   yes  False  "
      ]
     },
     "execution_count": 2,
     "metadata": {},
     "output_type": "execute_result"
    }
   ],
   "source": [
    "# 导入数据\n",
    "titanic = pd.read_csv(\"data/titanic.csv\")\n",
    "titanic.head(2)"
   ]
  },
  {
   "cell_type": "code",
   "execution_count": 3,
   "id": "52702b6d",
   "metadata": {},
   "outputs": [
    {
     "name": "stdout",
     "output_type": "stream",
     "text": [
      "<class 'pandas.core.frame.DataFrame'>\n",
      "RangeIndex: 891 entries, 0 to 890\n",
      "Data columns (total 3 columns):\n",
      " #   Column  Non-Null Count  Dtype  \n",
      "---  ------  --------------  -----  \n",
      " 0   sex     891 non-null    object \n",
      " 1   age     714 non-null    float64\n",
      " 2   class   891 non-null    object \n",
      "dtypes: float64(1), object(2)\n",
      "memory usage: 21.0+ KB\n",
      "None\n",
      "<class 'pandas.core.frame.DataFrame'>\n",
      "RangeIndex: 891 entries, 0 to 890\n",
      "Data columns (total 3 columns):\n",
      " #   Column  Non-Null Count  Dtype  \n",
      "---  ------  --------------  -----  \n",
      " 0   sex     891 non-null    object \n",
      " 1   age     891 non-null    float64\n",
      " 2   class   891 non-null    object \n",
      "dtypes: float64(1), object(2)\n",
      "memory usage: 21.0+ KB\n",
      "None\n"
     ]
    },
    {
     "name": "stderr",
     "output_type": "stream",
     "text": [
      "E:\\app\\anaconda3\\lib\\site-packages\\pandas\\core\\series.py:4463: SettingWithCopyWarning: \n",
      "A value is trying to be set on a copy of a slice from a DataFrame\n",
      "\n",
      "See the caveats in the documentation: https://pandas.pydata.org/pandas-docs/stable/user_guide/indexing.html#returning-a-view-versus-a-copy\n",
      "  return super().fillna(\n"
     ]
    },
    {
     "data": {
      "text/html": [
       "<div>\n",
       "<style scoped>\n",
       "    .dataframe tbody tr th:only-of-type {\n",
       "        vertical-align: middle;\n",
       "    }\n",
       "\n",
       "    .dataframe tbody tr th {\n",
       "        vertical-align: top;\n",
       "    }\n",
       "\n",
       "    .dataframe thead th {\n",
       "        text-align: right;\n",
       "    }\n",
       "</style>\n",
       "<table border=\"1\" class=\"dataframe\">\n",
       "  <thead>\n",
       "    <tr style=\"text-align: right;\">\n",
       "      <th></th>\n",
       "      <th>sex</th>\n",
       "      <th>age</th>\n",
       "      <th>class</th>\n",
       "    </tr>\n",
       "  </thead>\n",
       "  <tbody>\n",
       "    <tr>\n",
       "      <th>0</th>\n",
       "      <td>male</td>\n",
       "      <td>22.0</td>\n",
       "      <td>Third</td>\n",
       "    </tr>\n",
       "    <tr>\n",
       "      <th>1</th>\n",
       "      <td>female</td>\n",
       "      <td>38.0</td>\n",
       "      <td>First</td>\n",
       "    </tr>\n",
       "  </tbody>\n",
       "</table>\n",
       "</div>"
      ],
      "text/plain": [
       "      sex   age  class\n",
       "0    male  22.0  Third\n",
       "1  female  38.0  First"
      ]
     },
     "execution_count": 3,
     "metadata": {},
     "output_type": "execute_result"
    }
   ],
   "source": [
    "# 数据处理\n",
    "    # 筛选对target(生存率)有影响的features\n",
    "features_pre = titanic[[\"sex\",\"age\",\"class\"]]\n",
    "targets_pre = titanic[[\"alive\"]]\n",
    "    # 把\"age\"特征值中的nan项用平均值填充\n",
    "print(features_pre.info())\n",
    "features_pre[\"age\"].fillna(int(features_pre[\"age\"].mean()),inplace=True)\n",
    "print(features_pre.info())\n",
    "features_pre.head(2)"
   ]
  },
  {
   "cell_type": "code",
   "execution_count": 4,
   "id": "0999f0f7",
   "metadata": {},
   "outputs": [],
   "source": [
    "# train_test_split\n",
    "x_train,x_test,y_train,y_test = train_test_split(features_pre,targets_pre,train_size=0.75)"
   ]
  },
  {
   "cell_type": "code",
   "execution_count": 5,
   "id": "550581ae",
   "metadata": {},
   "outputs": [
    {
     "name": "stdout",
     "output_type": "stream",
     "text": [
      "['fruit=橘子', 'fruit=波萝', 'fruit=苹果', 'price']\n",
      "<class 'scipy.sparse.csr.csr_matrix'>\n"
     ]
    },
    {
     "data": {
      "text/plain": [
       "array([[0. , 0. , 1. , 5. ],\n",
       "       [1. , 0. , 0. , 5.9],\n",
       "       [0. , 1. , 0. , 9.9]])"
      ]
     },
     "execution_count": 5,
     "metadata": {},
     "output_type": "execute_result"
    }
   ],
   "source": [
    "# sklearn.feature_extration.DictVectorizer 的教学\n",
    "fruits=[{\"fruit\":\"苹果\", \"price\":5}, {\"fruit\":\"橘子\",\"price\":5.9}, {\"fruit\":\"波萝\",\"price\":9.9}]\n",
    "vect = sklearn.feature_extraction.DictVectorizer()\n",
    "fruits_transformed = vect.fit_transform(fruits)\n",
    "print(vect.get_feature_names())\n",
    "print(type(fruits_transformed))\n",
    "fruits_transformed.toarray()"
   ]
  },
  {
   "cell_type": "code",
   "execution_count": 6,
   "id": "0d38bdde",
   "metadata": {
    "scrolled": true
   },
   "outputs": [
    {
     "name": "stdout",
     "output_type": "stream",
     "text": [
      "['age', 'class=First', 'class=Second', 'class=Third', 'sex=female', 'sex=male']\n"
     ]
    },
    {
     "data": {
      "text/plain": [
       "array([[61.,  0.,  0.,  1.,  0.,  1.],\n",
       "       [39.,  1.,  0.,  0.,  1.,  0.],\n",
       "       [19.,  0.,  0.,  1.,  0.,  1.],\n",
       "       ...,\n",
       "       [36.,  0.,  1.,  0.,  1.,  0.],\n",
       "       [42.,  0.,  1.,  0.,  1.,  0.],\n",
       "       [40.,  0.,  1.,  0.,  1.,  0.]])"
      ]
     },
     "execution_count": 6,
     "metadata": {},
     "output_type": "execute_result"
    }
   ],
   "source": [
    "# sklearn.feature_extration.DictVectorizer 的应用\n",
    "    # 首先先将x_train,x_test转变为Dict格式\n",
    "x_train = x_train.to_dict(orient=\"records\")\n",
    "x_test = x_test.to_dict(orient=\"records\")\n",
    "    # 将train和test的data用DictVectorizer处理\n",
    "vect = DictVectorizer()\n",
    "vect.fit(x_train)\n",
    "x_train_transform = vect.transform(x_train)\n",
    "x_test_transform = vect.transform(x_test)\n",
    "print(vect.get_feature_names())\n",
    "x_test_transform.toarray()"
   ]
  },
  {
   "cell_type": "code",
   "execution_count": 7,
   "id": "ae8cc20f",
   "metadata": {},
   "outputs": [
    {
     "data": {
      "text/plain": [
       "0.8251121076233184"
      ]
     },
     "execution_count": 7,
     "metadata": {},
     "output_type": "execute_result"
    }
   ],
   "source": [
    "# 决策树训练及评分\n",
    "dtc = DecisionTreeClassifier()\n",
    "dtc.fit(x_train_transform,y_train)\n",
    "dtc.score(x_test_transform,y_test)"
   ]
  },
  {
   "cell_type": "markdown",
   "id": "597e01c3",
   "metadata": {},
   "source": [
    "# DecisionTreeClassifier()参数\n",
    "1. criterion:\n",
    "gini 或者entropy(信息熵) 的方式。\n",
    "2. splitter :\n",
    "best 或 random , best 是在所有特种中找最好的切分点， random 是随机的找一些特征来进行切分（数据量大的时候用 random)\n",
    "3. max_depth：树的最大深度。当特征或者数据量比较小的时候可以不用管这个值。特征比较多的时候可以尝试限制一下。\n",
    "4. min_samples_split：决策树中某个叶子节点的样本最小个数。如果数据量不大，不需要管这个值，如果样本量比较大，则推荐增大这个值。\n",
    "5. min_ weight_ fraction_ 1eaf：叶子节点所有样本权重和的最小值。如果小于这个值，则会和兄弟节点一起被剪枝，默认是0，也就是不考志权重的问题。一般来说，如果我们有较多样有缺失值，或者分类树样本的分布类别偏差很大，就会引入样本权重，这时我们就要注意这个值了。\n",
    "6. max_leaf_nodes：最大的叶子节点的个数。默认是None，即不限制叶子节点的个数。如果设買了这个值，那么在决策树建立的过程中优化叶子节点的个数。如果特征不多，可以不考虑这个值，但是如果特征分多的话，可以加以限制。\n",
    "7. class weieht指定样木名特征的权重，主要是为了方式某此特征的样木过多导致偏向这些特征默认是 balance ，也就是算法会自动的调节权重。\n",
    "8. min imouritv_decrease：最小的不纯度（基尼系数、信息增益等）。如果小于这个数，那么就不会再往下生成叶子节点了\n"
   ]
  },
  {
   "cell_type": "code",
   "execution_count": 12,
   "id": "1aa6d9e7",
   "metadata": {},
   "outputs": [],
   "source": [
    "# 决策树的绘制 class_names从小到大排列\n",
    "export_graphviz(dtc,\"tree.dot\",feature_names=['age', 'class=First', 'class=Second', 'class=Third', 'sex=female', 'sex=male'],class_names=[\"no\",\"yes\"])"
   ]
  },
  {
   "cell_type": "code",
   "execution_count": 8,
   "id": "c6e50dd2",
   "metadata": {},
   "outputs": [
    {
     "data": {
      "text/plain": [
       "0.8116591928251121"
      ]
     },
     "execution_count": 8,
     "metadata": {},
     "output_type": "execute_result"
    }
   ],
   "source": [
    "# 用K近邻方法训练\n",
    "    # 标准化\n",
    "from sklearn.preprocessing import StandardScaler\n",
    "scaler = StandardScaler()\n",
    "x_train_st = scaler.fit_transform(x_train_transform.toarray())\n",
    "x_test_st = scaler.fit_transform(x_test_transform.toarray())\n",
    "    #  训练\n",
    "knn = sklearn.neighbors.KNeighborsClassifier()\n",
    "# knn.fit(x_train_st,y_train)\n",
    "knn.fit(x_train_st,np.array(y_train.reset_index()[\"alive\"]))\n",
    "knn.score(x_test_st,np.array(y_test.reset_index()[\"alive\"]))"
   ]
  }
 ],
 "metadata": {
  "kernelspec": {
   "display_name": "Python 3",
   "language": "python",
   "name": "python3"
  },
  "language_info": {
   "codemirror_mode": {
    "name": "ipython",
    "version": 3
   },
   "file_extension": ".py",
   "mimetype": "text/x-python",
   "name": "python",
   "nbconvert_exporter": "python",
   "pygments_lexer": "ipython3",
   "version": "3.8.8"
  }
 },
 "nbformat": 4,
 "nbformat_minor": 5
}
