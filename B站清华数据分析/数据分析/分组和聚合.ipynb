{
 "cells": [
  {
   "cell_type": "code",
   "execution_count": 1,
   "id": "8b0a6ca3",
   "metadata": {},
   "outputs": [],
   "source": [
    "import numpy as np\n",
    "import pandas as pd"
   ]
  },
  {
   "cell_type": "code",
   "execution_count": 2,
   "id": "7f166eff",
   "metadata": {},
   "outputs": [
    {
     "data": {
      "text/html": [
       "<div>\n",
       "<style scoped>\n",
       "    .dataframe tbody tr th:only-of-type {\n",
       "        vertical-align: middle;\n",
       "    }\n",
       "\n",
       "    .dataframe tbody tr th {\n",
       "        vertical-align: top;\n",
       "    }\n",
       "\n",
       "    .dataframe thead th {\n",
       "        text-align: right;\n",
       "    }\n",
       "</style>\n",
       "<table border=\"1\" class=\"dataframe\">\n",
       "  <thead>\n",
       "    <tr style=\"text-align: right;\">\n",
       "      <th></th>\n",
       "      <th>fruit</th>\n",
       "      <th>color</th>\n",
       "      <th>price</th>\n",
       "    </tr>\n",
       "  </thead>\n",
       "  <tbody>\n",
       "    <tr>\n",
       "      <th>0</th>\n",
       "      <td>apple</td>\n",
       "      <td>red</td>\n",
       "      <td>8.5</td>\n",
       "    </tr>\n",
       "    <tr>\n",
       "      <th>1</th>\n",
       "      <td>banana</td>\n",
       "      <td>yellow</td>\n",
       "      <td>6.8</td>\n",
       "    </tr>\n",
       "    <tr>\n",
       "      <th>2</th>\n",
       "      <td>orange</td>\n",
       "      <td>yellow</td>\n",
       "      <td>5.6</td>\n",
       "    </tr>\n",
       "    <tr>\n",
       "      <th>3</th>\n",
       "      <td>apple</td>\n",
       "      <td>cyan</td>\n",
       "      <td>7.8</td>\n",
       "    </tr>\n",
       "    <tr>\n",
       "      <th>4</th>\n",
       "      <td>banana</td>\n",
       "      <td>cyan</td>\n",
       "      <td>6.4</td>\n",
       "    </tr>\n",
       "  </tbody>\n",
       "</table>\n",
       "</div>"
      ],
      "text/plain": [
       "    fruit   color  price\n",
       "0   apple     red    8.5\n",
       "1  banana  yellow    6.8\n",
       "2  orange  yellow    5.6\n",
       "3   apple    cyan    7.8\n",
       "4  banana    cyan    6.4"
      ]
     },
     "execution_count": 2,
     "metadata": {},
     "output_type": "execute_result"
    }
   ],
   "source": [
    "df1 = pd.DataFrame({'fruit':['apple','banana','orange','apple','banana'],\n",
    "                    'color':['red','yellow','yellow','cyan','cyan'],\n",
    "                    'price':[8.5,6.8,5.6,7.8,6.4]})\n",
    "df1"
   ]
  },
  {
   "cell_type": "code",
   "execution_count": 4,
   "id": "da35bb6f",
   "metadata": {},
   "outputs": [
    {
     "data": {
      "text/plain": [
       "<pandas.core.groupby.generic.DataFrameGroupBy object at 0x000001E49E3A19A0>"
      ]
     },
     "execution_count": 4,
     "metadata": {},
     "output_type": "execute_result"
    }
   ],
   "source": [
    "g = df1.groupby(\"fruit\")\n",
    "g"
   ]
  },
  {
   "cell_type": "code",
   "execution_count": 7,
   "id": "f65c0a22",
   "metadata": {},
   "outputs": [
    {
     "name": "stdout",
     "output_type": "stream",
     "text": [
      "apple\n",
      "----------------------------------------------------------------------------------------------------\n",
      "   fruit color  price\n",
      "0  apple   red    8.5\n",
      "3  apple  cyan    7.8\n",
      "banana\n",
      "----------------------------------------------------------------------------------------------------\n",
      "    fruit   color  price\n",
      "1  banana  yellow    6.8\n",
      "4  banana    cyan    6.4\n",
      "orange\n",
      "----------------------------------------------------------------------------------------------------\n",
      "    fruit   color  price\n",
      "2  orange  yellow    5.6\n"
     ]
    }
   ],
   "source": [
    "for a,b in g:\n",
    "    print(a)\n",
    "    print(\"-\"*100)\n",
    "    print(b)"
   ]
  },
  {
   "cell_type": "code",
   "execution_count": 8,
   "id": "f9db2c4a",
   "metadata": {},
   "outputs": [
    {
     "data": {
      "text/plain": [
       "[('apple',\n",
       "     fruit color  price\n",
       "  0  apple   red    8.5\n",
       "  3  apple  cyan    7.8),\n",
       " ('banana',\n",
       "      fruit   color  price\n",
       "  1  banana  yellow    6.8\n",
       "  4  banana    cyan    6.4),\n",
       " ('orange',\n",
       "      fruit   color  price\n",
       "  2  orange  yellow    5.6)]"
      ]
     },
     "execution_count": 8,
     "metadata": {},
     "output_type": "execute_result"
    }
   ],
   "source": [
    "list(g)"
   ]
  },
  {
   "cell_type": "code",
   "execution_count": 11,
   "id": "fdb79e75",
   "metadata": {},
   "outputs": [
    {
     "data": {
      "text/html": [
       "<div>\n",
       "<style scoped>\n",
       "    .dataframe tbody tr th:only-of-type {\n",
       "        vertical-align: middle;\n",
       "    }\n",
       "\n",
       "    .dataframe tbody tr th {\n",
       "        vertical-align: top;\n",
       "    }\n",
       "\n",
       "    .dataframe thead th {\n",
       "        text-align: right;\n",
       "    }\n",
       "</style>\n",
       "<table border=\"1\" class=\"dataframe\">\n",
       "  <thead>\n",
       "    <tr style=\"text-align: right;\">\n",
       "      <th></th>\n",
       "      <th>fruit</th>\n",
       "      <th>color</th>\n",
       "      <th>price</th>\n",
       "    </tr>\n",
       "  </thead>\n",
       "  <tbody>\n",
       "    <tr>\n",
       "      <th>0</th>\n",
       "      <td>apple</td>\n",
       "      <td>red</td>\n",
       "      <td>8.5</td>\n",
       "    </tr>\n",
       "    <tr>\n",
       "      <th>3</th>\n",
       "      <td>apple</td>\n",
       "      <td>cyan</td>\n",
       "      <td>7.8</td>\n",
       "    </tr>\n",
       "  </tbody>\n",
       "</table>\n",
       "</div>"
      ],
      "text/plain": [
       "   fruit color  price\n",
       "0  apple   red    8.5\n",
       "3  apple  cyan    7.8"
      ]
     },
     "execution_count": 11,
     "metadata": {},
     "output_type": "execute_result"
    }
   ],
   "source": [
    "list(g)[0][1]"
   ]
  },
  {
   "cell_type": "code",
   "execution_count": 10,
   "id": "1c8ff84a",
   "metadata": {},
   "outputs": [
    {
     "data": {
      "text/html": [
       "<div>\n",
       "<style scoped>\n",
       "    .dataframe tbody tr th:only-of-type {\n",
       "        vertical-align: middle;\n",
       "    }\n",
       "\n",
       "    .dataframe tbody tr th {\n",
       "        vertical-align: top;\n",
       "    }\n",
       "\n",
       "    .dataframe thead th {\n",
       "        text-align: right;\n",
       "    }\n",
       "</style>\n",
       "<table border=\"1\" class=\"dataframe\">\n",
       "  <thead>\n",
       "    <tr style=\"text-align: right;\">\n",
       "      <th></th>\n",
       "      <th>fruit</th>\n",
       "      <th>color</th>\n",
       "      <th>price</th>\n",
       "    </tr>\n",
       "  </thead>\n",
       "  <tbody>\n",
       "    <tr>\n",
       "      <th>0</th>\n",
       "      <td>apple</td>\n",
       "      <td>red</td>\n",
       "      <td>8.5</td>\n",
       "    </tr>\n",
       "    <tr>\n",
       "      <th>3</th>\n",
       "      <td>apple</td>\n",
       "      <td>cyan</td>\n",
       "      <td>7.8</td>\n",
       "    </tr>\n",
       "  </tbody>\n",
       "</table>\n",
       "</div>"
      ],
      "text/plain": [
       "   fruit color  price\n",
       "0  apple   red    8.5\n",
       "3  apple  cyan    7.8"
      ]
     },
     "execution_count": 10,
     "metadata": {},
     "output_type": "execute_result"
    }
   ],
   "source": [
    "dict(list(g))[\"apple\"]"
   ]
  },
  {
   "cell_type": "code",
   "execution_count": 15,
   "id": "043f0c19",
   "metadata": {},
   "outputs": [
    {
     "data": {
      "text/html": [
       "<div>\n",
       "<style scoped>\n",
       "    .dataframe tbody tr th:only-of-type {\n",
       "        vertical-align: middle;\n",
       "    }\n",
       "\n",
       "    .dataframe tbody tr th {\n",
       "        vertical-align: top;\n",
       "    }\n",
       "\n",
       "    .dataframe thead th {\n",
       "        text-align: right;\n",
       "    }\n",
       "</style>\n",
       "<table border=\"1\" class=\"dataframe\">\n",
       "  <thead>\n",
       "    <tr style=\"text-align: right;\">\n",
       "      <th></th>\n",
       "      <th>fruit</th>\n",
       "      <th>color</th>\n",
       "      <th>price</th>\n",
       "      <th>type</th>\n",
       "    </tr>\n",
       "  </thead>\n",
       "  <tbody>\n",
       "    <tr>\n",
       "      <th>0</th>\n",
       "      <td>apple</td>\n",
       "      <td>red</td>\n",
       "      <td>8.5</td>\n",
       "      <td>normal</td>\n",
       "    </tr>\n",
       "    <tr>\n",
       "      <th>1</th>\n",
       "      <td>banana</td>\n",
       "      <td>yellow</td>\n",
       "      <td>6.8</td>\n",
       "      <td>normal</td>\n",
       "    </tr>\n",
       "    <tr>\n",
       "      <th>2</th>\n",
       "      <td>orange</td>\n",
       "      <td>yellow</td>\n",
       "      <td>5.6</td>\n",
       "      <td>normal</td>\n",
       "    </tr>\n",
       "    <tr>\n",
       "      <th>3</th>\n",
       "      <td>apple</td>\n",
       "      <td>cyan</td>\n",
       "      <td>7.8</td>\n",
       "      <td>normal</td>\n",
       "    </tr>\n",
       "    <tr>\n",
       "      <th>4</th>\n",
       "      <td>banana</td>\n",
       "      <td>cyan</td>\n",
       "      <td>6.4</td>\n",
       "      <td>normal</td>\n",
       "    </tr>\n",
       "    <tr>\n",
       "      <th>5</th>\n",
       "      <td>apple</td>\n",
       "      <td>cyan</td>\n",
       "      <td>10.0</td>\n",
       "      <td>good</td>\n",
       "    </tr>\n",
       "  </tbody>\n",
       "</table>\n",
       "</div>"
      ],
      "text/plain": [
       "    fruit   color  price    type\n",
       "0   apple     red    8.5  normal\n",
       "1  banana  yellow    6.8  normal\n",
       "2  orange  yellow    5.6  normal\n",
       "3   apple    cyan    7.8  normal\n",
       "4  banana    cyan    6.4  normal\n",
       "5   apple    cyan   10.0    good"
      ]
     },
     "execution_count": 15,
     "metadata": {},
     "output_type": "execute_result"
    }
   ],
   "source": [
    "df1 = pd.DataFrame({'fruit':['apple','banana','orange','apple','banana','apple'],\n",
    "                    'color':['red','yellow','yellow','cyan','cyan','cyan'],\n",
    "                    'price':[8.5,6.8,5.6,7.8,6.4,10],\n",
    "                   'type':[\"normal\",\"normal\",\"normal\",\"normal\",\"normal\",\"good\"]})\n",
    "df1"
   ]
  },
  {
   "cell_type": "code",
   "execution_count": 25,
   "id": "e1abf992",
   "metadata": {},
   "outputs": [
    {
     "name": "stdout",
     "output_type": "stream",
     "text": [
      "('apple', 'cyan')\n",
      "----------------------------------------------------------------------------------------------------\n",
      "   fruit color  price    type\n",
      "3  apple  cyan    7.8  normal\n",
      "5  apple  cyan   10.0    good\n",
      "----------------------------------------------------------------------------------------------------\n",
      "('apple', 'red')\n",
      "----------------------------------------------------------------------------------------------------\n",
      "   fruit color  price    type\n",
      "0  apple   red    8.5  normal\n",
      "----------------------------------------------------------------------------------------------------\n",
      "('banana', 'cyan')\n",
      "----------------------------------------------------------------------------------------------------\n",
      "    fruit color  price    type\n",
      "4  banana  cyan    6.4  normal\n",
      "----------------------------------------------------------------------------------------------------\n",
      "('banana', 'yellow')\n",
      "----------------------------------------------------------------------------------------------------\n",
      "    fruit   color  price    type\n",
      "1  banana  yellow    6.8  normal\n",
      "----------------------------------------------------------------------------------------------------\n",
      "('orange', 'yellow')\n",
      "----------------------------------------------------------------------------------------------------\n",
      "    fruit   color  price    type\n",
      "2  orange  yellow    5.6  normal\n",
      "----------------------------------------------------------------------------------------------------\n"
     ]
    }
   ],
   "source": [
    "g = df1.groupby(by=[\"fruit\",\"color\"])\n",
    "for a,b in g:\n",
    "    print(a)\n",
    "    print(\"-\"*100)\n",
    "    print(b)\n",
    "    print(\"-\"*100)"
   ]
  },
  {
   "cell_type": "code",
   "execution_count": 33,
   "id": "2beacbde",
   "metadata": {},
   "outputs": [
    {
     "data": {
      "text/plain": [
       "[(('apple', 'cyan'),\n",
       "  3     7.8\n",
       "  5    10.0\n",
       "  Name: price, dtype: float64),\n",
       " (('apple', 'red'),\n",
       "  0    8.5\n",
       "  Name: price, dtype: float64),\n",
       " (('banana', 'cyan'),\n",
       "  4    6.4\n",
       "  Name: price, dtype: float64),\n",
       " (('banana', 'yellow'),\n",
       "  1    6.8\n",
       "  Name: price, dtype: float64),\n",
       " (('orange', 'yellow'),\n",
       "  2    5.6\n",
       "  Name: price, dtype: float64)]"
      ]
     },
     "execution_count": 33,
     "metadata": {},
     "output_type": "execute_result"
    }
   ],
   "source": [
    "list(g[\"price\"])"
   ]
  },
  {
   "cell_type": "code",
   "execution_count": 34,
   "id": "5e156848",
   "metadata": {},
   "outputs": [
    {
     "data": {
      "text/plain": [
       "fruit   color \n",
       "apple   cyan      8.9\n",
       "        red       8.5\n",
       "banana  cyan      6.4\n",
       "        yellow    6.8\n",
       "orange  yellow    5.6\n",
       "Name: price, dtype: float64"
      ]
     },
     "execution_count": 34,
     "metadata": {},
     "output_type": "execute_result"
    }
   ],
   "source": [
    "g[\"price\"].mean()"
   ]
  },
  {
   "cell_type": "code",
   "execution_count": 35,
   "id": "d5b14c04",
   "metadata": {},
   "outputs": [
    {
     "data": {
      "text/plain": [
       "pandas.core.series.Series"
      ]
     },
     "execution_count": 35,
     "metadata": {},
     "output_type": "execute_result"
    }
   ],
   "source": [
    "type(g[\"price\"].mean())"
   ]
  },
  {
   "cell_type": "code",
   "execution_count": 36,
   "id": "2f6c2628",
   "metadata": {},
   "outputs": [
    {
     "data": {
      "text/html": [
       "<div>\n",
       "<style scoped>\n",
       "    .dataframe tbody tr th:only-of-type {\n",
       "        vertical-align: middle;\n",
       "    }\n",
       "\n",
       "    .dataframe tbody tr th {\n",
       "        vertical-align: top;\n",
       "    }\n",
       "\n",
       "    .dataframe thead th {\n",
       "        text-align: right;\n",
       "    }\n",
       "</style>\n",
       "<table border=\"1\" class=\"dataframe\">\n",
       "  <thead>\n",
       "    <tr style=\"text-align: right;\">\n",
       "      <th></th>\n",
       "      <th></th>\n",
       "      <th>price</th>\n",
       "    </tr>\n",
       "    <tr>\n",
       "      <th>fruit</th>\n",
       "      <th>color</th>\n",
       "      <th></th>\n",
       "    </tr>\n",
       "  </thead>\n",
       "  <tbody>\n",
       "    <tr>\n",
       "      <th rowspan=\"2\" valign=\"top\">apple</th>\n",
       "      <th>cyan</th>\n",
       "      <td>8.9</td>\n",
       "    </tr>\n",
       "    <tr>\n",
       "      <th>red</th>\n",
       "      <td>8.5</td>\n",
       "    </tr>\n",
       "    <tr>\n",
       "      <th rowspan=\"2\" valign=\"top\">banana</th>\n",
       "      <th>cyan</th>\n",
       "      <td>6.4</td>\n",
       "    </tr>\n",
       "    <tr>\n",
       "      <th>yellow</th>\n",
       "      <td>6.8</td>\n",
       "    </tr>\n",
       "    <tr>\n",
       "      <th>orange</th>\n",
       "      <th>yellow</th>\n",
       "      <td>5.6</td>\n",
       "    </tr>\n",
       "  </tbody>\n",
       "</table>\n",
       "</div>"
      ],
      "text/plain": [
       "               price\n",
       "fruit  color        \n",
       "apple  cyan      8.9\n",
       "       red       8.5\n",
       "banana cyan      6.4\n",
       "       yellow    6.8\n",
       "orange yellow    5.6"
      ]
     },
     "execution_count": 36,
     "metadata": {},
     "output_type": "execute_result"
    }
   ],
   "source": [
    "g[[\"price\"]].mean()"
   ]
  },
  {
   "cell_type": "code",
   "execution_count": 37,
   "id": "008a9099",
   "metadata": {},
   "outputs": [
    {
     "data": {
      "text/plain": [
       "pandas.core.frame.DataFrame"
      ]
     },
     "execution_count": 37,
     "metadata": {},
     "output_type": "execute_result"
    }
   ],
   "source": [
    "type(g[[\"price\"]].mean())"
   ]
  },
  {
   "cell_type": "code",
   "execution_count": 38,
   "id": "43031cfb",
   "metadata": {},
   "outputs": [
    {
     "data": {
      "text/html": [
       "<div>\n",
       "<style scoped>\n",
       "    .dataframe tbody tr th:only-of-type {\n",
       "        vertical-align: middle;\n",
       "    }\n",
       "\n",
       "    .dataframe tbody tr th {\n",
       "        vertical-align: top;\n",
       "    }\n",
       "\n",
       "    .dataframe thead th {\n",
       "        text-align: right;\n",
       "    }\n",
       "</style>\n",
       "<table border=\"1\" class=\"dataframe\">\n",
       "  <thead>\n",
       "    <tr style=\"text-align: right;\">\n",
       "      <th></th>\n",
       "      <th></th>\n",
       "      <th>price</th>\n",
       "    </tr>\n",
       "    <tr>\n",
       "      <th>fruit</th>\n",
       "      <th>color</th>\n",
       "      <th></th>\n",
       "    </tr>\n",
       "  </thead>\n",
       "  <tbody>\n",
       "    <tr>\n",
       "      <th rowspan=\"2\" valign=\"top\">apple</th>\n",
       "      <th>cyan</th>\n",
       "      <td>8.9</td>\n",
       "    </tr>\n",
       "    <tr>\n",
       "      <th>red</th>\n",
       "      <td>8.5</td>\n",
       "    </tr>\n",
       "    <tr>\n",
       "      <th rowspan=\"2\" valign=\"top\">banana</th>\n",
       "      <th>cyan</th>\n",
       "      <td>6.4</td>\n",
       "    </tr>\n",
       "    <tr>\n",
       "      <th>yellow</th>\n",
       "      <td>6.8</td>\n",
       "    </tr>\n",
       "    <tr>\n",
       "      <th>orange</th>\n",
       "      <th>yellow</th>\n",
       "      <td>5.6</td>\n",
       "    </tr>\n",
       "  </tbody>\n",
       "</table>\n",
       "</div>"
      ],
      "text/plain": [
       "               price\n",
       "fruit  color        \n",
       "apple  cyan      8.9\n",
       "       red       8.5\n",
       "banana cyan      6.4\n",
       "       yellow    6.8\n",
       "orange yellow    5.6"
      ]
     },
     "execution_count": 38,
     "metadata": {},
     "output_type": "execute_result"
    }
   ],
   "source": [
    "df1[[\"price\"]].groupby(by=[df1[\"fruit\"],df1[\"color\"]]).mean()"
   ]
  },
  {
   "cell_type": "code",
   "execution_count": 48,
   "id": "189ba070",
   "metadata": {},
   "outputs": [
    {
     "data": {
      "text/html": [
       "<div>\n",
       "<style scoped>\n",
       "    .dataframe tbody tr th:only-of-type {\n",
       "        vertical-align: middle;\n",
       "    }\n",
       "\n",
       "    .dataframe tbody tr th {\n",
       "        vertical-align: top;\n",
       "    }\n",
       "\n",
       "    .dataframe thead th {\n",
       "        text-align: right;\n",
       "    }\n",
       "</style>\n",
       "<table border=\"1\" class=\"dataframe\">\n",
       "  <thead>\n",
       "    <tr style=\"text-align: right;\">\n",
       "      <th></th>\n",
       "      <th>price</th>\n",
       "    </tr>\n",
       "    <tr>\n",
       "      <th>fruit</th>\n",
       "      <th></th>\n",
       "    </tr>\n",
       "  </thead>\n",
       "  <tbody>\n",
       "    <tr>\n",
       "      <th>apple</th>\n",
       "      <td>8.766667</td>\n",
       "    </tr>\n",
       "    <tr>\n",
       "      <th>banana</th>\n",
       "      <td>6.600000</td>\n",
       "    </tr>\n",
       "    <tr>\n",
       "      <th>orange</th>\n",
       "      <td>5.600000</td>\n",
       "    </tr>\n",
       "  </tbody>\n",
       "</table>\n",
       "</div>"
      ],
      "text/plain": [
       "           price\n",
       "fruit           \n",
       "apple   8.766667\n",
       "banana  6.600000\n",
       "orange  5.600000"
      ]
     },
     "execution_count": 48,
     "metadata": {},
     "output_type": "execute_result"
    }
   ],
   "source": [
    "df1.groupby(\"fruit\")[[\"price\"]].mean()"
   ]
  },
  {
   "cell_type": "code",
   "execution_count": 52,
   "id": "70762bcc",
   "metadata": {},
   "outputs": [
    {
     "data": {
      "text/html": [
       "<div>\n",
       "<style scoped>\n",
       "    .dataframe tbody tr th:only-of-type {\n",
       "        vertical-align: middle;\n",
       "    }\n",
       "\n",
       "    .dataframe tbody tr th {\n",
       "        vertical-align: top;\n",
       "    }\n",
       "\n",
       "    .dataframe thead th {\n",
       "        text-align: right;\n",
       "    }\n",
       "</style>\n",
       "<table border=\"1\" class=\"dataframe\">\n",
       "  <thead>\n",
       "    <tr style=\"text-align: right;\">\n",
       "      <th></th>\n",
       "      <th>fruit</th>\n",
       "      <th>price</th>\n",
       "    </tr>\n",
       "  </thead>\n",
       "  <tbody>\n",
       "    <tr>\n",
       "      <th>0</th>\n",
       "      <td>apple</td>\n",
       "      <td>8.766667</td>\n",
       "    </tr>\n",
       "    <tr>\n",
       "      <th>1</th>\n",
       "      <td>banana</td>\n",
       "      <td>6.600000</td>\n",
       "    </tr>\n",
       "    <tr>\n",
       "      <th>2</th>\n",
       "      <td>orange</td>\n",
       "      <td>5.600000</td>\n",
       "    </tr>\n",
       "  </tbody>\n",
       "</table>\n",
       "</div>"
      ],
      "text/plain": [
       "    fruit     price\n",
       "0   apple  8.766667\n",
       "1  banana  6.600000\n",
       "2  orange  5.600000"
      ]
     },
     "execution_count": 52,
     "metadata": {},
     "output_type": "execute_result"
    }
   ],
   "source": [
    "df1.groupby(\"fruit\",as_index=False)[\"price\"].mean()"
   ]
  },
  {
   "cell_type": "code",
   "execution_count": 56,
   "id": "c1c22cbd",
   "metadata": {},
   "outputs": [
    {
     "data": {
      "text/plain": [
       "fruit\n",
       "apple     2.2\n",
       "banana    0.4\n",
       "orange    0.0\n",
       "Name: price, dtype: float64"
      ]
     },
     "execution_count": 56,
     "metadata": {},
     "output_type": "execute_result"
    }
   ],
   "source": [
    "def diff(arr):\n",
    "    return arr.max()-arr.min()\n",
    "g = df1.groupby(\"fruit\")[\"price\"]\n",
    "diff(g)"
   ]
  },
  {
   "cell_type": "code",
   "execution_count": 57,
   "id": "40a316b5",
   "metadata": {},
   "outputs": [
    {
     "data": {
      "text/plain": [
       "fruit\n",
       "apple     2.2\n",
       "banana    0.4\n",
       "orange    0.0\n",
       "Name: price, dtype: float64"
      ]
     },
     "execution_count": 57,
     "metadata": {},
     "output_type": "execute_result"
    }
   ],
   "source": [
    "g.agg(diff)"
   ]
  },
  {
   "cell_type": "code",
   "execution_count": 63,
   "id": "565252d0",
   "metadata": {},
   "outputs": [
    {
     "data": {
      "text/html": [
       "<div>\n",
       "<style scoped>\n",
       "    .dataframe tbody tr th:only-of-type {\n",
       "        vertical-align: middle;\n",
       "    }\n",
       "\n",
       "    .dataframe tbody tr th {\n",
       "        vertical-align: top;\n",
       "    }\n",
       "\n",
       "    .dataframe thead th {\n",
       "        text-align: right;\n",
       "    }\n",
       "</style>\n",
       "<table border=\"1\" class=\"dataframe\">\n",
       "  <thead>\n",
       "    <tr style=\"text-align: right;\">\n",
       "      <th></th>\n",
       "      <th>a</th>\n",
       "      <th>b</th>\n",
       "      <th>c</th>\n",
       "      <th>d</th>\n",
       "      <th>e</th>\n",
       "    </tr>\n",
       "  </thead>\n",
       "  <tbody>\n",
       "    <tr>\n",
       "      <th>Sam</th>\n",
       "      <td>-0.238373</td>\n",
       "      <td>-1.328085</td>\n",
       "      <td>-0.414610</td>\n",
       "      <td>0.842798</td>\n",
       "      <td>-0.722201</td>\n",
       "    </tr>\n",
       "    <tr>\n",
       "      <th>Make</th>\n",
       "      <td>-0.497542</td>\n",
       "      <td>-0.319655</td>\n",
       "      <td>-0.198167</td>\n",
       "      <td>-0.122069</td>\n",
       "      <td>1.499487</td>\n",
       "    </tr>\n",
       "    <tr>\n",
       "      <th>Tony</th>\n",
       "      <td>1.577179</td>\n",
       "      <td>-2.003463</td>\n",
       "      <td>-1.122397</td>\n",
       "      <td>0.285343</td>\n",
       "      <td>1.041418</td>\n",
       "    </tr>\n",
       "    <tr>\n",
       "      <th>Jim</th>\n",
       "      <td>-0.123252</td>\n",
       "      <td>-0.793587</td>\n",
       "      <td>-0.087840</td>\n",
       "      <td>1.617544</td>\n",
       "      <td>-0.970178</td>\n",
       "    </tr>\n",
       "    <tr>\n",
       "      <th>Nana</th>\n",
       "      <td>0.821879</td>\n",
       "      <td>0.369272</td>\n",
       "      <td>-0.395789</td>\n",
       "      <td>1.462546</td>\n",
       "      <td>0.403779</td>\n",
       "    </tr>\n",
       "  </tbody>\n",
       "</table>\n",
       "</div>"
      ],
      "text/plain": [
       "             a         b         c         d         e\n",
       "Sam  -0.238373 -1.328085 -0.414610  0.842798 -0.722201\n",
       "Make -0.497542 -0.319655 -0.198167 -0.122069  1.499487\n",
       "Tony  1.577179 -2.003463 -1.122397  0.285343  1.041418\n",
       "Jim  -0.123252 -0.793587 -0.087840  1.617544 -0.970178\n",
       "Nana  0.821879  0.369272 -0.395789  1.462546  0.403779"
      ]
     },
     "execution_count": 63,
     "metadata": {},
     "output_type": "execute_result"
    }
   ],
   "source": [
    "people = pd.DataFrame(np.random.randn(5, 5),\n",
    "                      columns=['a', 'b', 'c', 'd', 'e'],\n",
    "                      index=['Sam', 'Make', 'Tony', 'Jim', 'Nana'])\n",
    "people"
   ]
  },
  {
   "cell_type": "code",
   "execution_count": 64,
   "id": "03862d82",
   "metadata": {},
   "outputs": [],
   "source": [
    "m = {'a': 'red', 'b': 'red', 'c': 'blue','d': 'blue', 'e': 'red', 'f' : 'orange'}"
   ]
  },
  {
   "cell_type": "code",
   "execution_count": 67,
   "id": "089df0a7",
   "metadata": {},
   "outputs": [
    {
     "name": "stdout",
     "output_type": "stream",
     "text": [
      "blue\n",
      "----------------------------------------\n",
      "             c         d\n",
      "Sam  -0.414610  0.842798\n",
      "Make -0.198167 -0.122069\n",
      "Tony -1.122397  0.285343\n",
      "Jim  -0.087840  1.617544\n",
      "Nana -0.395789  1.462546\n",
      "----------------------------------------\n",
      "red\n",
      "----------------------------------------\n",
      "             a         b         e\n",
      "Sam  -0.238373 -1.328085 -0.722201\n",
      "Make -0.497542 -0.319655  1.499487\n",
      "Tony  1.577179 -2.003463  1.041418\n",
      "Jim  -0.123252 -0.793587 -0.970178\n",
      "Nana  0.821879  0.369272  0.403779\n",
      "----------------------------------------\n"
     ]
    }
   ],
   "source": [
    "g = people.groupby(m,axis=1)\n",
    "for a,b in g:\n",
    "    print(a)\n",
    "    print(\"-\"*40)\n",
    "    print(b)\n",
    "    print(\"-\"*40)"
   ]
  },
  {
   "cell_type": "code",
   "execution_count": 69,
   "id": "2aff3746",
   "metadata": {},
   "outputs": [
    {
     "data": {
      "text/html": [
       "<div>\n",
       "<style scoped>\n",
       "    .dataframe tbody tr th:only-of-type {\n",
       "        vertical-align: middle;\n",
       "    }\n",
       "\n",
       "    .dataframe tbody tr th {\n",
       "        vertical-align: top;\n",
       "    }\n",
       "\n",
       "    .dataframe thead th {\n",
       "        text-align: right;\n",
       "    }\n",
       "</style>\n",
       "<table border=\"1\" class=\"dataframe\">\n",
       "  <thead>\n",
       "    <tr style=\"text-align: right;\">\n",
       "      <th></th>\n",
       "      <th>a</th>\n",
       "      <th>b</th>\n",
       "      <th>c</th>\n",
       "      <th>d</th>\n",
       "      <th>e</th>\n",
       "    </tr>\n",
       "  </thead>\n",
       "  <tbody>\n",
       "    <tr>\n",
       "      <th>Sam</th>\n",
       "      <td>-0.238373</td>\n",
       "      <td>-1.328085</td>\n",
       "      <td>-0.414610</td>\n",
       "      <td>0.842798</td>\n",
       "      <td>-0.722201</td>\n",
       "    </tr>\n",
       "    <tr>\n",
       "      <th>Make</th>\n",
       "      <td>-0.497542</td>\n",
       "      <td>-0.319655</td>\n",
       "      <td>-0.198167</td>\n",
       "      <td>-0.122069</td>\n",
       "      <td>1.499487</td>\n",
       "    </tr>\n",
       "    <tr>\n",
       "      <th>Tony</th>\n",
       "      <td>1.577179</td>\n",
       "      <td>-2.003463</td>\n",
       "      <td>-1.122397</td>\n",
       "      <td>0.285343</td>\n",
       "      <td>1.041418</td>\n",
       "    </tr>\n",
       "    <tr>\n",
       "      <th>Jim</th>\n",
       "      <td>-0.123252</td>\n",
       "      <td>-0.793587</td>\n",
       "      <td>-0.087840</td>\n",
       "      <td>1.617544</td>\n",
       "      <td>-0.970178</td>\n",
       "    </tr>\n",
       "    <tr>\n",
       "      <th>Nana</th>\n",
       "      <td>0.821879</td>\n",
       "      <td>0.369272</td>\n",
       "      <td>-0.395789</td>\n",
       "      <td>1.462546</td>\n",
       "      <td>0.403779</td>\n",
       "    </tr>\n",
       "  </tbody>\n",
       "</table>\n",
       "</div>"
      ],
      "text/plain": [
       "             a         b         c         d         e\n",
       "Sam  -0.238373 -1.328085 -0.414610  0.842798 -0.722201\n",
       "Make -0.497542 -0.319655 -0.198167 -0.122069  1.499487\n",
       "Tony  1.577179 -2.003463 -1.122397  0.285343  1.041418\n",
       "Jim  -0.123252 -0.793587 -0.087840  1.617544 -0.970178\n",
       "Nana  0.821879  0.369272 -0.395789  1.462546  0.403779"
      ]
     },
     "execution_count": 69,
     "metadata": {},
     "output_type": "execute_result"
    }
   ],
   "source": [
    "people"
   ]
  },
  {
   "cell_type": "code",
   "execution_count": 72,
   "id": "5155ee9b",
   "metadata": {},
   "outputs": [
    {
     "data": {
      "text/html": [
       "<div>\n",
       "<style scoped>\n",
       "    .dataframe tbody tr th:only-of-type {\n",
       "        vertical-align: middle;\n",
       "    }\n",
       "\n",
       "    .dataframe tbody tr th {\n",
       "        vertical-align: top;\n",
       "    }\n",
       "\n",
       "    .dataframe thead th {\n",
       "        text-align: right;\n",
       "    }\n",
       "</style>\n",
       "<table border=\"1\" class=\"dataframe\">\n",
       "  <thead>\n",
       "    <tr style=\"text-align: right;\">\n",
       "      <th></th>\n",
       "      <th>a</th>\n",
       "      <th>b</th>\n",
       "      <th>c</th>\n",
       "      <th>d</th>\n",
       "      <th>e</th>\n",
       "    </tr>\n",
       "  </thead>\n",
       "  <tbody>\n",
       "    <tr>\n",
       "      <th>3</th>\n",
       "      <td>-0.180813</td>\n",
       "      <td>-1.060836</td>\n",
       "      <td>-0.251225</td>\n",
       "      <td>1.230171</td>\n",
       "      <td>-0.846189</td>\n",
       "    </tr>\n",
       "    <tr>\n",
       "      <th>4</th>\n",
       "      <td>0.633839</td>\n",
       "      <td>-0.651282</td>\n",
       "      <td>-0.572118</td>\n",
       "      <td>0.541940</td>\n",
       "      <td>0.981561</td>\n",
       "    </tr>\n",
       "  </tbody>\n",
       "</table>\n",
       "</div>"
      ],
      "text/plain": [
       "          a         b         c         d         e\n",
       "3 -0.180813 -1.060836 -0.251225  1.230171 -0.846189\n",
       "4  0.633839 -0.651282 -0.572118  0.541940  0.981561"
      ]
     },
     "execution_count": 72,
     "metadata": {},
     "output_type": "execute_result"
    }
   ],
   "source": [
    "people.groupby(len).mean()"
   ]
  },
  {
   "cell_type": "code",
   "execution_count": 74,
   "id": "7abd87f3",
   "metadata": {},
   "outputs": [
    {
     "data": {
      "text/html": [
       "<div>\n",
       "<style scoped>\n",
       "    .dataframe tbody tr th:only-of-type {\n",
       "        vertical-align: middle;\n",
       "    }\n",
       "\n",
       "    .dataframe tbody tr th {\n",
       "        vertical-align: top;\n",
       "    }\n",
       "\n",
       "    .dataframe thead th {\n",
       "        text-align: right;\n",
       "    }\n",
       "</style>\n",
       "<table border=\"1\" class=\"dataframe\">\n",
       "  <thead>\n",
       "    <tr style=\"text-align: right;\">\n",
       "      <th></th>\n",
       "      <th>a</th>\n",
       "      <th>ab</th>\n",
       "      <th>abc</th>\n",
       "      <th>a</th>\n",
       "      <th>ab</th>\n",
       "    </tr>\n",
       "  </thead>\n",
       "  <tbody>\n",
       "    <tr>\n",
       "      <th>Sam</th>\n",
       "      <td>-0.238373</td>\n",
       "      <td>-1.328085</td>\n",
       "      <td>-0.414610</td>\n",
       "      <td>0.842798</td>\n",
       "      <td>-0.722201</td>\n",
       "    </tr>\n",
       "    <tr>\n",
       "      <th>Make</th>\n",
       "      <td>-0.497542</td>\n",
       "      <td>-0.319655</td>\n",
       "      <td>-0.198167</td>\n",
       "      <td>-0.122069</td>\n",
       "      <td>1.499487</td>\n",
       "    </tr>\n",
       "    <tr>\n",
       "      <th>Tony</th>\n",
       "      <td>1.577179</td>\n",
       "      <td>-2.003463</td>\n",
       "      <td>-1.122397</td>\n",
       "      <td>0.285343</td>\n",
       "      <td>1.041418</td>\n",
       "    </tr>\n",
       "    <tr>\n",
       "      <th>Jim</th>\n",
       "      <td>-0.123252</td>\n",
       "      <td>-0.793587</td>\n",
       "      <td>-0.087840</td>\n",
       "      <td>1.617544</td>\n",
       "      <td>-0.970178</td>\n",
       "    </tr>\n",
       "    <tr>\n",
       "      <th>Nana</th>\n",
       "      <td>0.821879</td>\n",
       "      <td>0.369272</td>\n",
       "      <td>-0.395789</td>\n",
       "      <td>1.462546</td>\n",
       "      <td>0.403779</td>\n",
       "    </tr>\n",
       "  </tbody>\n",
       "</table>\n",
       "</div>"
      ],
      "text/plain": [
       "             a        ab       abc         a        ab\n",
       "Sam  -0.238373 -1.328085 -0.414610  0.842798 -0.722201\n",
       "Make -0.497542 -0.319655 -0.198167 -0.122069  1.499487\n",
       "Tony  1.577179 -2.003463 -1.122397  0.285343  1.041418\n",
       "Jim  -0.123252 -0.793587 -0.087840  1.617544 -0.970178\n",
       "Nana  0.821879  0.369272 -0.395789  1.462546  0.403779"
      ]
     },
     "execution_count": 74,
     "metadata": {},
     "output_type": "execute_result"
    }
   ],
   "source": [
    "people.columns=[\"a\",\"ab\",\"abc\",\"a\",\"ab\"]\n",
    "people"
   ]
  },
  {
   "cell_type": "code",
   "execution_count": 76,
   "id": "55dafa08",
   "metadata": {},
   "outputs": [
    {
     "name": "stdout",
     "output_type": "stream",
     "text": [
      "1\n",
      "----------------------------------------\n",
      "             a         a\n",
      "Sam  -0.238373  0.842798\n",
      "Make -0.497542 -0.122069\n",
      "Tony  1.577179  0.285343\n",
      "Jim  -0.123252  1.617544\n",
      "Nana  0.821879  1.462546\n",
      "----------------------------------------\n",
      "2\n",
      "----------------------------------------\n",
      "            ab        ab\n",
      "Sam  -1.328085 -0.722201\n",
      "Make -0.319655  1.499487\n",
      "Tony -2.003463  1.041418\n",
      "Jim  -0.793587 -0.970178\n",
      "Nana  0.369272  0.403779\n",
      "----------------------------------------\n",
      "3\n",
      "----------------------------------------\n",
      "           abc\n",
      "Sam  -0.414610\n",
      "Make -0.198167\n",
      "Tony -1.122397\n",
      "Jim  -0.087840\n",
      "Nana -0.395789\n",
      "----------------------------------------\n"
     ]
    }
   ],
   "source": [
    "g = people.groupby(len,axis=1)\n",
    "for a,b in g:\n",
    "    print(a)\n",
    "    print(\"-\"*40)\n",
    "    print(b)\n",
    "    print(\"-\"*40)"
   ]
  },
  {
   "cell_type": "code",
   "execution_count": 77,
   "id": "2be88568",
   "metadata": {},
   "outputs": [
    {
     "data": {
      "text/html": [
       "<div>\n",
       "<style scoped>\n",
       "    .dataframe tbody tr th:only-of-type {\n",
       "        vertical-align: middle;\n",
       "    }\n",
       "\n",
       "    .dataframe tbody tr th {\n",
       "        vertical-align: top;\n",
       "    }\n",
       "\n",
       "    .dataframe thead th {\n",
       "        text-align: right;\n",
       "    }\n",
       "</style>\n",
       "<table border=\"1\" class=\"dataframe\">\n",
       "  <thead>\n",
       "    <tr style=\"text-align: right;\">\n",
       "      <th></th>\n",
       "      <th>Brand</th>\n",
       "      <th>Store Number</th>\n",
       "      <th>Store Name</th>\n",
       "      <th>Ownership Type</th>\n",
       "      <th>Street Address</th>\n",
       "      <th>City</th>\n",
       "      <th>State/Province</th>\n",
       "      <th>Country</th>\n",
       "      <th>Postcode</th>\n",
       "      <th>Phone Number</th>\n",
       "      <th>Timezone</th>\n",
       "      <th>Longitude</th>\n",
       "      <th>Latitude</th>\n",
       "    </tr>\n",
       "  </thead>\n",
       "  <tbody>\n",
       "    <tr>\n",
       "      <th>0</th>\n",
       "      <td>Starbucks</td>\n",
       "      <td>47370-257954</td>\n",
       "      <td>Meritxell, 96</td>\n",
       "      <td>Licensed</td>\n",
       "      <td>Av. Meritxell, 96</td>\n",
       "      <td>Andorra la Vella</td>\n",
       "      <td>7</td>\n",
       "      <td>AD</td>\n",
       "      <td>AD500</td>\n",
       "      <td>376818720</td>\n",
       "      <td>GMT+1:00 Europe/Andorra</td>\n",
       "      <td>1.53</td>\n",
       "      <td>42.51</td>\n",
       "    </tr>\n",
       "    <tr>\n",
       "      <th>1</th>\n",
       "      <td>Starbucks</td>\n",
       "      <td>22331-212325</td>\n",
       "      <td>Ajman Drive Thru</td>\n",
       "      <td>Licensed</td>\n",
       "      <td>1 Street 69, Al Jarf</td>\n",
       "      <td>Ajman</td>\n",
       "      <td>AJ</td>\n",
       "      <td>AE</td>\n",
       "      <td>NaN</td>\n",
       "      <td>NaN</td>\n",
       "      <td>GMT+04:00 Asia/Dubai</td>\n",
       "      <td>55.47</td>\n",
       "      <td>25.42</td>\n",
       "    </tr>\n",
       "    <tr>\n",
       "      <th>2</th>\n",
       "      <td>Starbucks</td>\n",
       "      <td>47089-256771</td>\n",
       "      <td>Dana Mall</td>\n",
       "      <td>Licensed</td>\n",
       "      <td>Sheikh Khalifa Bin Zayed St.</td>\n",
       "      <td>Ajman</td>\n",
       "      <td>AJ</td>\n",
       "      <td>AE</td>\n",
       "      <td>NaN</td>\n",
       "      <td>NaN</td>\n",
       "      <td>GMT+04:00 Asia/Dubai</td>\n",
       "      <td>55.47</td>\n",
       "      <td>25.39</td>\n",
       "    </tr>\n",
       "    <tr>\n",
       "      <th>3</th>\n",
       "      <td>Starbucks</td>\n",
       "      <td>22126-218024</td>\n",
       "      <td>Twofour 54</td>\n",
       "      <td>Licensed</td>\n",
       "      <td>Al Salam Street</td>\n",
       "      <td>Abu Dhabi</td>\n",
       "      <td>AZ</td>\n",
       "      <td>AE</td>\n",
       "      <td>NaN</td>\n",
       "      <td>NaN</td>\n",
       "      <td>GMT+04:00 Asia/Dubai</td>\n",
       "      <td>54.38</td>\n",
       "      <td>24.48</td>\n",
       "    </tr>\n",
       "    <tr>\n",
       "      <th>4</th>\n",
       "      <td>Starbucks</td>\n",
       "      <td>17127-178586</td>\n",
       "      <td>Al Ain Tower</td>\n",
       "      <td>Licensed</td>\n",
       "      <td>Khaldiya Area, Abu Dhabi Island</td>\n",
       "      <td>Abu Dhabi</td>\n",
       "      <td>AZ</td>\n",
       "      <td>AE</td>\n",
       "      <td>NaN</td>\n",
       "      <td>NaN</td>\n",
       "      <td>GMT+04:00 Asia/Dubai</td>\n",
       "      <td>54.54</td>\n",
       "      <td>24.51</td>\n",
       "    </tr>\n",
       "  </tbody>\n",
       "</table>\n",
       "</div>"
      ],
      "text/plain": [
       "       Brand  Store Number        Store Name Ownership Type  \\\n",
       "0  Starbucks  47370-257954     Meritxell, 96       Licensed   \n",
       "1  Starbucks  22331-212325  Ajman Drive Thru       Licensed   \n",
       "2  Starbucks  47089-256771         Dana Mall       Licensed   \n",
       "3  Starbucks  22126-218024        Twofour 54       Licensed   \n",
       "4  Starbucks  17127-178586      Al Ain Tower       Licensed   \n",
       "\n",
       "                    Street Address              City State/Province Country  \\\n",
       "0                Av. Meritxell, 96  Andorra la Vella              7      AD   \n",
       "1             1 Street 69, Al Jarf             Ajman             AJ      AE   \n",
       "2     Sheikh Khalifa Bin Zayed St.             Ajman             AJ      AE   \n",
       "3                  Al Salam Street         Abu Dhabi             AZ      AE   \n",
       "4  Khaldiya Area, Abu Dhabi Island         Abu Dhabi             AZ      AE   \n",
       "\n",
       "  Postcode Phone Number                 Timezone  Longitude  Latitude  \n",
       "0    AD500    376818720  GMT+1:00 Europe/Andorra       1.53     42.51  \n",
       "1      NaN          NaN     GMT+04:00 Asia/Dubai      55.47     25.42  \n",
       "2      NaN          NaN     GMT+04:00 Asia/Dubai      55.47     25.39  \n",
       "3      NaN          NaN     GMT+04:00 Asia/Dubai      54.38     24.48  \n",
       "4      NaN          NaN     GMT+04:00 Asia/Dubai      54.54     24.51  "
      ]
     },
     "execution_count": 77,
     "metadata": {},
     "output_type": "execute_result"
    }
   ],
   "source": [
    "df = pd.read_csv('starbucks_store_worldwide.csv')\n",
    "df.head()"
   ]
  },
  {
   "cell_type": "code",
   "execution_count": 94,
   "id": "2ee8fa9f",
   "metadata": {},
   "outputs": [
    {
     "data": {
      "text/plain": [
       "Country  State/Province\n",
       "AD       7                   1.530000\n",
       "AE       AJ                 55.470000\n",
       "         AZ                 54.804583\n",
       "         DU                 55.232317\n",
       "         FU                 56.315000\n",
       "                              ...    \n",
       "US       WV                -80.890400\n",
       "         WY               -106.643043\n",
       "VN       HN                105.825000\n",
       "         SG                106.694211\n",
       "ZA       GT                 28.143333\n",
       "Name: Longitude, Length: 545, dtype: float64"
      ]
     },
     "execution_count": 94,
     "metadata": {},
     "output_type": "execute_result"
    }
   ],
   "source": [
    "g = df.groupby([\"Country\",\"State/Province\"])[\"Longitude\"].mean()\n",
    "g"
   ]
  },
  {
   "cell_type": "code",
   "execution_count": 95,
   "id": "481d8dc2",
   "metadata": {},
   "outputs": [
    {
     "data": {
      "text/html": [
       "<div>\n",
       "<style scoped>\n",
       "    .dataframe tbody tr th:only-of-type {\n",
       "        vertical-align: middle;\n",
       "    }\n",
       "\n",
       "    .dataframe tbody tr th {\n",
       "        vertical-align: top;\n",
       "    }\n",
       "\n",
       "    .dataframe thead th {\n",
       "        text-align: right;\n",
       "    }\n",
       "</style>\n",
       "<table border=\"1\" class=\"dataframe\">\n",
       "  <thead>\n",
       "    <tr style=\"text-align: right;\">\n",
       "      <th></th>\n",
       "      <th>Country</th>\n",
       "      <th>State/Province</th>\n",
       "      <th>Longitude</th>\n",
       "    </tr>\n",
       "  </thead>\n",
       "  <tbody>\n",
       "    <tr>\n",
       "      <th>0</th>\n",
       "      <td>AD</td>\n",
       "      <td>7</td>\n",
       "      <td>1.530000</td>\n",
       "    </tr>\n",
       "    <tr>\n",
       "      <th>1</th>\n",
       "      <td>AE</td>\n",
       "      <td>AJ</td>\n",
       "      <td>55.470000</td>\n",
       "    </tr>\n",
       "    <tr>\n",
       "      <th>2</th>\n",
       "      <td>AE</td>\n",
       "      <td>AZ</td>\n",
       "      <td>54.804583</td>\n",
       "    </tr>\n",
       "    <tr>\n",
       "      <th>3</th>\n",
       "      <td>AE</td>\n",
       "      <td>DU</td>\n",
       "      <td>55.232317</td>\n",
       "    </tr>\n",
       "    <tr>\n",
       "      <th>4</th>\n",
       "      <td>AE</td>\n",
       "      <td>FU</td>\n",
       "      <td>56.315000</td>\n",
       "    </tr>\n",
       "    <tr>\n",
       "      <th>...</th>\n",
       "      <td>...</td>\n",
       "      <td>...</td>\n",
       "      <td>...</td>\n",
       "    </tr>\n",
       "    <tr>\n",
       "      <th>540</th>\n",
       "      <td>US</td>\n",
       "      <td>WV</td>\n",
       "      <td>-80.890400</td>\n",
       "    </tr>\n",
       "    <tr>\n",
       "      <th>541</th>\n",
       "      <td>US</td>\n",
       "      <td>WY</td>\n",
       "      <td>-106.643043</td>\n",
       "    </tr>\n",
       "    <tr>\n",
       "      <th>542</th>\n",
       "      <td>VN</td>\n",
       "      <td>HN</td>\n",
       "      <td>105.825000</td>\n",
       "    </tr>\n",
       "    <tr>\n",
       "      <th>543</th>\n",
       "      <td>VN</td>\n",
       "      <td>SG</td>\n",
       "      <td>106.694211</td>\n",
       "    </tr>\n",
       "    <tr>\n",
       "      <th>544</th>\n",
       "      <td>ZA</td>\n",
       "      <td>GT</td>\n",
       "      <td>28.143333</td>\n",
       "    </tr>\n",
       "  </tbody>\n",
       "</table>\n",
       "<p>545 rows × 3 columns</p>\n",
       "</div>"
      ],
      "text/plain": [
       "    Country State/Province   Longitude\n",
       "0        AD              7    1.530000\n",
       "1        AE             AJ   55.470000\n",
       "2        AE             AZ   54.804583\n",
       "3        AE             DU   55.232317\n",
       "4        AE             FU   56.315000\n",
       "..      ...            ...         ...\n",
       "540      US             WV  -80.890400\n",
       "541      US             WY -106.643043\n",
       "542      VN             HN  105.825000\n",
       "543      VN             SG  106.694211\n",
       "544      ZA             GT   28.143333\n",
       "\n",
       "[545 rows x 3 columns]"
      ]
     },
     "execution_count": 95,
     "metadata": {},
     "output_type": "execute_result"
    }
   ],
   "source": [
    "g = df.groupby([\"Country\",\"State/Province\"],as_index=False)[\"Longitude\"].mean()\n",
    "g"
   ]
  },
  {
   "cell_type": "code",
   "execution_count": 100,
   "id": "8d1a1209",
   "metadata": {},
   "outputs": [],
   "source": [
    "g = df.groupby([\"Country\",\"State/Province\"])"
   ]
  },
  {
   "cell_type": "code",
   "execution_count": null,
   "id": "72bcadbc",
   "metadata": {},
   "outputs": [],
   "source": []
  }
 ],
 "metadata": {
  "kernelspec": {
   "display_name": "Python 3",
   "language": "python",
   "name": "python3"
  },
  "language_info": {
   "codemirror_mode": {
    "name": "ipython",
    "version": 3
   },
   "file_extension": ".py",
   "mimetype": "text/x-python",
   "name": "python",
   "nbconvert_exporter": "python",
   "pygments_lexer": "ipython3",
   "version": "3.8.8"
  }
 },
 "nbformat": 4,
 "nbformat_minor": 5
}
