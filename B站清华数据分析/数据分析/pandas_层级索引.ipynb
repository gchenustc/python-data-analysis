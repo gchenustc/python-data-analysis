{
 "cells": [
  {
   "cell_type": "code",
   "execution_count": 1,
   "id": "99a6c80f",
   "metadata": {},
   "outputs": [],
   "source": [
    "import numpy as np\n",
    "import pandas as pd"
   ]
  },
  {
   "cell_type": "code",
   "execution_count": 2,
   "id": "ce08a9d0",
   "metadata": {},
   "outputs": [],
   "source": [
    "s1 = pd.Series(np.random.rand(12),index=[[\"b\",\"b\",\"b\",\"d\",\"d\",\"d\",\"c\",\"c\",\"c\",\"a\",\"a\",\"a\"],[2,1,0,2,1,0,2,1,0,2,1,0]])"
   ]
  },
  {
   "cell_type": "code",
   "execution_count": 3,
   "id": "c0936e92",
   "metadata": {},
   "outputs": [
    {
     "data": {
      "text/plain": [
       "b  2    0.543681\n",
       "   1    0.335226\n",
       "   0    0.320725\n",
       "d  2    0.668952\n",
       "   1    0.423665\n",
       "   0    0.446797\n",
       "c  2    0.956536\n",
       "   1    0.882153\n",
       "   0    0.822647\n",
       "a  2    0.552937\n",
       "   1    0.639068\n",
       "   0    0.561422\n",
       "dtype: float64"
      ]
     },
     "execution_count": 3,
     "metadata": {},
     "output_type": "execute_result"
    }
   ],
   "source": [
    "s1"
   ]
  },
  {
   "cell_type": "code",
   "execution_count": 4,
   "id": "f203baa6",
   "metadata": {},
   "outputs": [
    {
     "data": {
      "text/plain": [
       "MultiIndex([('b', 2),\n",
       "            ('b', 1),\n",
       "            ('b', 0),\n",
       "            ('d', 2),\n",
       "            ('d', 1),\n",
       "            ('d', 0),\n",
       "            ('c', 2),\n",
       "            ('c', 1),\n",
       "            ('c', 0),\n",
       "            ('a', 2),\n",
       "            ('a', 1),\n",
       "            ('a', 0)],\n",
       "           )"
      ]
     },
     "execution_count": 4,
     "metadata": {},
     "output_type": "execute_result"
    }
   ],
   "source": [
    "s1.index"
   ]
  },
  {
   "cell_type": "code",
   "execution_count": 5,
   "id": "baaef5a2",
   "metadata": {},
   "outputs": [
    {
     "data": {
      "text/plain": [
       "pandas.core.indexes.multi.MultiIndex"
      ]
     },
     "execution_count": 5,
     "metadata": {},
     "output_type": "execute_result"
    }
   ],
   "source": [
    "type(s1.index)"
   ]
  },
  {
   "cell_type": "code",
   "execution_count": 10,
   "id": "498685ee",
   "metadata": {},
   "outputs": [
    {
     "data": {
      "text/plain": [
       "2    0.543681\n",
       "1    0.335226\n",
       "0    0.320725\n",
       "dtype: float64"
      ]
     },
     "execution_count": 10,
     "metadata": {},
     "output_type": "execute_result"
    }
   ],
   "source": [
    "s1[\"b\",:]"
   ]
  },
  {
   "cell_type": "code",
   "execution_count": 7,
   "id": "05433ebb",
   "metadata": {},
   "outputs": [
    {
     "data": {
      "text/plain": [
       "b    0.320725\n",
       "d    0.446797\n",
       "c    0.822647\n",
       "a    0.561422\n",
       "dtype: float64"
      ]
     },
     "execution_count": 7,
     "metadata": {},
     "output_type": "execute_result"
    }
   ],
   "source": [
    "s1[:,0]"
   ]
  },
  {
   "cell_type": "code",
   "execution_count": 8,
   "id": "67be9966",
   "metadata": {},
   "outputs": [
    {
     "data": {
      "text/plain": [
       "0.639068092555899"
      ]
     },
     "execution_count": 8,
     "metadata": {},
     "output_type": "execute_result"
    }
   ],
   "source": [
    "s1[\"a\",1]"
   ]
  },
  {
   "cell_type": "code",
   "execution_count": 11,
   "id": "808def54",
   "metadata": {},
   "outputs": [
    {
     "data": {
      "text/plain": [
       "2  b    0.543681\n",
       "1  b    0.335226\n",
       "0  b    0.320725\n",
       "2  d    0.668952\n",
       "1  d    0.423665\n",
       "0  d    0.446797\n",
       "2  c    0.956536\n",
       "1  c    0.882153\n",
       "0  c    0.822647\n",
       "2  a    0.552937\n",
       "1  a    0.639068\n",
       "0  a    0.561422\n",
       "dtype: float64"
      ]
     },
     "execution_count": 11,
     "metadata": {},
     "output_type": "execute_result"
    }
   ],
   "source": [
    "s1.swaplevel()"
   ]
  },
  {
   "cell_type": "code",
   "execution_count": 12,
   "id": "7a0c9c05",
   "metadata": {},
   "outputs": [
    {
     "data": {
      "text/plain": [
       "b  2    0.543681\n",
       "   1    0.335226\n",
       "   0    0.320725\n",
       "d  2    0.668952\n",
       "   1    0.423665\n",
       "   0    0.446797\n",
       "c  2    0.956536\n",
       "   1    0.882153\n",
       "   0    0.822647\n",
       "a  2    0.552937\n",
       "   1    0.639068\n",
       "   0    0.561422\n",
       "dtype: float64"
      ]
     },
     "execution_count": 12,
     "metadata": {},
     "output_type": "execute_result"
    }
   ],
   "source": [
    "s1"
   ]
  },
  {
   "cell_type": "code",
   "execution_count": 14,
   "id": "560c7001",
   "metadata": {},
   "outputs": [
    {
     "data": {
      "text/plain": [
       "a  0    0.561422\n",
       "   1    0.639068\n",
       "   2    0.552937\n",
       "b  0    0.320725\n",
       "   1    0.335226\n",
       "   2    0.543681\n",
       "c  0    0.822647\n",
       "   1    0.882153\n",
       "   2    0.956536\n",
       "d  0    0.446797\n",
       "   1    0.423665\n",
       "   2    0.668952\n",
       "dtype: float64"
      ]
     },
     "execution_count": 14,
     "metadata": {},
     "output_type": "execute_result"
    }
   ],
   "source": [
    "s1.sort_index()"
   ]
  },
  {
   "cell_type": "code",
   "execution_count": 15,
   "id": "fa4cafb5",
   "metadata": {},
   "outputs": [
    {
     "data": {
      "text/plain": [
       "0  a    0.561422\n",
       "   b    0.320725\n",
       "   c    0.822647\n",
       "   d    0.446797\n",
       "1  a    0.639068\n",
       "   b    0.335226\n",
       "   c    0.882153\n",
       "   d    0.423665\n",
       "2  a    0.552937\n",
       "   b    0.543681\n",
       "   c    0.956536\n",
       "   d    0.668952\n",
       "dtype: float64"
      ]
     },
     "execution_count": 15,
     "metadata": {},
     "output_type": "execute_result"
    }
   ],
   "source": [
    "s1.swaplevel().sort_index()"
   ]
  },
  {
   "cell_type": "code",
   "execution_count": null,
   "id": "569e3440",
   "metadata": {},
   "outputs": [],
   "source": []
  }
 ],
 "metadata": {
  "kernelspec": {
   "display_name": "Python 3",
   "language": "python",
   "name": "python3"
  },
  "language_info": {
   "codemirror_mode": {
    "name": "ipython",
    "version": 3
   },
   "file_extension": ".py",
   "mimetype": "text/x-python",
   "name": "python",
   "nbconvert_exporter": "python",
   "pygments_lexer": "ipython3",
   "version": "3.8.8"
  }
 },
 "nbformat": 4,
 "nbformat_minor": 5
}
