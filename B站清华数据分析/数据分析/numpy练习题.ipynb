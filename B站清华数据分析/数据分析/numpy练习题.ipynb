{
 "cells": [
  {
   "cell_type": "code",
   "execution_count": 2,
   "id": "ce90f787",
   "metadata": {},
   "outputs": [
    {
     "name": "stdout",
     "output_type": "stream",
     "text": [
      "1.20.1\n"
     ]
    }
   ],
   "source": [
    "import numpy as np\n",
    "print(np.__version__)"
   ]
  },
  {
   "cell_type": "code",
   "execution_count": 3,
   "id": "b4c140cd",
   "metadata": {},
   "outputs": [
    {
     "data": {
      "text/plain": [
       "array([[False, False, False, False],\n",
       "       [False, False, False, False],\n",
       "       [False, False, False, False],\n",
       "       [False, False, False, False]])"
      ]
     },
     "execution_count": 3,
     "metadata": {},
     "output_type": "execute_result"
    }
   ],
   "source": [
    "np.full((4,4),False)"
   ]
  },
  {
   "cell_type": "code",
   "execution_count": 10,
   "id": "efc3bc21",
   "metadata": {},
   "outputs": [
    {
     "data": {
      "text/plain": [
       "array([[0],\n",
       "       [1],\n",
       "       [2],\n",
       "       [3],\n",
       "       [4],\n",
       "       [5],\n",
       "       [6],\n",
       "       [7],\n",
       "       [8],\n",
       "       [9]])"
      ]
     },
     "execution_count": 10,
     "metadata": {},
     "output_type": "execute_result"
    }
   ],
   "source": [
    "arr = np.arange(10)\n",
    "arr.reshape(2,5) #转换成(2,5)的数组\n",
    "arr[:,np.newaxis] #转换成(10,1)的数组"
   ]
  },
  {
   "cell_type": "code",
   "execution_count": 11,
   "id": "9beed05e",
   "metadata": {},
   "outputs": [
    {
     "name": "stdout",
     "output_type": "stream",
     "text": [
      "(10, 1, 2)\n"
     ]
    }
   ],
   "source": [
    "arr = np.random.randint(0,10,size=(10,2))\n",
    "arr1 = arr[:,np.newaxis,:]\n",
    "print(arr1.shape)"
   ]
  },
  {
   "cell_type": "code",
   "execution_count": 12,
   "id": "06d9c13b",
   "metadata": {},
   "outputs": [
    {
     "data": {
      "text/plain": [
       "array([[[5, 8]],\n",
       "\n",
       "       [[2, 5]],\n",
       "\n",
       "       [[4, 4]],\n",
       "\n",
       "       [[2, 9]],\n",
       "\n",
       "       [[7, 1]],\n",
       "\n",
       "       [[5, 3]],\n",
       "\n",
       "       [[7, 2]],\n",
       "\n",
       "       [[5, 3]],\n",
       "\n",
       "       [[7, 5]],\n",
       "\n",
       "       [[8, 6]]])"
      ]
     },
     "execution_count": 12,
     "metadata": {},
     "output_type": "execute_result"
    }
   ],
   "source": [
    "arr1"
   ]
  },
  {
   "cell_type": "code",
   "execution_count": 24,
   "id": "04c34e7f",
   "metadata": {},
   "outputs": [
    {
     "data": {
      "text/plain": [
       "array([1, 6])"
      ]
     },
     "execution_count": 24,
     "metadata": {},
     "output_type": "execute_result"
    }
   ],
   "source": [
    "arr = np.arange(10)\n",
    "arr=arr.reshape(2,5) #转换成(2,5)的数组\n",
    "arr[:,1]"
   ]
  },
  {
   "cell_type": "code",
   "execution_count": 3,
   "id": "e9d3d7d4",
   "metadata": {},
   "outputs": [
    {
     "data": {
      "text/plain": [
       "array([[1, 3, 1, 2, 8],\n",
       "       [4, 6, 9, 6, 7],\n",
       "       [1, 9, 2, 4, 7],\n",
       "       [1, 6, 5, 9, 6],\n",
       "       [6, 6, 8, 5, 8]])"
      ]
     },
     "execution_count": 3,
     "metadata": {},
     "output_type": "execute_result"
    }
   ],
   "source": [
    "arr=np.random.randint(1,10,size=(5,5))\n",
    "arr"
   ]
  },
  {
   "cell_type": "code",
   "execution_count": 4,
   "id": "6226ebc7",
   "metadata": {},
   "outputs": [],
   "source": [
    "arr_new= np.where(arr%2==0,0,arr)"
   ]
  },
  {
   "cell_type": "code",
   "execution_count": 5,
   "id": "99dd3b4f",
   "metadata": {},
   "outputs": [
    {
     "data": {
      "text/plain": [
       "array([[1, 3, 1, 0, 0],\n",
       "       [0, 0, 9, 0, 7],\n",
       "       [1, 9, 0, 0, 7],\n",
       "       [1, 0, 5, 9, 0],\n",
       "       [0, 0, 0, 5, 0]])"
      ]
     },
     "execution_count": 5,
     "metadata": {},
     "output_type": "execute_result"
    }
   ],
   "source": [
    "arr_new"
   ]
  },
  {
   "cell_type": "code",
   "execution_count": 13,
   "id": "d2020eec",
   "metadata": {},
   "outputs": [
    {
     "data": {
      "text/plain": [
       "array([[1, 3, 1, 2, 8],\n",
       "       [4, 6, 9, 6, 7],\n",
       "       [1, 9, 2, 4, 7],\n",
       "       [1, 6, 5, 9, 6],\n",
       "       [6, 6, 8, 5, 8]])"
      ]
     },
     "execution_count": 13,
     "metadata": {},
     "output_type": "execute_result"
    }
   ],
   "source": [
    "arr"
   ]
  },
  {
   "cell_type": "code",
   "execution_count": 16,
   "id": "0730142d",
   "metadata": {},
   "outputs": [
    {
     "data": {
      "text/plain": [
       "array([[0, 3, 0, 0, 0],\n",
       "       [0, 0, 9, 0, 7],\n",
       "       [0, 9, 0, 0, 7],\n",
       "       [0, 0, 5, 9, 0],\n",
       "       [0, 0, 0, 5, 0]])"
      ]
     },
     "execution_count": 16,
     "metadata": {},
     "output_type": "execute_result"
    }
   ],
   "source": [
    "arr[np.logical_or(arr%2==0,arr==1)]=0\n",
    "arr"
   ]
  },
  {
   "cell_type": "code",
   "execution_count": 19,
   "id": "65c611de",
   "metadata": {},
   "outputs": [
    {
     "data": {
      "text/plain": [
       "array([0.09090909, 0.18181818, 0.27272727, 0.36363636, 0.45454545,\n",
       "       0.54545455, 0.63636364, 0.72727273, 0.81818182, 0.90909091])"
      ]
     },
     "execution_count": 19,
     "metadata": {},
     "output_type": "execute_result"
    }
   ],
   "source": [
    "np.linspace(0,1,12)[1:-1]"
   ]
  },
  {
   "cell_type": "code",
   "execution_count": 22,
   "id": "65f9654c",
   "metadata": {},
   "outputs": [
    {
     "data": {
      "text/plain": [
       "array([[ 0,  1,  2,  3,  4],\n",
       "       [ 5,  6,  7,  8,  9],\n",
       "       [10, 11, 12, 13, 14]])"
      ]
     },
     "execution_count": 22,
     "metadata": {},
     "output_type": "execute_result"
    }
   ],
   "source": [
    "a = np.arange(15).reshape((3,5))\n",
    "a"
   ]
  },
  {
   "cell_type": "code",
   "execution_count": 25,
   "id": "91a29e1e",
   "metadata": {},
   "outputs": [
    {
     "data": {
      "text/plain": [
       "(array([1, 1, 1, 1, 1, 2], dtype=int64),\n",
       " array([0, 1, 2, 3, 4, 0], dtype=int64))"
      ]
     },
     "execution_count": 25,
     "metadata": {},
     "output_type": "execute_result"
    }
   ],
   "source": [
    "index=np.where(np.logical_and(a>=5,a<=10))\n",
    "index"
   ]
  },
  {
   "cell_type": "code",
   "execution_count": 26,
   "id": "76c3caea",
   "metadata": {},
   "outputs": [
    {
     "data": {
      "text/plain": [
       "array([ 5,  6,  7,  8,  9, 10])"
      ]
     },
     "execution_count": 26,
     "metadata": {},
     "output_type": "execute_result"
    }
   ],
   "source": [
    "a[index]"
   ]
  },
  {
   "cell_type": "code",
   "execution_count": 30,
   "id": "6415016e",
   "metadata": {},
   "outputs": [
    {
     "data": {
      "text/plain": [
       "array([ 5,  6,  7,  8,  9, 10])"
      ]
     },
     "execution_count": 30,
     "metadata": {},
     "output_type": "execute_result"
    }
   ],
   "source": [
    "a[(a>=5) & (a<=10)]"
   ]
  },
  {
   "cell_type": "code",
   "execution_count": 31,
   "id": "ecf117bb",
   "metadata": {},
   "outputs": [
    {
     "data": {
      "text/plain": [
       "array([[ 0,  1,  2,  3,  4],\n",
       "       [ 5,  6,  7,  8,  9],\n",
       "       [10, 11, 12, 13, 14]])"
      ]
     },
     "execution_count": 31,
     "metadata": {},
     "output_type": "execute_result"
    }
   ],
   "source": [
    "a = np.arange(15).reshape(3,5)\n",
    "a"
   ]
  },
  {
   "cell_type": "code",
   "execution_count": 32,
   "id": "bee923d9",
   "metadata": {},
   "outputs": [
    {
     "data": {
      "text/plain": [
       "array([[10, 11, 12, 13, 14],\n",
       "       [ 5,  6,  7,  8,  9],\n",
       "       [ 0,  1,  2,  3,  4]])"
      ]
     },
     "execution_count": 32,
     "metadata": {},
     "output_type": "execute_result"
    }
   ],
   "source": [
    "a[::-1]"
   ]
  },
  {
   "cell_type": "code",
   "execution_count": 33,
   "id": "e089dc4c",
   "metadata": {},
   "outputs": [
    {
     "data": {
      "text/plain": [
       "array([[ 4,  3,  2,  1,  0],\n",
       "       [ 9,  8,  7,  6,  5],\n",
       "       [14, 13, 12, 11, 10]])"
      ]
     },
     "execution_count": 33,
     "metadata": {},
     "output_type": "execute_result"
    }
   ],
   "source": [
    "a[:,::-1]"
   ]
  },
  {
   "cell_type": "code",
   "execution_count": 50,
   "id": "1e58bb6f",
   "metadata": {},
   "outputs": [],
   "source": [
    "np.set_printoptions(suppress=True,precision=10)"
   ]
  },
  {
   "cell_type": "code",
   "execution_count": 51,
   "id": "e35998b9",
   "metadata": {},
   "outputs": [
    {
     "data": {
      "text/plain": [
       "array([[0.0002940312, 0.0003131015, 0.0008460638],\n",
       "       [0.0005852913, 0.0007705137, 0.0003171869],\n",
       "       [0.0000615768, 0.0003486134, 0.0007806365]])"
      ]
     },
     "execution_count": 51,
     "metadata": {},
     "output_type": "execute_result"
    }
   ],
   "source": [
    "arr=np.random.random((3,3))/1e3\n",
    "arr"
   ]
  },
  {
   "cell_type": "code",
   "execution_count": 52,
   "id": "9c6793bc",
   "metadata": {},
   "outputs": [],
   "source": [
    "arr = np.random.randint(0,20,(10,10))"
   ]
  },
  {
   "cell_type": "code",
   "execution_count": 53,
   "id": "50b160e0",
   "metadata": {},
   "outputs": [
    {
     "data": {
      "text/plain": [
       "(array([ 0,  1,  2,  3,  5,  6,  7,  8,  9, 10, 11, 12, 13, 14, 15, 16, 17,\n",
       "        18, 19]),\n",
       " array([2, 4, 9, 2, 7, 1, 9, 5, 8, 5, 3, 5, 6, 4, 7, 6, 5, 5, 7],\n",
       "       dtype=int64))"
      ]
     },
     "execution_count": 53,
     "metadata": {},
     "output_type": "execute_result"
    }
   ],
   "source": [
    "np.unique(arr,return_counts=True)"
   ]
  }
 ],
 "metadata": {
  "kernelspec": {
   "display_name": "Python 3",
   "language": "python",
   "name": "python3"
  },
  "language_info": {
   "codemirror_mode": {
    "name": "ipython",
    "version": 3
   },
   "file_extension": ".py",
   "mimetype": "text/x-python",
   "name": "python",
   "nbconvert_exporter": "python",
   "pygments_lexer": "ipython3",
   "version": "3.8.8"
  }
 },
 "nbformat": 4,
 "nbformat_minor": 5
}
