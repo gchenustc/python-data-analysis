{
 "cells": [
  {
   "cell_type": "code",
   "execution_count": 1,
   "id": "6d9af8ce",
   "metadata": {},
   "outputs": [],
   "source": [
    "from sklearn.decomposition import PCA"
   ]
  },
  {
   "cell_type": "code",
   "execution_count": 3,
   "id": "0c9d2ad6",
   "metadata": {},
   "outputs": [
    {
     "data": {
      "text/plain": [
       "array([[-4.10791918e+00,  2.43689517e-16, -8.32207039e-48],\n",
       "       [-4.10791918e+00, -6.26630187e-17,  4.43264003e-32],\n",
       "       [ 1.36930639e+00,  2.08876729e-17,  9.40340536e-33],\n",
       "       [ 6.84653197e+00,  1.04438365e-16,  2.47151591e-32]])"
      ]
     },
     "execution_count": 3,
     "metadata": {},
     "output_type": "execute_result"
    }
   ],
   "source": [
    "data=[\n",
    "    [1,2,3,4],\n",
    "    [1,2,3,4],\n",
    "    [2,4,6,8],\n",
    "    [3,6,9,12]\n",
    "]\n",
    "pca = PCA(n_components=3)\n",
    "pca.fit_transform(data)"
   ]
  },
  {
   "cell_type": "code",
   "execution_count": null,
   "id": "319814ed",
   "metadata": {},
   "outputs": [],
   "source": []
  }
 ],
 "metadata": {
  "kernelspec": {
   "display_name": "Python 3",
   "language": "python",
   "name": "python3"
  },
  "language_info": {
   "codemirror_mode": {
    "name": "ipython",
    "version": 3
   },
   "file_extension": ".py",
   "mimetype": "text/x-python",
   "name": "python",
   "nbconvert_exporter": "python",
   "pygments_lexer": "ipython3",
   "version": "3.8.8"
  }
 },
 "nbformat": 4,
 "nbformat_minor": 5
}
