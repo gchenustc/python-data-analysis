{
 "cells": [
  {
   "cell_type": "code",
   "execution_count": 3,
   "id": "cdd4d30d",
   "metadata": {},
   "outputs": [],
   "source": [
    "from sklearn.impute import SimpleImputer\n",
    "import numpy as np"
   ]
  },
  {
   "cell_type": "code",
   "execution_count": 5,
   "id": "d0f65897",
   "metadata": {
    "scrolled": true
   },
   "outputs": [
    {
     "data": {
      "text/plain": [
       "array([[1., 2.],\n",
       "       [5., 4.],\n",
       "       [9., 1.]])"
      ]
     },
     "execution_count": 5,
     "metadata": {},
     "output_type": "execute_result"
    }
   ],
   "source": [
    "data=[\n",
    "    [1,2],\n",
    "    [np.NAN,4],\n",
    "    [9,1]\n",
    "]\n",
    "si = SimpleImputer()\n",
    "# 默认是平均值strategy = mean\n",
    "si.fit_transform(data)"
   ]
  },
  {
   "cell_type": "code",
   "execution_count": 10,
   "id": "ffc5b0ae",
   "metadata": {},
   "outputs": [
    {
     "data": {
      "text/plain": [
       "array([[1, 2],\n",
       "       [20, 4],\n",
       "       [9, 1]], dtype=object)"
      ]
     },
     "execution_count": 10,
     "metadata": {},
     "output_type": "execute_result"
    }
   ],
   "source": [
    "# 指定缺失值时nan：missing_values=nan\n",
    "# 替换缺失值的策略：strategy = [mean,median,most_frequent,constant[fill_value]]\n",
    "data=[\n",
    "    [1,2],\n",
    "    [\"?\",4],\n",
    "    [9,1]\n",
    "]\n",
    "si1 = SimpleImputer(missing_values=\"?\",strategy=\"constant\",fill_value=20)\n",
    "si1.fit_transform(data)"
   ]
  },
  {
   "cell_type": "code",
   "execution_count": 11,
   "id": "8daf1538",
   "metadata": {},
   "outputs": [
    {
     "data": {
      "text/plain": [
       "array([[1, 2],\n",
       "       [9, 4],\n",
       "       [9, 1],\n",
       "       [9, 2]], dtype=object)"
      ]
     },
     "execution_count": 11,
     "metadata": {},
     "output_type": "execute_result"
    }
   ],
   "source": [
    "data=[\n",
    "    [1,2],\n",
    "    [\"?\",4],\n",
    "    [9,1],\n",
    "    [9,2]\n",
    "]\n",
    "si1 = SimpleImputer(missing_values=\"?\",strategy=\"most_frequent\")\n",
    "si1.fit_transform(data)"
   ]
  },
  {
   "cell_type": "code",
   "execution_count": null,
   "id": "1b7fae97",
   "metadata": {},
   "outputs": [],
   "source": []
  }
 ],
 "metadata": {
  "kernelspec": {
   "display_name": "Python 3",
   "language": "python",
   "name": "python3"
  },
  "language_info": {
   "codemirror_mode": {
    "name": "ipython",
    "version": 3
   },
   "file_extension": ".py",
   "mimetype": "text/x-python",
   "name": "python",
   "nbconvert_exporter": "python",
   "pygments_lexer": "ipython3",
   "version": "3.8.8"
  }
 },
 "nbformat": 4,
 "nbformat_minor": 5
}
