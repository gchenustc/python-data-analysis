{
 "cells": [
  {
   "cell_type": "code",
   "execution_count": 1,
   "id": "79b9b9c1",
   "metadata": {},
   "outputs": [],
   "source": [
    "import csv"
   ]
  },
  {
   "cell_type": "code",
   "execution_count": 2,
   "id": "56e23386",
   "metadata": {},
   "outputs": [],
   "source": [
    "header=[\"姓名\",\"身高\",\"体重\"]\n",
    "values=[\n",
    "    (\"张三\",180,200),\n",
    "    (\"李四\",174,130),\n",
    "    (\"王五\",120,190)\n",
    "]"
   ]
  },
  {
   "cell_type": "code",
   "execution_count": 3,
   "id": "3ea1df8e",
   "metadata": {},
   "outputs": [],
   "source": [
    "def write_csv_1():\n",
    "    with open(\"classroom.csv\",\"w\",encoding=\"GBK\",newline=\"\") as f:\n",
    "        writer=csv.writer(f)\n",
    "        writer.writerow(header)\n",
    "        writer.writerows(values)\n",
    "write_csv_1()"
   ]
  },
  {
   "cell_type": "code",
   "execution_count": 4,
   "id": "4eac6a64",
   "metadata": {},
   "outputs": [
    {
     "name": "stdout",
     "output_type": "stream",
     "text": [
      "{'身高': '身高', '体重': '体重'}\n",
      "{'身高': '180', '体重': '200'}\n",
      "{'身高': '174', '体重': '130'}\n",
      "{'身高': '120', '体重': '190'}\n"
     ]
    }
   ],
   "source": [
    "def read_csv_1():\n",
    "    with open(\"classroom.csv\",\"r\") as f:\n",
    "        reader=csv.reader(f)\n",
    "        for x in reader:\n",
    "            print({\"身高\":x[1],\"体重\":x[2]})\n",
    "read_csv_1()"
   ]
  },
  {
   "cell_type": "code",
   "execution_count": 13,
   "id": "82716165",
   "metadata": {},
   "outputs": [],
   "source": [
    "def write_csv_2():\n",
    "    header=[\"姓名\",\"身高\",\"体重\"]\n",
    "    values=[\n",
    "            {\"姓名\":\"张三\",\"身高\":180,\"体重\":200},\n",
    "            {\"姓名\":\"李四\",\"身高\":170,\"体重\":100}\n",
    "    ]\n",
    "    with open(\"classroom.csv\",\"w\",newline=\"\",encoding=\"GBK\") as f:\n",
    "        writer=csv.DictWriter(f,header)\n",
    "        writer.writeheader()\n",
    "        writer.writerows(values)\n",
    "write_csv_2()"
   ]
  },
  {
   "cell_type": "code",
   "execution_count": 18,
   "id": "9fe389b9",
   "metadata": {},
   "outputs": [
    {
     "name": "stdout",
     "output_type": "stream",
     "text": [
      "{'姓名': '张三', '体重': '200'}\n",
      "{'姓名': '李四', '体重': '100'}\n"
     ]
    }
   ],
   "source": [
    "with open(\"classroom.csv\",\"r\") as f:\n",
    "    reader=csv.DictReader(f)\n",
    "    for i in reader:\n",
    "        print({\"姓名\":i[\"姓名\"],\"体重\":i[\"体重\"]})"
   ]
  },
  {
   "cell_type": "code",
   "execution_count": null,
   "id": "0410984c",
   "metadata": {},
   "outputs": [],
   "source": []
  }
 ],
 "metadata": {
  "kernelspec": {
   "display_name": "Python 3",
   "language": "python",
   "name": "python3"
  },
  "language_info": {
   "codemirror_mode": {
    "name": "ipython",
    "version": 3
   },
   "file_extension": ".py",
   "mimetype": "text/x-python",
   "name": "python",
   "nbconvert_exporter": "python",
   "pygments_lexer": "ipython3",
   "version": "3.8.8"
  }
 },
 "nbformat": 4,
 "nbformat_minor": 5
}
