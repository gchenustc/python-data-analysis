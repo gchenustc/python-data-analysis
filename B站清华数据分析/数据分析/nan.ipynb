{
 "cells": [
  {
   "cell_type": "code",
   "execution_count": 1,
   "id": "dfdd579b",
   "metadata": {},
   "outputs": [],
   "source": [
    "import numpy as np"
   ]
  },
  {
   "cell_type": "code",
   "execution_count": 2,
   "id": "3d7ff329",
   "metadata": {},
   "outputs": [
    {
     "name": "stderr",
     "output_type": "stream",
     "text": [
      "<ipython-input-2-f5813032ff46>:1: DeprecationWarning: `np.str` is a deprecated alias for the builtin `str`. To silence this warning, use `str` by itself. Doing this will not modify any behavior and is safe. If you specifically wanted the numpy scalar type, use `np.str_` here.\n",
      "Deprecated in NumPy 1.20; for more details and guidance: https://numpy.org/devdocs/release/1.20.0-notes.html#deprecations\n",
      "  data = np.loadtxt(\"nan_scores.csv\",delimiter=\",\",skiprows=1,encoding=\"utf-8\",dtype=np.str)\n"
     ]
    }
   ],
   "source": [
    "data = np.loadtxt(\"nan_scores.csv\",delimiter=\",\",skiprows=1,encoding=\"utf-8\",dtype=np.str)"
   ]
  },
  {
   "cell_type": "code",
   "execution_count": 3,
   "id": "c16192be",
   "metadata": {},
   "outputs": [
    {
     "data": {
      "text/plain": [
       "array([['59', '89'],\n",
       "       ['90', '32'],\n",
       "       ['78', '45.5'],\n",
       "       ['34', ''],\n",
       "       ['', '56'],\n",
       "       ['23', '56']], dtype='<U4')"
      ]
     },
     "execution_count": 3,
     "metadata": {},
     "output_type": "execute_result"
    }
   ],
   "source": [
    "data"
   ]
  },
  {
   "cell_type": "code",
   "execution_count": 4,
   "id": "51656bd4",
   "metadata": {},
   "outputs": [
    {
     "data": {
      "text/plain": [
       "array([['59', '89'],\n",
       "       ['90', '32'],\n",
       "       ['78', '45.5'],\n",
       "       ['34', '0'],\n",
       "       ['0', '56'],\n",
       "       ['23', '56']], dtype='<U4')"
      ]
     },
     "execution_count": 4,
     "metadata": {},
     "output_type": "execute_result"
    }
   ],
   "source": [
    "data[data=='']=0\n",
    "data"
   ]
  },
  {
   "cell_type": "code",
   "execution_count": 5,
   "id": "58911058",
   "metadata": {},
   "outputs": [
    {
     "name": "stderr",
     "output_type": "stream",
     "text": [
      "<ipython-input-5-31b1b141de29>:1: DeprecationWarning: `np.float` is a deprecated alias for the builtin `float`. To silence this warning, use `float` by itself. Doing this will not modify any behavior and is safe. If you specifically wanted the numpy scalar type, use `np.float64` here.\n",
      "Deprecated in NumPy 1.20; for more details and guidance: https://numpy.org/devdocs/release/1.20.0-notes.html#deprecations\n",
      "  data=data.astype(np.float)\n"
     ]
    },
    {
     "data": {
      "text/plain": [
       "array([[59. , 89. ],\n",
       "       [90. , 32. ],\n",
       "       [78. , 45.5],\n",
       "       [34. ,  0. ],\n",
       "       [ 0. , 56. ],\n",
       "       [23. , 56. ]])"
      ]
     },
     "execution_count": 5,
     "metadata": {},
     "output_type": "execute_result"
    }
   ],
   "source": [
    "data=data.astype(np.float)\n",
    "data"
   ]
  },
  {
   "cell_type": "code",
   "execution_count": 6,
   "id": "28176537",
   "metadata": {},
   "outputs": [
    {
     "data": {
      "text/plain": [
       "array([[59. , 89. ],\n",
       "       [90. , 32. ],\n",
       "       [78. , 45.5],\n",
       "       [34. ,  nan],\n",
       "       [ nan, 56. ],\n",
       "       [23. , 56. ]])"
      ]
     },
     "execution_count": 6,
     "metadata": {},
     "output_type": "execute_result"
    }
   ],
   "source": [
    "data[data==0]=np.nan\n",
    "data"
   ]
  },
  {
   "cell_type": "code",
   "execution_count": 7,
   "id": "d7426999",
   "metadata": {},
   "outputs": [
    {
     "data": {
      "text/plain": [
       "array([3, 4], dtype=int64)"
      ]
     },
     "execution_count": 7,
     "metadata": {},
     "output_type": "execute_result"
    }
   ],
   "source": [
    "nan_line = np.where(np.isnan(data))[0]\n",
    "nan_line"
   ]
  },
  {
   "cell_type": "code",
   "execution_count": 8,
   "id": "8922be63",
   "metadata": {},
   "outputs": [
    {
     "data": {
      "text/plain": [
       "array([[59. , 89. ],\n",
       "       [90. , 32. ],\n",
       "       [78. , 45.5],\n",
       "       [23. , 56. ]])"
      ]
     },
     "execution_count": 8,
     "metadata": {},
     "output_type": "execute_result"
    }
   ],
   "source": [
    "np.delete(data,nan_line,axis=0)"
   ]
  },
  {
   "cell_type": "code",
   "execution_count": 9,
   "id": "e63a51ad",
   "metadata": {},
   "outputs": [
    {
     "data": {
      "text/plain": [
       "array([[59. , 89. ],\n",
       "       [90. , 32. ],\n",
       "       [78. , 45.5],\n",
       "       [34. ,  nan],\n",
       "       [ nan, 56. ],\n",
       "       [23. , 56. ]])"
      ]
     },
     "execution_count": 9,
     "metadata": {},
     "output_type": "execute_result"
    }
   ],
   "source": [
    "data1=data.copy()\n",
    "data1"
   ]
  },
  {
   "cell_type": "code",
   "execution_count": 10,
   "id": "8ae61c09",
   "metadata": {},
   "outputs": [
    {
     "name": "stdout",
     "output_type": "stream",
     "text": [
      "[59.  90.  78.  34.  56.8 23. ]\n",
      "[89.  32.  45.5 55.7 56.  56. ]\n"
     ]
    }
   ],
   "source": [
    "for i in range(data.shape[1]):\n",
    "    col = data[:,i]\n",
    "    mean = col[~np.isnan(col)].mean()\n",
    "    col[np.isnan(col)]=mean\n",
    "    print(col)"
   ]
  },
  {
   "cell_type": "code",
   "execution_count": 11,
   "id": "bdf22a17",
   "metadata": {},
   "outputs": [
    {
     "data": {
      "text/plain": [
       "array([[59. , 89. ],\n",
       "       [90. , 32. ],\n",
       "       [78. , 45.5],\n",
       "       [34. ,  nan],\n",
       "       [ nan, 56. ],\n",
       "       [23. , 56. ]])"
      ]
     },
     "execution_count": 11,
     "metadata": {},
     "output_type": "execute_result"
    }
   ],
   "source": [
    "data1"
   ]
  },
  {
   "cell_type": "code",
   "execution_count": null,
   "id": "6670c91e",
   "metadata": {},
   "outputs": [],
   "source": []
  }
 ],
 "metadata": {
  "kernelspec": {
   "display_name": "Python 3",
   "language": "python",
   "name": "python3"
  },
  "language_info": {
   "codemirror_mode": {
    "name": "ipython",
    "version": 3
   },
   "file_extension": ".py",
   "mimetype": "text/x-python",
   "name": "python",
   "nbconvert_exporter": "python",
   "pygments_lexer": "ipython3",
   "version": "3.8.8"
  }
 },
 "nbformat": 4,
 "nbformat_minor": 5
}
