{
 "cells": [
  {
   "cell_type": "code",
   "execution_count": 1,
   "id": "f8cd8099",
   "metadata": {},
   "outputs": [],
   "source": [
    "# 数据量较小用LineRegression，较大用SGDRegressor\n",
    "import numpy as np\n",
    "import pandas as pd\n",
    "from sklearn.datasets import load_boston\n",
    "from sklearn.linear_model import LinearRegression,SGDRegressor\n",
    "from sklearn.linear_model import Ridge\n",
    "# 对数据进行标准化\n",
    "from sklearn.preprocessing import StandardScaler\n",
    "from sklearn.model_selection import train_test_split\n",
    "# 方差和平均误差用来表征测试结果和真实结果的偏差\n",
    "from sklearn.metrics import mean_squared_error,mean_absolute_error"
   ]
  },
  {
   "cell_type": "markdown",
   "id": "ada60535",
   "metadata": {},
   "source": [
    "# 视频教学"
   ]
  },
  {
   "cell_type": "code",
   "execution_count": 2,
   "id": "943c0d2c",
   "metadata": {},
   "outputs": [
    {
     "data": {
      "text/plain": [
       "['DESCR', 'data', 'feature_names', 'filename', 'target']"
      ]
     },
     "execution_count": 2,
     "metadata": {},
     "output_type": "execute_result"
    }
   ],
   "source": [
    "# 波士顿房价\n",
    "boston_house_prise = load_boston()\n",
    "dir(boston_house_prise)"
   ]
  },
  {
   "cell_type": "code",
   "execution_count": 3,
   "id": "aa4cb1a2",
   "metadata": {},
   "outputs": [
    {
     "data": {
      "text/plain": [
       "array([[6.3200e-03, 1.8000e+01, 2.3100e+00, ..., 1.5300e+01, 3.9690e+02,\n",
       "        4.9800e+00],\n",
       "       [2.7310e-02, 0.0000e+00, 7.0700e+00, ..., 1.7800e+01, 3.9690e+02,\n",
       "        9.1400e+00],\n",
       "       [2.7290e-02, 0.0000e+00, 7.0700e+00, ..., 1.7800e+01, 3.9283e+02,\n",
       "        4.0300e+00],\n",
       "       ...,\n",
       "       [6.0760e-02, 0.0000e+00, 1.1930e+01, ..., 2.1000e+01, 3.9690e+02,\n",
       "        5.6400e+00],\n",
       "       [1.0959e-01, 0.0000e+00, 1.1930e+01, ..., 2.1000e+01, 3.9345e+02,\n",
       "        6.4800e+00],\n",
       "       [4.7410e-02, 0.0000e+00, 1.1930e+01, ..., 2.1000e+01, 3.9690e+02,\n",
       "        7.8800e+00]])"
      ]
     },
     "execution_count": 3,
     "metadata": {},
     "output_type": "execute_result"
    }
   ],
   "source": [
    "boston_house_prise.data"
   ]
  },
  {
   "cell_type": "code",
   "execution_count": 4,
   "id": "2f2f3ae5",
   "metadata": {},
   "outputs": [
    {
     "data": {
      "text/plain": [
       "array(['CRIM', 'ZN', 'INDUS', 'CHAS', 'NOX', 'RM', 'AGE', 'DIS', 'RAD',\n",
       "       'TAX', 'PTRATIO', 'B', 'LSTAT'], dtype='<U7')"
      ]
     },
     "execution_count": 4,
     "metadata": {},
     "output_type": "execute_result"
    }
   ],
   "source": [
    "boston_house_prise.feature_names"
   ]
  },
  {
   "cell_type": "code",
   "execution_count": 5,
   "id": "27ea4c56",
   "metadata": {},
   "outputs": [
    {
     "data": {
      "text/plain": [
       "'C:\\\\software\\\\Anaconda\\\\lib\\\\site-packages\\\\sklearn\\\\datasets\\\\data\\\\boston_house_prices.csv'"
      ]
     },
     "execution_count": 5,
     "metadata": {},
     "output_type": "execute_result"
    }
   ],
   "source": [
    "boston_house_prise.filename"
   ]
  },
  {
   "cell_type": "code",
   "execution_count": 6,
   "id": "d9c0a401",
   "metadata": {},
   "outputs": [
    {
     "data": {
      "text/plain": [
       "array([24. , 21.6, 34.7, 33.4, 36.2, 28.7, 22.9, 27.1, 16.5, 18.9, 15. ,\n",
       "       18.9, 21.7, 20.4, 18.2, 19.9, 23.1, 17.5, 20.2, 18.2, 13.6, 19.6,\n",
       "       15.2, 14.5, 15.6, 13.9, 16.6, 14.8, 18.4, 21. , 12.7, 14.5, 13.2,\n",
       "       13.1, 13.5, 18.9, 20. , 21. , 24.7, 30.8, 34.9, 26.6, 25.3, 24.7,\n",
       "       21.2, 19.3, 20. , 16.6, 14.4, 19.4, 19.7, 20.5, 25. , 23.4, 18.9,\n",
       "       35.4, 24.7, 31.6, 23.3, 19.6, 18.7, 16. , 22.2, 25. , 33. , 23.5,\n",
       "       19.4, 22. , 17.4, 20.9, 24.2, 21.7, 22.8, 23.4, 24.1, 21.4, 20. ,\n",
       "       20.8, 21.2, 20.3, 28. , 23.9, 24.8, 22.9, 23.9, 26.6, 22.5, 22.2,\n",
       "       23.6, 28.7, 22.6, 22. , 22.9, 25. , 20.6, 28.4, 21.4, 38.7, 43.8,\n",
       "       33.2, 27.5, 26.5, 18.6, 19.3, 20.1, 19.5, 19.5, 20.4, 19.8, 19.4,\n",
       "       21.7, 22.8, 18.8, 18.7, 18.5, 18.3, 21.2, 19.2, 20.4, 19.3, 22. ,\n",
       "       20.3, 20.5, 17.3, 18.8, 21.4, 15.7, 16.2, 18. , 14.3, 19.2, 19.6,\n",
       "       23. , 18.4, 15.6, 18.1, 17.4, 17.1, 13.3, 17.8, 14. , 14.4, 13.4,\n",
       "       15.6, 11.8, 13.8, 15.6, 14.6, 17.8, 15.4, 21.5, 19.6, 15.3, 19.4,\n",
       "       17. , 15.6, 13.1, 41.3, 24.3, 23.3, 27. , 50. , 50. , 50. , 22.7,\n",
       "       25. , 50. , 23.8, 23.8, 22.3, 17.4, 19.1, 23.1, 23.6, 22.6, 29.4,\n",
       "       23.2, 24.6, 29.9, 37.2, 39.8, 36.2, 37.9, 32.5, 26.4, 29.6, 50. ,\n",
       "       32. , 29.8, 34.9, 37. , 30.5, 36.4, 31.1, 29.1, 50. , 33.3, 30.3,\n",
       "       34.6, 34.9, 32.9, 24.1, 42.3, 48.5, 50. , 22.6, 24.4, 22.5, 24.4,\n",
       "       20. , 21.7, 19.3, 22.4, 28.1, 23.7, 25. , 23.3, 28.7, 21.5, 23. ,\n",
       "       26.7, 21.7, 27.5, 30.1, 44.8, 50. , 37.6, 31.6, 46.7, 31.5, 24.3,\n",
       "       31.7, 41.7, 48.3, 29. , 24. , 25.1, 31.5, 23.7, 23.3, 22. , 20.1,\n",
       "       22.2, 23.7, 17.6, 18.5, 24.3, 20.5, 24.5, 26.2, 24.4, 24.8, 29.6,\n",
       "       42.8, 21.9, 20.9, 44. , 50. , 36. , 30.1, 33.8, 43.1, 48.8, 31. ,\n",
       "       36.5, 22.8, 30.7, 50. , 43.5, 20.7, 21.1, 25.2, 24.4, 35.2, 32.4,\n",
       "       32. , 33.2, 33.1, 29.1, 35.1, 45.4, 35.4, 46. , 50. , 32.2, 22. ,\n",
       "       20.1, 23.2, 22.3, 24.8, 28.5, 37.3, 27.9, 23.9, 21.7, 28.6, 27.1,\n",
       "       20.3, 22.5, 29. , 24.8, 22. , 26.4, 33.1, 36.1, 28.4, 33.4, 28.2,\n",
       "       22.8, 20.3, 16.1, 22.1, 19.4, 21.6, 23.8, 16.2, 17.8, 19.8, 23.1,\n",
       "       21. , 23.8, 23.1, 20.4, 18.5, 25. , 24.6, 23. , 22.2, 19.3, 22.6,\n",
       "       19.8, 17.1, 19.4, 22.2, 20.7, 21.1, 19.5, 18.5, 20.6, 19. , 18.7,\n",
       "       32.7, 16.5, 23.9, 31.2, 17.5, 17.2, 23.1, 24.5, 26.6, 22.9, 24.1,\n",
       "       18.6, 30.1, 18.2, 20.6, 17.8, 21.7, 22.7, 22.6, 25. , 19.9, 20.8,\n",
       "       16.8, 21.9, 27.5, 21.9, 23.1, 50. , 50. , 50. , 50. , 50. , 13.8,\n",
       "       13.8, 15. , 13.9, 13.3, 13.1, 10.2, 10.4, 10.9, 11.3, 12.3,  8.8,\n",
       "        7.2, 10.5,  7.4, 10.2, 11.5, 15.1, 23.2,  9.7, 13.8, 12.7, 13.1,\n",
       "       12.5,  8.5,  5. ,  6.3,  5.6,  7.2, 12.1,  8.3,  8.5,  5. , 11.9,\n",
       "       27.9, 17.2, 27.5, 15. , 17.2, 17.9, 16.3,  7. ,  7.2,  7.5, 10.4,\n",
       "        8.8,  8.4, 16.7, 14.2, 20.8, 13.4, 11.7,  8.3, 10.2, 10.9, 11. ,\n",
       "        9.5, 14.5, 14.1, 16.1, 14.3, 11.7, 13.4,  9.6,  8.7,  8.4, 12.8,\n",
       "       10.5, 17.1, 18.4, 15.4, 10.8, 11.8, 14.9, 12.6, 14.1, 13. , 13.4,\n",
       "       15.2, 16.1, 17.8, 14.9, 14.1, 12.7, 13.5, 14.9, 20. , 16.4, 17.7,\n",
       "       19.5, 20.2, 21.4, 19.9, 19. , 19.1, 19.1, 20.1, 19.9, 19.6, 23.2,\n",
       "       29.8, 13.8, 13.3, 16.7, 12. , 14.6, 21.4, 23. , 23.7, 25. , 21.8,\n",
       "       20.6, 21.2, 19.1, 20.6, 15.2,  7. ,  8.1, 13.6, 20.1, 21.8, 24.5,\n",
       "       23.1, 19.7, 18.3, 21.2, 17.5, 16.8, 22.4, 20.6, 23.9, 22. , 11.9])"
      ]
     },
     "execution_count": 6,
     "metadata": {},
     "output_type": "execute_result"
    }
   ],
   "source": [
    "boston_house_prise.target"
   ]
  },
  {
   "cell_type": "code",
   "execution_count": 7,
   "id": "2ba70fd9",
   "metadata": {},
   "outputs": [],
   "source": [
    "# 标准化\n",
    "Std = StandardScaler()\n",
    "features = Std.fit_transform(boston_house_prise.data)"
   ]
  },
  {
   "cell_type": "code",
   "execution_count": 8,
   "id": "195a03e4",
   "metadata": {},
   "outputs": [],
   "source": [
    "# 切分数据\n",
    "x_train,x_test,y_train,y_test = train_test_split(features, boston_house_prise.target, test_size=0.25)"
   ]
  },
  {
   "cell_type": "code",
   "execution_count": 9,
   "id": "d50e0edc",
   "metadata": {},
   "outputs": [
    {
     "name": "stdout",
     "output_type": "stream",
     "text": [
      "方差 24.89170178903683\n",
      "平均误差 3.459116808919514\n",
      "[21.73007264 15.35347712 25.27338616 29.30305126 18.80863169 14.445525\n",
      " 37.4395967  24.98222621 17.76274349 23.3801525  24.1897083  17.31680238\n",
      " 31.11050816 17.05321408 32.36634982 22.48711429 32.43218175 17.97727572\n",
      " 33.66464484 30.43105894 30.98805844 39.90450255 36.89299662 37.7594718\n",
      " 27.7291418  34.91787386 13.86258736 15.17481203 29.03179139 26.4371856\n",
      " 24.00674532 28.38682963 12.75721648 11.62651528 23.40993337 14.90346055\n",
      " 34.01110873 34.11038106 25.05853851 29.26779487 28.2869779  28.46455352\n",
      " 27.00445273 15.53362449 17.14441601 26.75973736 27.4491343  27.83111946\n",
      " 22.35007661 22.16811084 21.43848738 33.49016934 22.76125806 20.62892036\n",
      "  6.20432003 21.76787353 34.88678364 26.73125943 17.08367799 24.70609002\n",
      " 30.66002391 11.51778317 18.96508834  8.36726061 16.22088719 20.83712978\n",
      " 22.32265916 26.89162363 29.35010351 22.84858959 22.69390321 17.73750718\n",
      " 35.50563582 17.35772724 23.61834258 12.72409107  8.11077792  8.80093797\n",
      " 25.2561178  29.66562296 32.62473047 12.75902985 21.08743742 18.40808325\n",
      "  8.99435478 25.57589354 33.30784777 34.54860643 20.54766863 22.95008409\n",
      " 18.81923904 24.91628569  9.8073818  14.11612047 19.31836309 15.41727016\n",
      " 37.24100039 32.41625312 26.98474056 23.49331256 25.09280917 21.16706579\n",
      " 15.68847995 16.23643455 35.37596794 15.73345764  9.01396382 23.93194405\n",
      " 18.25266822 18.56741009 17.75612253 16.87977986 25.85589358 19.14308251\n",
      " 35.80621183 24.72410843 16.99679739 21.81154044 28.88120458 25.43436801\n",
      " 14.51894163 16.97759023 37.53269072 17.24948469 28.52570787 28.20504006\n",
      " 25.46914692]\n"
     ]
    }
   ],
   "source": [
    "# LinearRegression训练\n",
    "lr = LinearRegression()\n",
    "lr.fit(x_train,y_train)\n",
    "test_predict = lr.predict(x_test)\n",
    "# 查看数据误差\n",
    "print(\"方差\",mean_squared_error(y_test,test_predict))\n",
    "print(\"平均误差\",mean_absolute_error(y_test,test_predict))\n",
    "print(test_predict)"
   ]
  },
  {
   "cell_type": "code",
   "execution_count": 10,
   "id": "7c74581e",
   "metadata": {},
   "outputs": [
    {
     "name": "stdout",
     "output_type": "stream",
     "text": [
      "方差 24.690891553511555\n",
      "平均误差 3.3924993343564407\n"
     ]
    }
   ],
   "source": [
    "# SGDRegressor训练\n",
    "sgd = SGDRegressor()\n",
    "sgd.fit(x_train,y_train)\n",
    "test_predict = sgd.predict(x_test)\n",
    "print(\"方差\",mean_squared_error(y_test, test_predict))\n",
    "print(\"平均误差\",mean_absolute_error(y_test, test_predict))"
   ]
  },
  {
   "cell_type": "code",
   "execution_count": 11,
   "id": "7361ba21",
   "metadata": {},
   "outputs": [
    {
     "name": "stdout",
     "output_type": "stream",
     "text": [
      "方差 24.44268638787371\n",
      "平均误差 3.3228685292545626\n",
      "[-0.89620759  0.8369174  -0.47955859  0.80401623 -1.36445359  2.82345638\n",
      " -0.32832962 -2.92678015  1.73936322 -1.43934939 -1.8309996   0.62130061\n",
      " -3.260403  ]\n",
      "22.57212337171261\n",
      "[-0.01450413  0.01278299 -0.01740259  0.00528348 -0.01404667  0.02407954\n",
      " -0.0127212   0.00807312 -0.01362592 -0.0167739  -0.01921732  0.01145505\n",
      " -0.02478292]\n",
      "22.342363392022342\n"
     ]
    }
   ],
   "source": [
    "# 岭回归\n",
    "ridge = Ridge(alpha=20)\n",
    "ridge.fit(x_train, y_train)\n",
    "test_predict = ridge.predict(x_test)\n",
    "print(\"方差\",mean_squared_error(y_test, test_predict))\n",
    "print(\"平均误差\",mean_absolute_error(y_test, test_predict))\n",
    "# 每个特征值的sita值以及偏移量\n",
    "print(ridge.coef_)\n",
    "print(ridge.intercept_)\n",
    "\n",
    "#对比\n",
    "# 岭回归\n",
    "ridge = Ridge(alpha=100000)\n",
    "ridge.fit(x_train, y_train)\n",
    "# 每个特征值的sita值以及偏移量\n",
    "print(ridge.coef_)\n",
    "print(ridge.intercept_)"
   ]
  },
  {
   "cell_type": "markdown",
   "id": "890055f5",
   "metadata": {},
   "source": [
    "# 实例"
   ]
  },
  {
   "cell_type": "code",
   "execution_count": 12,
   "id": "d8876b82",
   "metadata": {},
   "outputs": [
    {
     "data": {
      "text/html": [
       "<div>\n",
       "<style scoped>\n",
       "    .dataframe tbody tr th:only-of-type {\n",
       "        vertical-align: middle;\n",
       "    }\n",
       "\n",
       "    .dataframe tbody tr th {\n",
       "        vertical-align: top;\n",
       "    }\n",
       "\n",
       "    .dataframe thead th {\n",
       "        text-align: right;\n",
       "    }\n",
       "</style>\n",
       "<table border=\"1\" class=\"dataframe\">\n",
       "  <thead>\n",
       "    <tr style=\"text-align: right;\">\n",
       "      <th></th>\n",
       "      <th>0</th>\n",
       "      <th>1</th>\n",
       "      <th>2</th>\n",
       "      <th>3</th>\n",
       "      <th>4</th>\n",
       "      <th>5</th>\n",
       "      <th>6</th>\n",
       "      <th>7</th>\n",
       "      <th>8</th>\n",
       "      <th>9</th>\n",
       "      <th>10</th>\n",
       "      <th>11</th>\n",
       "      <th>12</th>\n",
       "      <th>13</th>\n",
       "      <th>14</th>\n",
       "      <th>15</th>\n",
       "      <th>16</th>\n",
       "      <th>17</th>\n",
       "    </tr>\n",
       "  </thead>\n",
       "  <tbody>\n",
       "    <tr>\n",
       "      <th>0</th>\n",
       "      <td>pressure</td>\n",
       "      <td>2.628</td>\n",
       "      <td>2.6381</td>\n",
       "      <td>2.6382</td>\n",
       "      <td>2.6383</td>\n",
       "      <td>2.6384</td>\n",
       "      <td>2.832</td>\n",
       "      <td>2.8321</td>\n",
       "      <td>2.833</td>\n",
       "      <td>2.852</td>\n",
       "      <td>3.679</td>\n",
       "      <td>3.6791</td>\n",
       "      <td>5.233</td>\n",
       "      <td>5.234</td>\n",
       "      <td>5.338</td>\n",
       "      <td>5.3381</td>\n",
       "      <td>6.526</td>\n",
       "      <td>6.723</td>\n",
       "    </tr>\n",
       "    <tr>\n",
       "      <th>1</th>\n",
       "      <td>2.566</td>\n",
       "      <td>132.176</td>\n",
       "      <td>122.4610</td>\n",
       "      <td>126.5820</td>\n",
       "      <td>122.5210</td>\n",
       "      <td>126.4980</td>\n",
       "      <td>136.069</td>\n",
       "      <td>136.1530</td>\n",
       "      <td>141.594</td>\n",
       "      <td>121.314</td>\n",
       "      <td>110.162</td>\n",
       "      <td>110.2780</td>\n",
       "      <td>180.890</td>\n",
       "      <td>180.607</td>\n",
       "      <td>185.526</td>\n",
       "      <td>185.3070</td>\n",
       "      <td>247.908</td>\n",
       "      <td>252.148</td>\n",
       "    </tr>\n",
       "  </tbody>\n",
       "</table>\n",
       "</div>"
      ],
      "text/plain": [
       "         0        1         2         3         4         5        6   \\\n",
       "0  pressure    2.628    2.6381    2.6382    2.6383    2.6384    2.832   \n",
       "1     2.566  132.176  122.4610  126.5820  122.5210  126.4980  136.069   \n",
       "\n",
       "         7        8        9        10        11       12       13       14  \\\n",
       "0    2.8321    2.833    2.852    3.679    3.6791    5.233    5.234    5.338   \n",
       "1  136.1530  141.594  121.314  110.162  110.2780  180.890  180.607  185.526   \n",
       "\n",
       "         15       16       17  \n",
       "0    5.3381    6.526    6.723  \n",
       "1  185.3070  247.908  252.148  "
      ]
     },
     "execution_count": 12,
     "metadata": {},
     "output_type": "execute_result"
    }
   ],
   "source": [
    "data = pd.read_excel(\"data/pv_ppv_pressure.xls\",header=None)\n",
    "data.head(2)"
   ]
  },
  {
   "cell_type": "code",
   "execution_count": 13,
   "id": "9696c3f7",
   "metadata": {},
   "outputs": [
    {
     "data": {
      "text/html": [
       "<div>\n",
       "<style scoped>\n",
       "    .dataframe tbody tr th:only-of-type {\n",
       "        vertical-align: middle;\n",
       "    }\n",
       "\n",
       "    .dataframe tbody tr th {\n",
       "        vertical-align: top;\n",
       "    }\n",
       "\n",
       "    .dataframe thead th {\n",
       "        text-align: right;\n",
       "    }\n",
       "</style>\n",
       "<table border=\"1\" class=\"dataframe\">\n",
       "  <thead>\n",
       "    <tr style=\"text-align: right;\">\n",
       "      <th></th>\n",
       "      <th>pv</th>\n",
       "      <th>ppv</th>\n",
       "      <th>pressure</th>\n",
       "    </tr>\n",
       "  </thead>\n",
       "  <tbody>\n",
       "    <tr>\n",
       "      <th>0</th>\n",
       "      <td>2.566</td>\n",
       "      <td>2.6280</td>\n",
       "      <td>132.176</td>\n",
       "    </tr>\n",
       "    <tr>\n",
       "      <th>1</th>\n",
       "      <td>2.566</td>\n",
       "      <td>2.6381</td>\n",
       "      <td>122.461</td>\n",
       "    </tr>\n",
       "    <tr>\n",
       "      <th>2</th>\n",
       "      <td>2.566</td>\n",
       "      <td>2.6382</td>\n",
       "      <td>126.582</td>\n",
       "    </tr>\n",
       "    <tr>\n",
       "      <th>3</th>\n",
       "      <td>2.566</td>\n",
       "      <td>2.6383</td>\n",
       "      <td>122.521</td>\n",
       "    </tr>\n",
       "    <tr>\n",
       "      <th>4</th>\n",
       "      <td>2.566</td>\n",
       "      <td>2.6384</td>\n",
       "      <td>126.498</td>\n",
       "    </tr>\n",
       "  </tbody>\n",
       "</table>\n",
       "</div>"
      ],
      "text/plain": [
       "      pv     ppv  pressure\n",
       "0  2.566  2.6280   132.176\n",
       "1  2.566  2.6381   122.461\n",
       "2  2.566  2.6382   126.582\n",
       "3  2.566  2.6383   122.521\n",
       "4  2.566  2.6384   126.498"
      ]
     },
     "execution_count": 13,
     "metadata": {},
     "output_type": "execute_result"
    }
   ],
   "source": [
    "# 数据处理\n",
    "data_new = pd.DataFrame()\n",
    "columns={\"pv\":np.nan,\"ppv\":np.nan,\"pressure\":np.nan}\n",
    "data_new.append(columns,ignore_index=True)\n",
    "for index in list(data.index)[1:]:\n",
    "    for column in list(data.columns)[1:]:\n",
    "        pv = data.loc[index,data.columns[0]]\n",
    "        ppv = data.loc[data.index[0],column]\n",
    "        pressure = data.loc[index,column]\n",
    "        every_line_data = pd.DataFrame({\"pv\":[pv],\"ppv\":[ppv],\"pressure\":[pressure]})\n",
    "        data_new = pd.concat([data_new,every_line_data])\n",
    "data_new = data_new.reset_index()\n",
    "data_new.drop(\"index\",axis=\"columns\",inplace=True)\n",
    "data_new.head()"
   ]
  },
  {
   "cell_type": "code",
   "execution_count": 14,
   "id": "43447a24",
   "metadata": {},
   "outputs": [
    {
     "data": {
      "text/plain": [
       "(        pv     ppv\n",
       " 0    2.566  2.6280\n",
       " 1    2.566  2.6381\n",
       " 2    2.566  2.6382\n",
       " 3    2.566  2.6383\n",
       " 4    2.566  2.6384\n",
       " ..     ...     ...\n",
       " 335  5.406  5.2340\n",
       " 336  5.406  5.3380\n",
       " 337  5.406  5.3381\n",
       " 338  5.406  6.5260\n",
       " 339  5.406  6.7230\n",
       " \n",
       " [340 rows x 2 columns],\n",
       " array([132.176, 122.461, 126.582, 122.521, 126.498, 136.069, 136.153,\n",
       "        141.594, 121.314, 110.162, 110.278, 180.89 , 180.607, 185.526,\n",
       "        185.307, 247.908, 252.148, 132.054, 122.582, 126.606, 122.64 ,\n",
       "        126.525, 135.844, 135.922, 141.272, 121.467, 110.478, 110.594,\n",
       "        181.44 , 181.152, 186.119, 185.903, 248.123, 252.54 , 133.853,\n",
       "        123.707, 128.064, 123.767, 128.   , 137.879, 137.992, 143.688,\n",
       "        122.562, 110.987, 111.115, 184.704, 184.397, 189.448, 189.258,\n",
       "        254.241, 258.631, 133.628, 123.563, 127.879, 123.624, 127.813,\n",
       "        137.625, 137.734, 143.454, 122.422, 111.057, 111.183, 184.855,\n",
       "        184.545, 189.642, 189.452, 253.676, 258.073, 125.939, 116.857,\n",
       "        120.365, 116.897, 120.189, 129.834, 129.831, 135.306, 115.673,\n",
       "        104.557, 104.616, 173.336, 173.037, 177.754, 177.488, 238.443,\n",
       "        242.78 , 129.857, 120.38 , 124.312, 120.441, 124.196, 133.721,\n",
       "        133.771, 139.132, 119.224, 108.13 , 108.225, 177.92 , 177.642,\n",
       "        182.453, 182.207, 244.124, 248.284, 129.802, 120.564, 240.785,\n",
       "        182.984, 108.524, 124.406, 124.294, 138.826, 119.422, 108.427,\n",
       "        120.624, 133.561, 133.608, 178.34 , 178.062, 212.502, 213.614,\n",
       "        125.318, 116.402, 119.867, 116.439, 119.697, 129.131, 129.118,\n",
       "        134.489, 115.208, 104.049, 104.103, 171.917, 171.61 , 176.351,\n",
       "        176.074, 235.741, 240.12 , 125.223, 116.503, 119.904, 116.54 ,\n",
       "        119.738, 128.942, 128.927, 134.168, 115.334, 104.395, 104.451,\n",
       "        172.188, 171.883, 176.619, 176.344, 235.184, 239.662, 131.869,\n",
       "        121.97 , 126.147, 122.031, 126.055, 135.853, 135.936, 141.494,\n",
       "        120.783, 109.364, 109.474, 181.621, 181.331, 186.309, 186.094,\n",
       "        249.598, 253.854, 121.633, 113.13 , 116.305, 113.146, 116.15 ,\n",
       "        125.478, 125.413, 130.896, 111.899, 100.748, 100.768, 167.652,\n",
       "        167.324, 172.129, 171.822, 230.632, 234.982, 121.524, 113.177,\n",
       "        116.301, 113.193, 116.149, 125.28 , 125.214, 130.574, 111.967,\n",
       "        101.002, 101.024, 167.73 , 167.404, 172.183, 171.877, 230.058,\n",
       "        234.366, 121.717, 113.365, 116.489, 113.382, 116.336, 125.506,\n",
       "        125.443, 130.847, 112.162, 101.251, 101.275, 166.919, 166.592,\n",
       "        171.329, 171.02 , 228.503, 232.807, 116.432, 108.699, 111.403,\n",
       "        108.688, 111.272, 119.965, 119.838, 125.157, 107.455,  96.882,\n",
       "         96.905, 159.11 , 158.806, 163.449, 163.089, 217.685, 221.484,\n",
       "        116.453, 108.863, 111.526, 108.853, 111.396, 119.914, 119.79 ,\n",
       "        125.038, 107.644,  97.146,  97.168, 159.562, 159.237, 163.899,\n",
       "        163.548, 217.165, 220.836, 112.718, 105.324, 107.744, 105.293,\n",
       "        107.627, 116.179, 116.118, 121.252, 104.044,  93.713,  93.748,\n",
       "        154.722, 154.497, 158.791, 158.476, 212.506, 216.085, 100.125,\n",
       "         94.606,  95.94 ,  94.59 ,  95.85 , 103.15 , 103.3  , 107.952,\n",
       "         93.27 ,  83.919,  83.986, 136.354, 136.393, 139.952, 140.087,\n",
       "        186.545, 189.605, 100.321,  94.763,  96.113,  94.746,  96.022,\n",
       "        103.296, 103.442, 108.016,  93.427,  84.046,  84.113, 136.074,\n",
       "        136.112, 139.646, 139.778, 186.804, 189.913,  99.606,  94.137,\n",
       "         95.436,  94.124,  95.344, 102.549, 102.707, 107.294,  92.79 ,\n",
       "         83.459,  83.527, 135.2  , 135.239, 138.753, 138.884, 185.864,\n",
       "        188.962,  99.439,  93.971,  95.261,  93.959,  95.168, 102.397,\n",
       "        102.559, 107.205,  92.617,  83.272,  83.34 , 135.42 , 135.459,\n",
       "        139.005, 139.137, 185.445, 188.496]))"
      ]
     },
     "execution_count": 14,
     "metadata": {},
     "output_type": "execute_result"
    }
   ],
   "source": [
    "# 分类\n",
    "features = data_new.drop(\"pressure\",axis=1)\n",
    "target_pre = data_new[\"pressure\"]\n",
    "# 将target转为一维数组\n",
    "target = np.array(target_pre)\n",
    "features,target"
   ]
  },
  {
   "cell_type": "code",
   "execution_count": 15,
   "id": "f7391ddd",
   "metadata": {},
   "outputs": [],
   "source": [
    "# 标准化\n",
    "std = StandardScaler()\n",
    "features = std.fit_transform(features)"
   ]
  },
  {
   "cell_type": "code",
   "execution_count": 16,
   "id": "9a18f799",
   "metadata": {},
   "outputs": [],
   "source": [
    "# 切分\n",
    "x_train,x_test,y_train,y_test = train_test_split(features, target, train_size=0.60)"
   ]
  },
  {
   "cell_type": "code",
   "execution_count": 17,
   "id": "9e0f0b7d",
   "metadata": {},
   "outputs": [],
   "source": [
    "# LinearRegression训练\n",
    "lr = LinearRegression()\n",
    "lr.fit(x_train,y_train)\n",
    "test_predict = lr.predict(x_test)"
   ]
  },
  {
   "cell_type": "code",
   "execution_count": 18,
   "id": "55bd45e7",
   "metadata": {},
   "outputs": [
    {
     "data": {
      "text/plain": [
       "(13.906745773971338, 328.53767484491823)"
      ]
     },
     "execution_count": 18,
     "metadata": {},
     "output_type": "execute_result"
    }
   ],
   "source": [
    "# 计算test误差\n",
    "mean_absolute_error(y_test,test_predict),mean_squared_error(y_test,test_predict)"
   ]
  },
  {
   "cell_type": "code",
   "execution_count": 19,
   "id": "3bd1a9ef",
   "metadata": {},
   "outputs": [
    {
     "data": {
      "text/plain": [
       "(13.898778579414966, 328.4797332565907)"
      ]
     },
     "execution_count": 19,
     "metadata": {},
     "output_type": "execute_result"
    }
   ],
   "source": [
    "# SGDRegressor训练\n",
    "SGD = SGDRegressor()\n",
    "SGD.fit(x_train,y_train)\n",
    "test_predict = SGD.predict(x_test)\n",
    "# 计算test误差\n",
    "mean_absolute_error(y_test,test_predict),mean_squared_error(y_test,test_predict)"
   ]
  },
  {
   "cell_type": "code",
   "execution_count": 27,
   "id": "8546c465",
   "metadata": {},
   "outputs": [
    {
     "name": "stdout",
     "output_type": "stream",
     "text": [
      "r2 0.810043529123269\n"
     ]
    },
    {
     "data": {
      "text/plain": [
       "(13.867677436935113, 328.18012759660076)"
      ]
     },
     "execution_count": 27,
     "metadata": {},
     "output_type": "execute_result"
    }
   ],
   "source": [
    "from sklearn.metrics import r2_score,mean_absolute_error\n",
    "# Ridge训练\n",
    "ridge = Ridge()\n",
    "ridge.fit(x_train,y_train)\n",
    "test_predict = ridge.predict(x_test)\n",
    "# 计算test误差\n",
    "print(\"r2\",r2_score(y_test,test_predict))\n",
    "mean_absolute_error(y_test,test_predict),mean_squared_error(y_test,test_predict)"
   ]
  },
  {
   "cell_type": "code",
   "execution_count": 21,
   "id": "77825ca0",
   "metadata": {},
   "outputs": [],
   "source": [
    "data = [[2.5,2.5],[2.5,3],[2.5,3.5],[2.5,4],[2.5,4.5],[2.5,5]]"
   ]
  },
  {
   "cell_type": "code",
   "execution_count": 22,
   "id": "a5a6403e",
   "metadata": {},
   "outputs": [],
   "source": [
    "data = std.fit_transform(data)"
   ]
  },
  {
   "cell_type": "code",
   "execution_count": 23,
   "id": "54a31a3c",
   "metadata": {},
   "outputs": [
    {
     "data": {
      "text/plain": [
       "array([ 88.96369936, 109.53871078, 130.11372219, 150.6887336 ,\n",
       "       171.26374502, 191.83875643])"
      ]
     },
     "execution_count": 23,
     "metadata": {},
     "output_type": "execute_result"
    }
   ],
   "source": [
    "lr.predict(data)"
   ]
  },
  {
   "cell_type": "code",
   "execution_count": null,
   "id": "de668806",
   "metadata": {},
   "outputs": [],
   "source": []
  }
 ],
 "metadata": {
  "kernelspec": {
   "display_name": "Python 3",
   "language": "python",
   "name": "python3"
  },
  "language_info": {
   "codemirror_mode": {
    "name": "ipython",
    "version": 3
   },
   "file_extension": ".py",
   "mimetype": "text/x-python",
   "name": "python",
   "nbconvert_exporter": "python",
   "pygments_lexer": "ipython3",
   "version": "3.8.8"
  }
 },
 "nbformat": 4,
 "nbformat_minor": 5
}
